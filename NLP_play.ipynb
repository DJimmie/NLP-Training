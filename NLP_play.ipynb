{
 "cells": [
  {
   "cell_type": "markdown",
   "metadata": {},
   "source": [
    "# Dependancies"
   ]
  },
  {
   "cell_type": "code",
   "execution_count": 535,
   "metadata": {
    "ExecuteTime": {
     "end_time": "2019-10-20T19:11:32.683324Z",
     "start_time": "2019-10-20T19:11:32.659323Z"
    }
   },
   "outputs": [],
   "source": [
    "import nltk\n",
    "from nltk.corpus import treebank\n",
    "from nltk.corpus import stopwords\n",
    "from nltk.tokenize import sent_tokenize\n",
    "from nltk.corpus import wordnet\n",
    "from nltk import ne_chunk\n",
    "from textblob import TextBlob\n",
    "from textblob import Word as wn\n",
    "from textblob.wordnet import VERB\n",
    "from textblob.wordnet import Synset\n",
    "from textblob.np_extractors import ConllExtractor\n",
    "from textblob.taggers import NLTKTagger\n",
    "\n",
    "\n",
    "import re\n",
    "import urllib.request\n",
    "from bs4 import BeautifulSoup\n",
    "import requests\n",
    "import os"
   ]
  },
  {
   "cell_type": "markdown",
   "metadata": {},
   "source": [
    "# Classes"
   ]
  },
  {
   "cell_type": "markdown",
   "metadata": {},
   "source": [
    "## NLP Analysis of Text"
   ]
  },
  {
   "cell_type": "code",
   "execution_count": 536,
   "metadata": {
    "ExecuteTime": {
     "end_time": "2019-10-20T19:11:33.530373Z",
     "start_time": "2019-10-20T19:11:33.007343Z"
    },
    "collapsed": true
   },
   "outputs": [],
   "source": [
    "class NLP_My_Words():\n",
    "    \"\"\"Tokenize and analyize text\"\"\"\n",
    "    def __init__(self,text,case='y'):\n",
    "        \n",
    "        if (case!='y'):\n",
    "            self.text=text\n",
    "        else:\n",
    "            self.text=text.lower()\n",
    "        \n",
    "        raw_word_count=len(self.text.split())\n",
    "        print(f'Raw text word count: {raw_word_count}\\n')\n",
    "        self.tokenization()\n",
    "        \n",
    "    def tokenization(self):\n",
    "        \"\"\"Tokenization\"\"\"\n",
    "        self.tokens = nltk.word_tokenize(self.text)\n",
    "        punctuation=re.compile(r'[-.?!,:;()|=/*\"><\\{}$&]')\n",
    "\n",
    "        post_punctuation=[]\n",
    "        for words in self.tokens:\n",
    "            word=punctuation.sub('',words)\n",
    "            if len(word)>0:\n",
    "                post_punctuation.append(word)\n",
    "\n",
    "        self.tokens=post_punctuation\n",
    "\n",
    "        self.nltk_text=nltk.Text(self.tokens)\n",
    "        \n",
    "        self.remove_stop_words()\n",
    "\n",
    "\n",
    "    def sentenance_tokenization(self):\n",
    "        \"\"\"Sentenance Tokenization\"\"\"\n",
    "    \n",
    "        self.sentenance_tokens=sent_tokenize(self.text)\n",
    "\n",
    "        return self.sentenance_tokens\n",
    "    \n",
    "    \n",
    "    def word_freq(self):\n",
    "        \"\"\"Word Frequency\"\"\"\n",
    "    \n",
    "        freq = nltk.FreqDist(self.tokens)\n",
    "\n",
    "        for key,val in freq.items():\n",
    "\n",
    "            print (str(key) + ':' + str(val))\n",
    "\n",
    "        freq.plot(30, cumulative=False)\n",
    "        \n",
    "        self.words_tagged()\n",
    "        \n",
    "    def remove_stop_words(self):\n",
    "        \"\"\"Stop Words\"\"\"\n",
    "    \n",
    "        clean_tokens = self.tokens[:]\n",
    "\n",
    "        sr = stopwords.words('english')\n",
    "\n",
    "        for token in self.tokens:\n",
    "\n",
    "            if token in stopwords.words('english'):\n",
    "\n",
    "                clean_tokens.remove(token)\n",
    "        self.tokens=clean_tokens\n",
    "        self.sorted_tokens=sorted(set(self.tokens))\n",
    "        num_words=len(self.tokens)\n",
    "        print(f'Tokens: {self.tokens}\\n')\n",
    "        print(f'Tokens (sorted):{self.sorted_tokens}\\n')\n",
    "        print(f'Word count following stop words: {num_words}\\n')\n",
    "        self.word_freq()\n",
    "    \n",
    "    \n",
    "    def words_tagged(self):\n",
    "        \"\"\"Word Tagging\"\"\"\n",
    "    \n",
    "        self.tagged = nltk.pos_tag(self.tokens)\n",
    "#         tagged[0:6]\n",
    "\n",
    "        print(f'Word Tags:{self.tagged}\\n')\n",
    "    \n",
    "        self.Named_Entity_Recognition()\n",
    "    \n",
    "    \n",
    "    def Named_Entity_Recognition(self):\n",
    "        \"\"\"Named Entity Recognition\"\"\"\n",
    "        \n",
    "        self.NER = ne_chunk(self.tagged)\n",
    "        print(f'Named Entity Recognition:\\n{self.NER}')\n",
    "    \n",
    "    def lexical_diversity(self):\n",
    "        \"\"\"Percentage of word occurance\"\"\"\n",
    "        \n",
    "        lex_div=len(set(self.tokens))/len(self.tokens)\n",
    "        print(f'Lexical Diversity:{(lex_div)*100}\\n')\n",
    "        \n",
    "        "
   ]
  },
  {
   "cell_type": "markdown",
   "metadata": {},
   "source": [
    "## Scrapping Websites"
   ]
  },
  {
   "cell_type": "code",
   "execution_count": 537,
   "metadata": {
    "ExecuteTime": {
     "end_time": "2019-10-20T19:11:33.620378Z",
     "start_time": "2019-10-20T19:11:33.533373Z"
    },
    "collapsed": true
   },
   "outputs": [],
   "source": [
    "class Web_Scrapping():\n",
    "    \"\"\"Web Scrapping\"\"\"\n",
    "    \n",
    "    def __init__(self,site):\n",
    "        self.site=site\n",
    "        self.web_scrape_html()\n",
    "      \n",
    "    def web_scrape_html(self):\n",
    "        \"\"\"Retrieve site html\"\"\"\n",
    "    \n",
    "        import urllib.request\n",
    "\n",
    "        response = urllib.request.urlopen(self.site)\n",
    "\n",
    "        self.html = response.read()\n",
    "\n",
    "    #     print (html)\n",
    "\n",
    "        self.web_scrape_text()\n",
    "    \n",
    "    def web_scrape_text(self):\n",
    "        \"\"\"Return text from the site\"\"\"\n",
    "        \n",
    "        from bs4 import BeautifulSoup\n",
    "\n",
    "        soup = BeautifulSoup(self.html,\"html5lib\")\n",
    "\n",
    "        self.text = soup.get_text(strip=True)\n",
    "        \n",
    "#       print(self.text)\n",
    "\n",
    "        self.analysis_of_site_text()\n",
    "    \n",
    "    def analysis_of_site_text(self):\n",
    "        \"\"\"Call NLP Analysis class\"\"\"\n",
    "        analysis=NLP_My_Words(self.text)\n",
    "        \n",
    "        \n",
    "    "
   ]
  },
  {
   "cell_type": "markdown",
   "metadata": {},
   "source": [
    "## Wordnet"
   ]
  },
  {
   "cell_type": "code",
   "execution_count": 538,
   "metadata": {
    "ExecuteTime": {
     "end_time": "2019-10-20T19:11:33.784387Z",
     "start_time": "2019-10-20T19:11:33.715383Z"
    },
    "collapsed": true
   },
   "outputs": [],
   "source": [
    "class Wordnet_Stuff():\n",
    "    \n",
    "    def __init__(self,word):\n",
    "        self.word=word\n",
    "        print(f'The word is:{self.word}\\n')\n",
    "        self.definitions()\n",
    "        self.syn_lem()\n",
    "        self.synonym()\n",
    "    def definitions(self):\n",
    "        \"\"\"Definition of the word\"\"\"\n",
    "        from nltk.corpus import wordnet\n",
    "\n",
    "        syn = wordnet.synsets(self.word)\n",
    "        print(f'Definition:{syn[0].definition()}\\n')\n",
    "        \n",
    "    def syn_lem(self):\n",
    "        \n",
    "        from nltk.corpus import wordnet\n",
    "\n",
    "        synonyms = []\n",
    "        for syn in wordnet.synsets(self.word):\n",
    "\n",
    "            for lemma in syn.lemmas():\n",
    "\n",
    "                synonyms.append(lemma.name())\n",
    "\n",
    "        print(f'sny_lem:{synonyms}\\n')\n",
    "        \n",
    "    def synonym(self):\n",
    "    \n",
    "        from nltk.corpus import wordnet\n",
    "\n",
    "        syn = wordnet.synsets(self.word)\n",
    "\n",
    "        print(f'syn Definition:{syn[0].definition()}\\n')\n",
    "\n",
    "        print(f'syn Examples:{syn[0].examples()}\\n')\n"
   ]
  },
  {
   "cell_type": "markdown",
   "metadata": {},
   "source": [
    "## TextBlog"
   ]
  },
  {
   "cell_type": "code",
   "execution_count": 539,
   "metadata": {
    "ExecuteTime": {
     "end_time": "2019-10-20T19:11:33.952397Z",
     "start_time": "2019-10-20T19:11:33.907394Z"
    },
    "collapsed": true
   },
   "outputs": [],
   "source": [
    "class Sentiment():\n",
    "    \"\"\"Conduct sentiment scores\"\"\"\n",
    "    \n",
    "    def __init__(self,text):\n",
    "        self.text=text\n",
    "        self.perform_sentiment()\n",
    "    \n",
    "    def call_sentenance_tokens(self):\n",
    "        \"\"\"option\"\"\"\n",
    "        pass\n",
    "    \n",
    "    def perform_sentiment(self):\n",
    "        \n",
    "        TextBlob(self.text).sentiment\n",
    "        \n",
    "        pol=lambda x: TextBlob(self.text).sentiment.polarity\n",
    "        subj=lambda x: TextBlob(self.text).sentiment.subjectivity\n",
    "        \n",
    "        the_polarity=pol(self.text)\n",
    "        \n",
    "        the_subjectivity=subj(self.text)\n",
    "        \n",
    "        y=f'Polority:{the_polarity}\\nSubjectivity:{the_subjectivity}'\n",
    "        \n",
    "        print(y)\n",
    "        \n",
    "        \n",
    "        \n",
    "        "
   ]
  },
  {
   "cell_type": "markdown",
   "metadata": {},
   "source": [
    "# Functions"
   ]
  },
  {
   "cell_type": "code",
   "execution_count": 540,
   "metadata": {
    "ExecuteTime": {
     "end_time": "2019-10-20T19:11:34.118406Z",
     "start_time": "2019-10-20T19:11:34.107406Z"
    },
    "collapsed": true
   },
   "outputs": [],
   "source": [
    "def url_to_transcript(url):\n",
    "    \"\"\"Returns specific text data from a url\"\"\"\n",
    "    page=requests.get(url).text\n",
    "    soup=BeautifulSoup(page,\"html5lib\")\n",
    "    text=[p.text for p in soup.find(class_=\"shortDescription-col\").find_all('p')]\n",
    "    print(url)\n",
    "    return text"
   ]
  },
  {
   "cell_type": "code",
   "execution_count": 541,
   "metadata": {
    "ExecuteTime": {
     "end_time": "2019-10-20T19:11:34.150408Z",
     "start_time": "2019-10-20T19:11:34.120406Z"
    },
    "collapsed": true
   },
   "outputs": [],
   "source": [
    "def read_url_text(url):\n",
    "    \n",
    "    from urllib import request\n",
    "    \n",
    "    response = request.urlopen(url)\n",
    "    raw = response.read().decode('utf8')\n",
    "    \n",
    "    print(f'Length of the text file:{len(raw)}\\n')\n",
    "    \n",
    "    return raw[:1000]"
   ]
  },
  {
   "cell_type": "code",
   "execution_count": 542,
   "metadata": {
    "ExecuteTime": {
     "end_time": "2019-10-20T19:11:34.192411Z",
     "start_time": "2019-10-20T19:11:34.153408Z"
    },
    "collapsed": true
   },
   "outputs": [],
   "source": [
    "def sentence_polarity(the_file):\n",
    "    \n",
    "    with open(the_file,\"r\") as f:\n",
    "        text=f.read()\n",
    "#     return text\n",
    "\n",
    "    blob = TextBlob(text)\n",
    "    \n",
    "    x=[]\n",
    "    raw_sentence_list=blob.raw_sentences\n",
    "    sentence_list=blob.sentences\n",
    "    for k,sentence in enumerate (sentence_list):\n",
    "        pol_score=sentence.sentiment.polarity\n",
    "        if (pol_score>=0):\n",
    "            pol='pos'\n",
    "        else:\n",
    "            pol=\"neg\"\n",
    "        \n",
    "        \n",
    "        t=(raw_sentence_list[k],pol)\n",
    "        x.append(t)\n",
    "        \n",
    "    return x\n",
    "            \n",
    "#         print(type(sentence.sentiment.polarity))\n",
    "    \n",
    "    "
   ]
  },
  {
   "cell_type": "code",
   "execution_count": 543,
   "metadata": {
    "ExecuteTime": {
     "end_time": "2019-10-20T19:11:34.212412Z",
     "start_time": "2019-10-20T19:11:34.197411Z"
    }
   },
   "outputs": [
    {
     "data": {
      "text/plain": [
       "[('Extensively involved in all phases of engineering R&D testing including management of test operations such as the design of test apparatus, the selection, and calibration, installation of instruments, the processing and analysis of test data.',\n",
       "  'pos')]"
      ]
     },
     "execution_count": 543,
     "metadata": {},
     "output_type": "execute_result"
    }
   ],
   "source": [
    "q='C:/Users/Crystal/Desktop/sidebars/nlp_text_dump.txt'\n",
    "j=sentence_polarity(q)\n",
    "j"
   ]
  },
  {
   "cell_type": "markdown",
   "metadata": {},
   "source": [
    "# Main"
   ]
  },
  {
   "cell_type": "markdown",
   "metadata": {},
   "source": [
    "## Text Data"
   ]
  },
  {
   "cell_type": "code",
   "execution_count": 544,
   "metadata": {
    "ExecuteTime": {
     "end_time": "2019-10-20T19:11:34.573432Z",
     "start_time": "2019-10-20T19:11:34.545431Z"
    },
    "collapsed": true
   },
   "outputs": [],
   "source": [
    "os.startfile('C:/Users/Crystal/Desktop/sidebars/nlp_text_dump.txt')"
   ]
  },
  {
   "cell_type": "code",
   "execution_count": 545,
   "metadata": {
    "ExecuteTime": {
     "end_time": "2019-10-20T19:11:34.600434Z",
     "start_time": "2019-10-20T19:11:34.577433Z"
    },
    "collapsed": true
   },
   "outputs": [],
   "source": [
    "base='C:/Users/Crystal/Desktop/sidebars/nlp_text_dump.txt'\n",
    "other='C:/Users/Crystal/Desktop/sidebars/Dowd Jimmie - 09022019.txt'\n",
    "f = open(base)\n",
    "text = f.read()\n"
   ]
  },
  {
   "cell_type": "code",
   "execution_count": 546,
   "metadata": {
    "ExecuteTime": {
     "end_time": "2019-10-20T19:11:35.054460Z",
     "start_time": "2019-10-20T19:11:34.603434Z"
    },
    "scrolled": false
   },
   "outputs": [
    {
     "name": "stdout",
     "output_type": "stream",
     "text": [
      "Raw text word count: 35\n",
      "\n",
      "Tokens: ['extensively', 'involved', 'phases', 'engineering', 'r', 'testing', 'including', 'management', 'test', 'operations', 'design', 'test', 'apparatus', 'selection', 'calibration', 'installation', 'instruments', 'processing', 'analysis', 'test', 'data']\n",
      "\n",
      "Tokens (sorted):['analysis', 'apparatus', 'calibration', 'data', 'design', 'engineering', 'extensively', 'including', 'installation', 'instruments', 'involved', 'management', 'operations', 'phases', 'processing', 'r', 'selection', 'test', 'testing']\n",
      "\n",
      "Word count following stop words: 21\n",
      "\n",
      "extensively:1\n",
      "involved:1\n",
      "phases:1\n",
      "engineering:1\n",
      "r:1\n",
      "testing:1\n",
      "including:1\n",
      "management:1\n",
      "test:3\n",
      "operations:1\n",
      "design:1\n",
      "apparatus:1\n",
      "selection:1\n",
      "calibration:1\n",
      "installation:1\n",
      "instruments:1\n",
      "processing:1\n",
      "analysis:1\n",
      "data:1\n"
     ]
    },
    {
     "data": {
      "image/png": "[encoded data removed]",
      "text/plain": [
       "<matplotlib.figure.Figure at 0x115d6668>"
      ]
     },
     "metadata": {},
     "output_type": "display_data"
    },
    {
     "name": "stdout",
     "output_type": "stream",
     "text": [
      "Word Tags:[('extensively', 'RB'), ('involved', 'JJ'), ('phases', 'NNS'), ('engineering', 'NN'), ('r', 'NN'), ('testing', 'VBG'), ('including', 'VBG'), ('management', 'NN'), ('test', 'NN'), ('operations', 'NNS'), ('design', 'VBP'), ('test', 'NN'), ('apparatus', 'NN'), ('selection', 'NN'), ('calibration', 'NN'), ('installation', 'NN'), ('instruments', 'NNS'), ('processing', 'VBG'), ('analysis', 'NN'), ('test', 'NN'), ('data', 'NNS')]\n",
      "\n",
      "Named Entity Recognition:\n",
      "(S\n",
      "  extensively/RB\n",
      "  involved/JJ\n",
      "  phases/NNS\n",
      "  engineering/NN\n",
      "  r/NN\n",
      "  testing/VBG\n",
      "  including/VBG\n",
      "  management/NN\n",
      "  test/NN\n",
      "  operations/NNS\n",
      "  design/VBP\n",
      "  test/NN\n",
      "  apparatus/NN\n",
      "  selection/NN\n",
      "  calibration/NN\n",
      "  installation/NN\n",
      "  instruments/NNS\n",
      "  processing/VBG\n",
      "  analysis/NN\n",
      "  test/NN\n",
      "  data/NNS)\n"
     ]
    }
   ],
   "source": [
    "w=NLP_My_Words(text,'y')"
   ]
  },
  {
   "cell_type": "code",
   "execution_count": 547,
   "metadata": {
    "ExecuteTime": {
     "end_time": "2019-10-20T19:11:35.071461Z",
     "start_time": "2019-10-20T19:11:35.059460Z"
    }
   },
   "outputs": [
    {
     "data": {
      "text/plain": [
       "<Text: extensively involved in all phases of engineering r...>"
      ]
     },
     "execution_count": 547,
     "metadata": {},
     "output_type": "execute_result"
    }
   ],
   "source": [
    "w.nltk_text"
   ]
  },
  {
   "cell_type": "code",
   "execution_count": 548,
   "metadata": {
    "ExecuteTime": {
     "end_time": "2019-10-20T19:11:35.088462Z",
     "start_time": "2019-10-20T19:11:35.077461Z"
    }
   },
   "outputs": [
    {
     "name": "stdout",
     "output_type": "stream",
     "text": [
      "\n"
     ]
    }
   ],
   "source": [
    "w.nltk_text.collocations()"
   ]
  },
  {
   "cell_type": "code",
   "execution_count": null,
   "metadata": {
    "collapsed": true,
    "deletable": false,
    "editable": false,
    "run_control": {
     "frozen": true
    }
   },
   "outputs": [],
   "source": [
    "w.nltk_text.concordance('park')"
   ]
  },
  {
   "cell_type": "code",
   "execution_count": null,
   "metadata": {
    "collapsed": true,
    "deletable": false,
    "editable": false,
    "run_control": {
     "frozen": true
    }
   },
   "outputs": [],
   "source": [
    "w.nltk_text.similar('poop')"
   ]
  },
  {
   "cell_type": "code",
   "execution_count": null,
   "metadata": {
    "collapsed": true,
    "deletable": false,
    "editable": false,
    "run_control": {
     "frozen": true
    }
   },
   "outputs": [],
   "source": [
    "w.nltk_text.common_contexts(['dog','jim'])"
   ]
  },
  {
   "cell_type": "code",
   "execution_count": 549,
   "metadata": {
    "ExecuteTime": {
     "end_time": "2019-10-20T19:11:35.278473Z",
     "start_time": "2019-10-20T19:11:35.094462Z"
    },
    "scrolled": true
   },
   "outputs": [
    {
     "data": {
      "image/png": "[encoded data removed]",
      "text/plain": [
       "<matplotlib.figure.Figure at 0x113ce5f8>"
      ]
     },
     "metadata": {},
     "output_type": "display_data"
    }
   ],
   "source": [
    "w.nltk_text.dispersion_plot(['engineering','data','propulsion'])"
   ]
  },
  {
   "cell_type": "code",
   "execution_count": null,
   "metadata": {
    "deletable": false,
    "editable": false,
    "run_control": {
     "frozen": true
    },
    "scrolled": true
   },
   "outputs": [],
   "source": [
    "w.nltk_text.plot()"
   ]
  },
  {
   "cell_type": "code",
   "execution_count": 550,
   "metadata": {
    "ExecuteTime": {
     "end_time": "2019-10-20T19:11:35.289473Z",
     "start_time": "2019-10-20T19:11:35.282473Z"
    }
   },
   "outputs": [
    {
     "name": "stdout",
     "output_type": "stream",
     "text": [
      "Lexical Diversity:90.47619047619048\n",
      "\n"
     ]
    }
   ],
   "source": [
    "w.lexical_diversity()"
   ]
  },
  {
   "cell_type": "markdown",
   "metadata": {},
   "source": [
    "## Scrapping"
   ]
  },
  {
   "cell_type": "code",
   "execution_count": null,
   "metadata": {
    "collapsed": true,
    "deletable": false,
    "editable": false,
    "run_control": {
     "frozen": true
    }
   },
   "outputs": [],
   "source": [
    "site='https://www.oreilly.com/online-learning/enterprise.html'"
   ]
  },
  {
   "cell_type": "code",
   "execution_count": null,
   "metadata": {
    "collapsed": true,
    "deletable": false,
    "editable": false,
    "run_control": {
     "frozen": true
    },
    "scrolled": false
   },
   "outputs": [],
   "source": [
    "s=Web_Scrapping(site=site)"
   ]
  },
  {
   "cell_type": "markdown",
   "metadata": {},
   "source": [
    "## Word Study"
   ]
  },
  {
   "cell_type": "code",
   "execution_count": null,
   "metadata": {
    "deletable": false,
    "editable": false,
    "run_control": {
     "frozen": true
    }
   },
   "outputs": [],
   "source": [
    "word_study=Wordnet_Stuff('Natural')"
   ]
  },
  {
   "cell_type": "markdown",
   "metadata": {},
   "source": [
    "## Sentiment Analysis"
   ]
  },
  {
   "cell_type": "code",
   "execution_count": 551,
   "metadata": {
    "ExecuteTime": {
     "end_time": "2019-10-20T19:11:35.407480Z",
     "start_time": "2019-10-20T19:11:35.398480Z"
    }
   },
   "outputs": [
    {
     "name": "stdout",
     "output_type": "stream",
     "text": [
      "Polority:0.0\n",
      "Subjectivity:0.41666666666666663\n"
     ]
    }
   ],
   "source": [
    "sent_analy=Sentiment(text)"
   ]
  },
  {
   "cell_type": "markdown",
   "metadata": {},
   "source": [
    "# Extras"
   ]
  },
  {
   "cell_type": "code",
   "execution_count": 552,
   "metadata": {
    "ExecuteTime": {
     "end_time": "2019-10-20T19:11:35.656494Z",
     "start_time": "2019-10-20T19:11:35.635493Z"
    }
   },
   "outputs": [
    {
     "data": {
      "text/plain": [
       "[('Extensively', 'RB'),\n",
       " ('involved', 'VBN'),\n",
       " ('in', 'IN'),\n",
       " ('all', 'DT'),\n",
       " ('phases', 'NNS'),\n",
       " ('of', 'IN'),\n",
       " ('engineering', 'NN'),\n",
       " ('R', 'NNP'),\n",
       " ('&', 'CC'),\n",
       " ('D', 'NNP'),\n",
       " ('testing', 'VBG'),\n",
       " ('including', 'VBG'),\n",
       " ('management', 'NN'),\n",
       " ('of', 'IN'),\n",
       " ('test', 'NN'),\n",
       " ('operations', 'NNS'),\n",
       " ('such', 'JJ'),\n",
       " ('as', 'IN'),\n",
       " ('the', 'DT'),\n",
       " ('design', 'NN'),\n",
       " ('of', 'IN'),\n",
       " ('test', 'NN'),\n",
       " ('apparatus', 'NN'),\n",
       " ('the', 'DT'),\n",
       " ('selection', 'NN'),\n",
       " ('and', 'CC'),\n",
       " ('calibration', 'NN'),\n",
       " ('installation', 'NN'),\n",
       " ('of', 'IN'),\n",
       " ('instruments', 'NNS'),\n",
       " ('the', 'DT'),\n",
       " ('processing', 'NN'),\n",
       " ('and', 'CC'),\n",
       " ('analysis', 'NN'),\n",
       " ('of', 'IN'),\n",
       " ('test', 'NN'),\n",
       " ('data', 'NNS')]"
      ]
     },
     "execution_count": 552,
     "metadata": {},
     "output_type": "execute_result"
    }
   ],
   "source": [
    "blob = TextBlob(text)\n",
    "blob.tags      "
   ]
  },
  {
   "cell_type": "code",
   "execution_count": 553,
   "metadata": {
    "ExecuteTime": {
     "end_time": "2019-10-20T19:11:35.672495Z",
     "start_time": "2019-10-20T19:11:35.659494Z"
    }
   },
   "outputs": [
    {
     "data": {
      "text/plain": [
       "WordList(['Extensively', 'involved', 'in', 'all', 'phases', 'of', 'engineering', 'R', 'D', 'testing', 'including', 'management', 'of', 'test', 'operations', 'such', 'as', 'the', 'design', 'of', 'test', 'apparatus', 'the', 'selection', 'and', 'calibration', 'installation', 'of', 'instruments', 'the', 'processing', 'and', 'analysis', 'of', 'test', 'data'])"
      ]
     },
     "execution_count": 553,
     "metadata": {},
     "output_type": "execute_result"
    }
   ],
   "source": [
    "blob.words"
   ]
  },
  {
   "cell_type": "code",
   "execution_count": 554,
   "metadata": {
    "ExecuteTime": {
     "end_time": "2019-10-20T19:11:35.702497Z",
     "start_time": "2019-10-20T19:11:35.675495Z"
    }
   },
   "outputs": [
    {
     "data": {
      "text/plain": [
       "WordList(['extensively', 'test operations', 'test apparatus', 'test data'])"
      ]
     },
     "execution_count": 554,
     "metadata": {},
     "output_type": "execute_result"
    }
   ],
   "source": [
    "blob.noun_phrases"
   ]
  },
  {
   "cell_type": "code",
   "execution_count": 555,
   "metadata": {
    "ExecuteTime": {
     "end_time": "2019-10-20T19:11:35.725498Z",
     "start_time": "2019-10-20T19:11:35.709497Z"
    }
   },
   "outputs": [
    {
     "data": {
      "text/plain": [
       "[Sentence(\"Extensively involved in all phases of engineering R&D testing including management of test operations such as the design of test apparatus, the selection, and calibration, installation of instruments, the processing and analysis of test data.\")]"
      ]
     },
     "execution_count": 555,
     "metadata": {},
     "output_type": "execute_result"
    }
   ],
   "source": [
    "blob.sentences"
   ]
  },
  {
   "cell_type": "code",
   "execution_count": 556,
   "metadata": {
    "ExecuteTime": {
     "end_time": "2019-10-20T19:11:35.741499Z",
     "start_time": "2019-10-20T19:11:35.729498Z"
    },
    "scrolled": true
   },
   "outputs": [
    {
     "name": "stdout",
     "output_type": "stream",
     "text": [
      "Sentiment(polarity=0.0, subjectivity=0.41666666666666663)\n"
     ]
    }
   ],
   "source": [
    "for sentence in blob.sentences:\n",
    "    print(sentence.sentiment)"
   ]
  },
  {
   "cell_type": "code",
   "execution_count": 557,
   "metadata": {
    "ExecuteTime": {
     "end_time": "2019-10-20T19:11:35.761500Z",
     "start_time": "2019-10-20T19:11:35.746499Z"
    }
   },
   "outputs": [
    {
     "data": {
      "text/plain": [
       "['Extensively involved in all phases of engineering R&D testing including management of test operations such as the design of test apparatus, the selection, and calibration, installation of instruments, the processing and analysis of test data.']"
      ]
     },
     "execution_count": 557,
     "metadata": {},
     "output_type": "execute_result"
    }
   ],
   "source": [
    "blob.raw_sentences\n"
   ]
  },
  {
   "cell_type": "code",
   "execution_count": 558,
   "metadata": {
    "ExecuteTime": {
     "end_time": "2019-10-20T19:11:35.782502Z",
     "start_time": "2019-10-20T19:11:35.765501Z"
    }
   },
   "outputs": [
    {
     "data": {
      "text/plain": [
       "[WordList(['Extensively', 'involved', 'in']),\n",
       " WordList(['involved', 'in', 'all']),\n",
       " WordList(['in', 'all', 'phases']),\n",
       " WordList(['all', 'phases', 'of']),\n",
       " WordList(['phases', 'of', 'engineering']),\n",
       " WordList(['of', 'engineering', 'R']),\n",
       " WordList(['engineering', 'R', 'D']),\n",
       " WordList(['R', 'D', 'testing']),\n",
       " WordList(['D', 'testing', 'including']),\n",
       " WordList(['testing', 'including', 'management']),\n",
       " WordList(['including', 'management', 'of']),\n",
       " WordList(['management', 'of', 'test']),\n",
       " WordList(['of', 'test', 'operations']),\n",
       " WordList(['test', 'operations', 'such']),\n",
       " WordList(['operations', 'such', 'as']),\n",
       " WordList(['such', 'as', 'the']),\n",
       " WordList(['as', 'the', 'design']),\n",
       " WordList(['the', 'design', 'of']),\n",
       " WordList(['design', 'of', 'test']),\n",
       " WordList(['of', 'test', 'apparatus']),\n",
       " WordList(['test', 'apparatus', 'the']),\n",
       " WordList(['apparatus', 'the', 'selection']),\n",
       " WordList(['the', 'selection', 'and']),\n",
       " WordList(['selection', 'and', 'calibration']),\n",
       " WordList(['and', 'calibration', 'installation']),\n",
       " WordList(['calibration', 'installation', 'of']),\n",
       " WordList(['installation', 'of', 'instruments']),\n",
       " WordList(['of', 'instruments', 'the']),\n",
       " WordList(['instruments', 'the', 'processing']),\n",
       " WordList(['the', 'processing', 'and']),\n",
       " WordList(['processing', 'and', 'analysis']),\n",
       " WordList(['and', 'analysis', 'of']),\n",
       " WordList(['analysis', 'of', 'test']),\n",
       " WordList(['of', 'test', 'data'])]"
      ]
     },
     "execution_count": 558,
     "metadata": {},
     "output_type": "execute_result"
    }
   ],
   "source": [
    "blob.ngrams(n=3)"
   ]
  },
  {
   "cell_type": "code",
   "execution_count": 559,
   "metadata": {
    "ExecuteTime": {
     "end_time": "2019-10-20T19:11:35.803503Z",
     "start_time": "2019-10-20T19:11:35.787502Z"
    }
   },
   "outputs": [
    {
     "data": {
      "text/plain": [
       "'Extensively/RB/B-VP/O involved/VBN/I-VP/O in/IN/B-PP/B-PNP all/DT/B-NP/I-PNP phases/NNS/I-NP/I-PNP of/IN/B-PP/B-PNP engineering/NN/B-NP/I-PNP R&D/NN/I-NP/I-PNP testing/NN/I-NP/I-PNP including/VBG/B-VP/I-PNP management/NN/B-NP/I-PNP of/IN/B-PP/B-PNP test/NN/B-NP/I-PNP operations/NNS/I-NP/I-PNP such/JJ/B-ADJP/O as/IN/B-PP/B-PNP the/DT/B-NP/I-PNP design/NN/I-NP/I-PNP of/IN/B-PP/B-PNP test/NN/B-NP/I-PNP apparatus/NN/I-NP/I-PNP ,/,/O/O the/DT/B-NP/O selection/NN/I-NP/O ,/,/O/O and/CC/O/O calibration/NN/B-NP/O ,/,/O/O installation/NN/B-NP/O of/IN/B-PP/B-PNP instruments/NNS/B-NP/I-PNP ,/,/O/O the/DT/B-NP/O processing/NN/I-NP/O and/CC/O/O analysis/NN/B-NP/O of/IN/B-PP/B-PNP test/NN/B-NP/I-PNP data/NNS/I-NP/I-PNP ././O/O'"
      ]
     },
     "execution_count": 559,
     "metadata": {},
     "output_type": "execute_result"
    }
   ],
   "source": [
    "blob.parse()"
   ]
  },
  {
   "cell_type": "code",
   "execution_count": 560,
   "metadata": {
    "ExecuteTime": {
     "end_time": "2019-10-20T19:11:35.826504Z",
     "start_time": "2019-10-20T19:11:35.806503Z"
    }
   },
   "outputs": [
    {
     "data": {
      "text/plain": [
       "[('Jim', 'NNP'),\n",
       " ('walks', 'VBZ'),\n",
       " ('the', 'DT'),\n",
       " ('dogs', 'NNS'),\n",
       " ('in', 'IN'),\n",
       " ('the', 'DT'),\n",
       " ('park', 'NN')]"
      ]
     },
     "execution_count": 560,
     "metadata": {},
     "output_type": "execute_result"
    }
   ],
   "source": [
    "nltk_tagger = NLTKTagger()\n",
    "blob = TextBlob(\"Jim walks the dogs in the park.\", pos_tagger=nltk_tagger)\n",
    "blob.pos_tags"
   ]
  },
  {
   "cell_type": "code",
   "execution_count": null,
   "metadata": {},
   "outputs": [],
   "source": []
  },
  {
   "cell_type": "code",
   "execution_count": null,
   "metadata": {
    "collapsed": true
   },
   "outputs": [],
   "source": []
  },
  {
   "cell_type": "code",
   "execution_count": null,
   "metadata": {
    "collapsed": true
   },
   "outputs": [],
   "source": []
  },
  {
   "cell_type": "code",
   "execution_count": null,
   "metadata": {
    "collapsed": true
   },
   "outputs": [],
   "source": []
  },
  {
   "cell_type": "code",
   "execution_count": 561,
   "metadata": {
    "ExecuteTime": {
     "end_time": "2019-10-20T19:11:35.838505Z",
     "start_time": "2019-10-20T19:11:35.829504Z"
    }
   },
   "outputs": [
    {
     "name": "stdout",
     "output_type": "stream",
     "text": [
      "lemmatize:park\n",
      "\n",
      "[Synset('park.n.01'), Synset('park.n.02'), Synset('ballpark.n.01'), Synset('park.n.04'), Synset('parking_lot.n.01'), Synset('park.n.06'), Synset('park.v.01'), Synset('park.v.02')]\n"
     ]
    }
   ],
   "source": [
    "d = Word(\"park\")\n",
    "print(f'lemmatize:{d.lemmatize()}\\n')\n",
    "print(d.synsets)\n"
   ]
  },
  {
   "cell_type": "code",
   "execution_count": 562,
   "metadata": {
    "ExecuteTime": {
     "end_time": "2019-10-20T19:11:35.852506Z",
     "start_time": "2019-10-20T19:11:35.842505Z"
    }
   },
   "outputs": [
    {
     "name": "stdout",
     "output_type": "stream",
     "text": [
      "lemmatize:walk\n",
      "\n",
      "[Synset('walk.v.01'), Synset('walk.v.02'), Synset('walk.v.03'), Synset('walk.v.04'), Synset('walk.v.05'), Synset('walk.v.06'), Synset('walk.v.07'), Synset('walk.v.08'), Synset('walk.v.09'), Synset('walk.v.10')]\n"
     ]
    }
   ],
   "source": [
    "d = Word(\"walks\")\n",
    "\n",
    "print(f'lemmatize:{d.lemmatize(\"v\")}\\n')\n",
    "print(d.get_synsets(pos=VERB))"
   ]
  }
 ],
 "metadata": {
  "hide_input": false,
  "kernelspec": {
   "display_name": "Python 3",
   "language": "python",
   "name": "python3"
  },
  "language_info": {
   "codemirror_mode": {
    "name": "ipython",
    "version": 3
   },
   "file_extension": ".py",
   "mimetype": "text/x-python",
   "name": "python",
   "nbconvert_exporter": "python",
   "pygments_lexer": "ipython3",
   "version": "3.6.3"
  },
  "latex_envs": {
   "LaTeX_envs_menu_present": true,
   "autoclose": false,
   "autocomplete": true,
   "bibliofile": "biblio.bib",
   "cite_by": "apalike",
   "current_citInitial": 1,
   "eqLabelWithNumbers": true,
   "eqNumInitial": 1,
   "hotkeys": {
    "equation": "Ctrl-E",
    "itemize": "Ctrl-I"
   },
   "labels_anchors": false,
   "latex_user_defs": false,
   "report_style_numbering": false,
   "user_envs_cfg": false
  },
  "toc": {
   "base_numbering": 1,
   "nav_menu": {},
   "number_sections": true,
   "sideBar": true,
   "skip_h1_title": false,
   "title_cell": "Table of Contents",
   "title_sidebar": "Contents",
   "toc_cell": false,
   "toc_position": {
    "height": "calc(100% - 180px)",
    "left": "10px",
    "top": "150px",
    "width": "165px"
   },
   "toc_section_display": true,
   "toc_window_display": true
  },
  "varInspector": {
   "cols": {
    "lenName": 16,
    "lenType": 16,
    "lenVar": 40
   },
   "kernels_config": {
    "python": {
     "delete_cmd_postfix": "",
     "delete_cmd_prefix": "del ",
     "library": "var_list.py",
     "varRefreshCmd": "print(var_dic_list())"
    },
    "r": {
     "delete_cmd_postfix": ") ",
     "delete_cmd_prefix": "rm(",
     "library": "var_list.r",
     "varRefreshCmd": "cat(var_dic_list()) "
    }
   },
   "types_to_exclude": [
    "module",
    "function",
    "builtin_function_or_method",
    "instance",
    "_Feature"
   ],
   "window_display": false
  }
 },
 "nbformat": 4,
 "nbformat_minor": 2
}
