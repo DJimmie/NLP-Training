{
 "cells": [
  {
   "cell_type": "markdown",
   "metadata": {},
   "source": [
    "# Dependancies"
   ]
  },
  {
   "cell_type": "code",
   "execution_count": 30,
   "metadata": {
    "ExecuteTime": {
     "end_time": "2019-10-03T01:57:06.627155Z",
     "start_time": "2019-10-03T01:57:06.623155Z"
    },
    "collapsed": true
   },
   "outputs": [],
   "source": [
    "import nltk\n",
    "from nltk.corpus import treebank\n"
   ]
  },
  {
   "cell_type": "markdown",
   "metadata": {},
   "source": [
    "# Functions"
   ]
  },
  {
   "cell_type": "markdown",
   "metadata": {},
   "source": [
    "## Tokenization"
   ]
  },
  {
   "cell_type": "code",
   "execution_count": 31,
   "metadata": {
    "ExecuteTime": {
     "end_time": "2019-10-03T01:57:07.083181Z",
     "start_time": "2019-10-03T01:57:07.067180Z"
    },
    "collapsed": true
   },
   "outputs": [],
   "source": [
    "def tokenization(text):\n",
    "    \n",
    "    tokens = nltk.word_tokenize(text)\n",
    "#     tokens = [t for t in text.split()]\n",
    "\n",
    "    R2=['*','&','-','/','!','@','_','(',')','.',',',':',';']\n",
    "\n",
    "    for q in R2:\n",
    "        try:\n",
    "            tokens.remove(q)\n",
    "        except ValueError:\n",
    "            continue\n",
    "    \n",
    "    return tokens"
   ]
  },
  {
   "cell_type": "code",
   "execution_count": 32,
   "metadata": {
    "ExecuteTime": {
     "end_time": "2019-10-03T01:57:07.098182Z",
     "start_time": "2019-10-03T01:57:07.085181Z"
    },
    "collapsed": true
   },
   "outputs": [],
   "source": [
    "def sentenance_tokenization(text):\n",
    "    \n",
    "    from nltk.tokenize import sent_tokenize\n",
    "    \n",
    "    tokens=sent_tokenize(text)\n",
    "    \n",
    "    return tokens"
   ]
  },
  {
   "cell_type": "code",
   "execution_count": null,
   "metadata": {
    "collapsed": true
   },
   "outputs": [],
   "source": []
  },
  {
   "cell_type": "markdown",
   "metadata": {},
   "source": [
    "## Word Frequency"
   ]
  },
  {
   "cell_type": "code",
   "execution_count": 33,
   "metadata": {
    "ExecuteTime": {
     "end_time": "2019-10-03T01:57:07.258191Z",
     "start_time": "2019-10-03T01:57:07.245190Z"
    },
    "collapsed": true
   },
   "outputs": [],
   "source": [
    "def word_freq(tokens):\n",
    "    \n",
    "    freq = nltk.FreqDist(tokens)\n",
    " \n",
    "    for key,val in freq.items():\n",
    "\n",
    "        print (str(key) + ':' + str(val))\n",
    "\n",
    "    freq.plot(20, cumulative=False)"
   ]
  },
  {
   "cell_type": "markdown",
   "metadata": {},
   "source": [
    "## Remove Stop Words Using NLTK"
   ]
  },
  {
   "cell_type": "code",
   "execution_count": 34,
   "metadata": {
    "ExecuteTime": {
     "end_time": "2019-10-03T01:57:07.416200Z",
     "start_time": "2019-10-03T01:57:07.403199Z"
    },
    "collapsed": true
   },
   "outputs": [],
   "source": [
    "def remove_stop_words(tokens):\n",
    "    \n",
    "    from nltk.corpus import stopwords\n",
    "\n",
    "    clean_tokens = tokens[:]\n",
    "\n",
    "    sr = stopwords.words('english')\n",
    "\n",
    "    for token in tokens:\n",
    "\n",
    "        if token in stopwords.words('english'):\n",
    "\n",
    "            clean_tokens.remove(token)\n",
    "    return clean_tokens\n",
    "    "
   ]
  },
  {
   "cell_type": "markdown",
   "metadata": {},
   "source": [
    "## Tag Words"
   ]
  },
  {
   "cell_type": "code",
   "execution_count": 35,
   "metadata": {
    "ExecuteTime": {
     "end_time": "2019-10-03T01:57:07.567209Z",
     "start_time": "2019-10-03T01:57:07.560208Z"
    },
    "collapsed": true
   },
   "outputs": [],
   "source": [
    "def words_tagged(tokens):\n",
    "    \n",
    "    tagged = nltk.pos_tag(tokens)\n",
    "    tagged[0:6]\n",
    "    print(tagged)\n",
    "    "
   ]
  },
  {
   "cell_type": "markdown",
   "metadata": {},
   "source": [
    "## Web Scrape"
   ]
  },
  {
   "cell_type": "code",
   "execution_count": 36,
   "metadata": {
    "ExecuteTime": {
     "end_time": "2019-10-03T01:57:07.733218Z",
     "start_time": "2019-10-03T01:57:07.722217Z"
    },
    "collapsed": true
   },
   "outputs": [],
   "source": [
    "def web_scrape_html(site):\n",
    "    \n",
    "    import urllib.request\n",
    "\n",
    "    \n",
    "    response = urllib.request.urlopen(site)\n",
    "\n",
    "    html = response.read()\n",
    "\n",
    "#     print (html)\n",
    "\n",
    "    return web_scrape_text(html)\n",
    "    "
   ]
  },
  {
   "cell_type": "code",
   "execution_count": 37,
   "metadata": {
    "ExecuteTime": {
     "end_time": "2019-10-03T01:57:07.752219Z",
     "start_time": "2019-10-03T01:57:07.736218Z"
    },
    "collapsed": true
   },
   "outputs": [],
   "source": [
    "def web_scrape_text(html):\n",
    "    from bs4 import BeautifulSoup\n",
    " \n",
    "    soup = BeautifulSoup(html,\"html5lib\")\n",
    "\n",
    "    text = soup.get_text(strip=True)\n",
    "\n",
    "    return text\n",
    "    \n",
    "    "
   ]
  },
  {
   "cell_type": "markdown",
   "metadata": {},
   "source": [
    "## Wordnet"
   ]
  },
  {
   "cell_type": "code",
   "execution_count": 38,
   "metadata": {
    "ExecuteTime": {
     "end_time": "2019-10-03T01:57:07.919229Z",
     "start_time": "2019-10-03T01:57:07.905228Z"
    },
    "collapsed": true
   },
   "outputs": [],
   "source": [
    "def definitions(text):\n",
    "    from nltk.corpus import wordnet\n",
    " \n",
    "    syn = wordnet.synsets(text)\n",
    "\n",
    "    print(syn[0].definition())\n",
    "\n",
    "    syn = wordnet.synsets(text)\n",
    "\n",
    "    print(syn[0].definition())\n",
    "\n",
    "\n",
    "\n",
    "\n"
   ]
  },
  {
   "cell_type": "code",
   "execution_count": 39,
   "metadata": {
    "ExecuteTime": {
     "end_time": "2019-10-03T01:57:07.940230Z",
     "start_time": "2019-10-03T01:57:07.921229Z"
    },
    "collapsed": true
   },
   "outputs": [],
   "source": [
    "def syn_lem(text):\n",
    "    from nltk.corpus import wordnet\n",
    " \n",
    "    synonyms = []\n",
    "\n",
    "    for syn in wordnet.synsets(text):\n",
    "\n",
    "        for lemma in syn.lemmas():\n",
    "\n",
    "            synonyms.append(lemma.name())\n",
    "\n",
    "    print(synonyms)\n"
   ]
  },
  {
   "cell_type": "code",
   "execution_count": 40,
   "metadata": {
    "ExecuteTime": {
     "end_time": "2019-10-03T01:57:07.957231Z",
     "start_time": "2019-10-03T01:57:07.943230Z"
    },
    "collapsed": true
   },
   "outputs": [],
   "source": [
    "def synomns(text):\n",
    "    \n",
    "    from nltk.corpus import wordnet\n",
    " \n",
    "    syn = wordnet.synsets(\"pain\")\n",
    "\n",
    "    print(syn[0].definition())\n",
    "\n",
    "    print(syn[0].examples())"
   ]
  },
  {
   "cell_type": "markdown",
   "metadata": {},
   "source": [
    "# Main"
   ]
  },
  {
   "cell_type": "markdown",
   "metadata": {},
   "source": [
    "## Tokenization"
   ]
  },
  {
   "cell_type": "code",
   "execution_count": 49,
   "metadata": {
    "ExecuteTime": {
     "end_time": "2019-10-03T02:02:28.591570Z",
     "start_time": "2019-10-03T02:02:28.585570Z"
    },
    "collapsed": true
   },
   "outputs": [],
   "source": [
    "sentence = \"\"\"Engineering Design Leader is responsible for researching, \n",
    "developing, designing, testing, and troubleshooting mechanical, \n",
    "electrical and hydraulic components and systems by \n",
    "applying engineering principles and techniques to meet \n",
    "customer specifications and provide documentation including \n",
    "creation of part numbers, Computer Aided Design \n",
    "(CAD) drawings (piece part, sub-assembly and assemblies), \n",
    "kitbooks, bills of materials, assembly instructions (routings) etc. using enterprise system such as BPCS. \n",
    "\"\"\""
   ]
  },
  {
   "cell_type": "code",
   "execution_count": 50,
   "metadata": {
    "ExecuteTime": {
     "end_time": "2019-10-03T02:02:30.589684Z",
     "start_time": "2019-10-03T02:02:30.575684Z"
    },
    "scrolled": false
   },
   "outputs": [
    {
     "data": {
      "text/plain": [
       "['Engineering',\n",
       " 'Design',\n",
       " 'Leader',\n",
       " 'is',\n",
       " 'responsible',\n",
       " 'for',\n",
       " 'researching',\n",
       " 'developing',\n",
       " ',',\n",
       " 'designing',\n",
       " ',',\n",
       " 'testing',\n",
       " ',',\n",
       " 'and',\n",
       " 'troubleshooting',\n",
       " 'mechanical',\n",
       " ',',\n",
       " 'electrical',\n",
       " 'and',\n",
       " 'hydraulic',\n",
       " 'components',\n",
       " 'and',\n",
       " 'systems',\n",
       " 'by',\n",
       " 'applying',\n",
       " 'engineering',\n",
       " 'principles',\n",
       " 'and',\n",
       " 'techniques',\n",
       " 'to',\n",
       " 'meet',\n",
       " 'customer',\n",
       " 'specifications',\n",
       " 'and',\n",
       " 'provide',\n",
       " 'documentation',\n",
       " 'including',\n",
       " 'creation',\n",
       " 'of',\n",
       " 'part',\n",
       " 'numbers',\n",
       " ',',\n",
       " 'Computer',\n",
       " 'Aided',\n",
       " 'Design',\n",
       " 'CAD',\n",
       " 'drawings',\n",
       " '(',\n",
       " 'piece',\n",
       " 'part',\n",
       " ',',\n",
       " 'sub-assembly',\n",
       " 'and',\n",
       " 'assemblies',\n",
       " ')',\n",
       " ',',\n",
       " 'kitbooks',\n",
       " ',',\n",
       " 'bills',\n",
       " 'of',\n",
       " 'materials',\n",
       " ',',\n",
       " 'assembly',\n",
       " 'instructions',\n",
       " '(',\n",
       " 'routings',\n",
       " ')',\n",
       " 'etc',\n",
       " 'using',\n",
       " 'enterprise',\n",
       " 'system',\n",
       " 'such',\n",
       " 'as',\n",
       " 'BPCS',\n",
       " '.']"
      ]
     },
     "execution_count": 50,
     "metadata": {},
     "output_type": "execute_result"
    }
   ],
   "source": [
    "tokens=tokenization(sentence)\n",
    "tokens"
   ]
  },
  {
   "cell_type": "code",
   "execution_count": 51,
   "metadata": {
    "ExecuteTime": {
     "end_time": "2019-10-03T02:02:40.344242Z",
     "start_time": "2019-10-03T02:02:39.987222Z"
    },
    "scrolled": false
   },
   "outputs": [
    {
     "name": "stdout",
     "output_type": "stream",
     "text": [
      "Engineering:1\n",
      "Design:2\n",
      "Leader:1\n",
      "is:1\n",
      "responsible:1\n",
      "for:1\n",
      "researching:1\n",
      "developing:1\n",
      ",:9\n",
      "designing:1\n",
      "testing:1\n",
      "and:6\n",
      "troubleshooting:1\n",
      "mechanical:1\n",
      "electrical:1\n",
      "hydraulic:1\n",
      "components:1\n",
      "systems:1\n",
      "by:1\n",
      "applying:1\n",
      "engineering:1\n",
      "principles:1\n",
      "techniques:1\n",
      "to:1\n",
      "meet:1\n",
      "customer:1\n",
      "specifications:1\n",
      "provide:1\n",
      "documentation:1\n",
      "including:1\n",
      "creation:1\n",
      "of:2\n",
      "part:2\n",
      "numbers:1\n",
      "Computer:1\n",
      "Aided:1\n",
      "CAD:1\n",
      "drawings:1\n",
      "(:2\n",
      "piece:1\n",
      "sub-assembly:1\n",
      "assemblies:1\n",
      "):2\n",
      "kitbooks:1\n",
      "bills:1\n",
      "materials:1\n",
      "assembly:1\n",
      "instructions:1\n",
      "routings:1\n",
      "etc:1\n",
      "using:1\n",
      "enterprise:1\n",
      "system:1\n",
      "such:1\n",
      "as:1\n",
      "BPCS:1\n",
      ".:1\n"
     ]
    },
    {
     "data": {
      "image/png": "[encoded data removed]",
      "text/plain": [
       "<matplotlib.figure.Figure at 0xbb4d0f0>"
      ]
     },
     "metadata": {},
     "output_type": "display_data"
    }
   ],
   "source": [
    "word_freq(tokens=tokens)"
   ]
  },
  {
   "cell_type": "code",
   "execution_count": 47,
   "metadata": {
    "ExecuteTime": {
     "end_time": "2019-10-03T01:59:10.821258Z",
     "start_time": "2019-10-03T01:59:10.801257Z"
    }
   },
   "outputs": [],
   "source": [
    "tokens=remove_stop_words(tokens=tokens)"
   ]
  },
  {
   "cell_type": "code",
   "execution_count": 48,
   "metadata": {
    "ExecuteTime": {
     "end_time": "2019-10-03T01:59:13.980439Z",
     "start_time": "2019-10-03T01:59:13.646420Z"
    },
    "scrolled": false
   },
   "outputs": [
    {
     "name": "stdout",
     "output_type": "stream",
     "text": [
      "In:1\n",
      "episode:1\n",
      "Data:1\n",
      "Show:1\n",
      "I:2\n",
      "speak:1\n",
      "Arun:1\n",
      "Kejariwal:1\n",
      "Facebook:1\n",
      "Ira:1\n",
      "Cohen:1\n",
      "Anodot:2\n",
      "full:1\n",
      "disclosure:1\n",
      "’:1\n",
      "advisor:1\n"
     ]
    },
    {
     "data": {
      "image/png": "[encoded data removed]",
      "text/plain": [
       "<matplotlib.figure.Figure at 0xb531b70>"
      ]
     },
     "metadata": {},
     "output_type": "display_data"
    }
   ],
   "source": [
    "word_freq(tokens=tokens)"
   ]
  },
  {
   "cell_type": "code",
   "execution_count": null,
   "metadata": {},
   "outputs": [],
   "source": [
    "words_tagged(tokens)"
   ]
  },
  {
   "cell_type": "code",
   "execution_count": null,
   "metadata": {},
   "outputs": [],
   "source": [
    "sentenance_tokenization(text=sentence)"
   ]
  },
  {
   "cell_type": "markdown",
   "metadata": {},
   "source": [
    "## Scrapping"
   ]
  },
  {
   "cell_type": "code",
   "execution_count": null,
   "metadata": {
    "collapsed": true
   },
   "outputs": [],
   "source": [
    "site='https://membership.navyfederal.org/#/step/submit-pending'"
   ]
  },
  {
   "cell_type": "code",
   "execution_count": null,
   "metadata": {
    "scrolled": false
   },
   "outputs": [],
   "source": [
    "text=web_scrape_html(site=site)\n",
    "text"
   ]
  },
  {
   "cell_type": "code",
   "execution_count": null,
   "metadata": {},
   "outputs": [],
   "source": [
    "tokens=tokenization(text=text)"
   ]
  },
  {
   "cell_type": "markdown",
   "metadata": {},
   "source": [
    "## Wordnet Stuff"
   ]
  },
  {
   "cell_type": "code",
   "execution_count": null,
   "metadata": {},
   "outputs": [],
   "source": [
    "definitions('language')"
   ]
  },
  {
   "cell_type": "code",
   "execution_count": null,
   "metadata": {},
   "outputs": [],
   "source": [
    "syn_lem(\"mathematics\")"
   ]
  },
  {
   "cell_type": "markdown",
   "metadata": {},
   "source": [
    "# Extras"
   ]
  },
  {
   "cell_type": "code",
   "execution_count": null,
   "metadata": {
    "deletable": false,
    "editable": false,
    "run_control": {
     "frozen": true
    }
   },
   "outputs": [],
   "source": [
    "entities = nltk.chunk.ne_chunk(tagged)\n",
    "entities"
   ]
  },
  {
   "cell_type": "code",
   "execution_count": null,
   "metadata": {
    "collapsed": true
   },
   "outputs": [],
   "source": []
  },
  {
   "cell_type": "code",
   "execution_count": null,
   "metadata": {
    "collapsed": true,
    "deletable": false,
    "editable": false,
    "run_control": {
     "frozen": true
    }
   },
   "outputs": [],
   "source": [
    "t = treebank.parsed_sents('wsj_0001.mrg')[0]\n",
    "t.draw()"
   ]
  },
  {
   "cell_type": "code",
   "execution_count": null,
   "metadata": {
    "deletable": false,
    "editable": false,
    "run_control": {
     "frozen": true
    }
   },
   "outputs": [],
   "source": [
    "from nltk.corpus import brown\n",
    "brown.words()"
   ]
  },
  {
   "cell_type": "code",
   "execution_count": null,
   "metadata": {
    "scrolled": false
   },
   "outputs": [],
   "source": []
  },
  {
   "cell_type": "code",
   "execution_count": null,
   "metadata": {
    "scrolled": false
   },
   "outputs": [],
   "source": []
  },
  {
   "cell_type": "code",
   "execution_count": null,
   "metadata": {
    "deletable": false,
    "editable": false,
    "run_control": {
     "frozen": true
    },
    "scrolled": false
   },
   "outputs": [],
   "source": [
    "tokens = [t for t in text.split()]\n",
    "tokens"
   ]
  },
  {
   "cell_type": "code",
   "execution_count": null,
   "metadata": {},
   "outputs": [],
   "source": []
  },
  {
   "cell_type": "code",
   "execution_count": null,
   "metadata": {},
   "outputs": [],
   "source": [
    "setA=set('a')"
   ]
  },
  {
   "cell_type": "code",
   "execution_count": null,
   "metadata": {},
   "outputs": [],
   "source": [
    "setA"
   ]
  },
  {
   "cell_type": "code",
   "execution_count": null,
   "metadata": {},
   "outputs": [],
   "source": [
    "tokens"
   ]
  },
  {
   "cell_type": "code",
   "execution_count": null,
   "metadata": {},
   "outputs": [],
   "source": [
    "\n",
    "    "
   ]
  },
  {
   "cell_type": "code",
   "execution_count": null,
   "metadata": {},
   "outputs": [],
   "source": [
    "tokens"
   ]
  },
  {
   "cell_type": "code",
   "execution_count": null,
   "metadata": {},
   "outputs": [],
   "source": [
    "tokens.remove('shit')"
   ]
  },
  {
   "cell_type": "code",
   "execution_count": null,
   "metadata": {
    "collapsed": true
   },
   "outputs": [],
   "source": []
  }
 ],
 "metadata": {
  "hide_input": false,
  "kernelspec": {
   "display_name": "Python 3",
   "language": "python",
   "name": "python3"
  },
  "language_info": {
   "codemirror_mode": {
    "name": "ipython",
    "version": 3
   },
   "file_extension": ".py",
   "mimetype": "text/x-python",
   "name": "python",
   "nbconvert_exporter": "python",
   "pygments_lexer": "ipython3",
   "version": "3.6.3"
  },
  "latex_envs": {
   "LaTeX_envs_menu_present": true,
   "autoclose": false,
   "autocomplete": true,
   "bibliofile": "biblio.bib",
   "cite_by": "apalike",
   "current_citInitial": 1,
   "eqLabelWithNumbers": true,
   "eqNumInitial": 1,
   "hotkeys": {
    "equation": "Ctrl-E",
    "itemize": "Ctrl-I"
   },
   "labels_anchors": false,
   "latex_user_defs": false,
   "report_style_numbering": false,
   "user_envs_cfg": false
  },
  "toc": {
   "base_numbering": 1,
   "nav_menu": {},
   "number_sections": true,
   "sideBar": true,
   "skip_h1_title": false,
   "title_cell": "Table of Contents",
   "title_sidebar": "Contents",
   "toc_cell": false,
   "toc_position": {
    "height": "calc(100% - 180px)",
    "left": "10px",
    "top": "150px",
    "width": "165px"
   },
   "toc_section_display": true,
   "toc_window_display": true
  },
  "varInspector": {
   "cols": {
    "lenName": 16,
    "lenType": 16,
    "lenVar": 40
   },
   "kernels_config": {
    "python": {
     "delete_cmd_postfix": "",
     "delete_cmd_prefix": "del ",
     "library": "var_list.py",
     "varRefreshCmd": "print(var_dic_list())"
    },
    "r": {
     "delete_cmd_postfix": ") ",
     "delete_cmd_prefix": "rm(",
     "library": "var_list.r",
     "varRefreshCmd": "cat(var_dic_list()) "
    }
   },
   "types_to_exclude": [
    "module",
    "function",
    "builtin_function_or_method",
    "instance",
    "_Feature"
   ],
   "window_display": false
  }
 },
 "nbformat": 4,
 "nbformat_minor": 2
}
