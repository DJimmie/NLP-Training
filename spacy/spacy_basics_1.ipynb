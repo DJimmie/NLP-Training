{
 "cells": [
  {
   "cell_type": "code",
   "execution_count": null,
   "metadata": {},
   "outputs": [],
   "source": [
    "import webbrowser"
   ]
  },
  {
   "cell_type": "code",
   "execution_count": null,
   "metadata": {},
   "outputs": [],
   "source": [
    "import spacy\n",
    "from spacy import displacy\n",
    "from spacy.matcher import Matcher\n",
    "from IPython.core.display import display, HTML\n"
   ]
  },
  {
   "cell_type": "code",
   "execution_count": null,
   "metadata": {},
   "outputs": [],
   "source": [
    "def get_text():\n",
    "    with open(\"../data/t1.txt\") as f:   \n",
    "        text = f.read()\n",
    "    return text\n"
   ]
  },
  {
   "cell_type": "code",
   "execution_count": null,
   "metadata": {},
   "outputs": [],
   "source": [
    "def tokenization(s):\n",
    "    nlp = spacy.load(\"en_core_web_sm\")\n",
    "    doc = nlp(s)\n",
    "    \n",
    "    for token in doc:\n",
    "        print(token.text, token.pos_, token.dep_,token.head.text)\n",
    "\n"
   ]
  },
  {
   "cell_type": "code",
   "execution_count": null,
   "metadata": {},
   "outputs": [],
   "source": [
    "def parts_of_speech(s):\n",
    "    nlp = spacy.load(\"en_core_web_sm\")\n",
    "    doc = nlp(s)\n",
    "\n",
    "    for token in doc:\n",
    "        print(f'text: {token.text}\\nlemma: {token.lemma_}\\nPOS: {token.pos_}\\nTag: {token.tag_}\\nDEP: {token.dep_}\\nShape:{token.shape_}\\nIs Alpha: {token.is_alpha}\\nIs stop word: {token.is_stop}')\n",
    "        print('\\n\\n')"
   ]
  },
  {
   "cell_type": "code",
   "execution_count": null,
   "metadata": {},
   "outputs": [],
   "source": [
    "def named_entities(s):\n",
    "    nlp = spacy.load(\"en_core_web_sm\")\n",
    "    doc = nlp(s)\n",
    "    print(doc.ents)\n",
    "    html=displacy.render(doc, page=False, jupyter=True, style='ent')\n",
    "    display(HTML(html))\n",
    "    return [(ent.text,ent.label_) for ent in doc.ents]\n"
   ]
  },
  {
   "cell_type": "code",
   "execution_count": null,
   "metadata": {},
   "outputs": [],
   "source": [
    "def entity_relationship(s):\n",
    "    nlp = spacy.load(\"en_core_web_sm\")\n",
    "    doc = nlp(s)\n",
    "    html=displacy.render(doc, page=False, jupyter=True, style='ent')\n",
    "    a=display(HTML(html))\n",
    "\n",
    "\n",
    "    webbrowser.open(a)"
   ]
  },
  {
   "cell_type": "code",
   "execution_count": null,
   "metadata": {},
   "outputs": [],
   "source": [
    "def explain_spaCy(b):\n",
    "\n",
    "   print(spacy.explain(b))\n"
   ]
  },
  {
   "cell_type": "code",
   "execution_count": null,
   "metadata": {},
   "outputs": [],
   "source": [
    "def matcher(s):\n",
    "\n",
    "    nlp = spacy.load(\"en_core_web_sm\")\n",
    "\n",
    "    # Initialize the matcher with the shared vocab\n",
    "    matcher = Matcher(nlp.vocab)\n",
    "\n",
    "    # Add the pattern to the matcher\n",
    "    pattern = [{\"POS\": \"NOUN\"}, {\"IS_PUNCT\": True}]\n",
    "    matcher.add(\"space_flght_PATTERN\", [pattern])\n",
    "\n",
    "    # Process some text\n",
    "    doc = nlp(s)\n",
    "\n",
    "    print(doc)\n",
    "    # Call the matcher on the doc\n",
    "    matches = matcher(doc)\n",
    "    print(matches)\n",
    "\n",
    "    for match_id, start, end in matches:\n",
    "        # Get the matched span\n",
    "        matched_span = doc[start:end]\n",
    "        print(matched_span.text)\n"
   ]
  },
  {
   "cell_type": "code",
   "execution_count": null,
   "metadata": {},
   "outputs": [],
   "source": []
  },
  {
   "cell_type": "code",
   "execution_count": null,
   "metadata": {},
   "outputs": [],
   "source": [
    "text='The scope of the EMR system is for Test Lab Equipment (TLE) only'"
   ]
  },
  {
   "cell_type": "code",
   "execution_count": null,
   "metadata": {},
   "outputs": [],
   "source": [
    "# matcher(text)"
   ]
  },
  {
   "cell_type": "code",
   "execution_count": null,
   "metadata": {},
   "outputs": [],
   "source": [
    "tokenization(text)\n"
   ]
  },
  {
   "cell_type": "code",
   "execution_count": null,
   "metadata": {},
   "outputs": [],
   "source": [
    "parts_of_speech(text)"
   ]
  },
  {
   "cell_type": "code",
   "execution_count": null,
   "metadata": {},
   "outputs": [],
   "source": [
    "ner=named_entities(text)\n",
    "\n",
    "print(ner)"
   ]
  },
  {
   "cell_type": "code",
   "execution_count": null,
   "metadata": {},
   "outputs": [],
   "source": [
    "explain_spaCy('NORP')"
   ]
  },
  {
   "cell_type": "code",
   "execution_count": null,
   "metadata": {},
   "outputs": [],
   "source": []
  },
  {
   "cell_type": "code",
   "execution_count": null,
   "metadata": {},
   "outputs": [],
   "source": []
  },
  {
   "cell_type": "code",
   "execution_count": null,
   "metadata": {},
   "outputs": [],
   "source": []
  },
  {
   "cell_type": "code",
   "execution_count": null,
   "metadata": {},
   "outputs": [],
   "source": [
    "# import spacy\n",
    "# import textacy.extract\n",
    "\n",
    "# # Load the large English NLP model\n",
    "# nlp = spacy.load('en_core_web_lg')\n",
    "\n",
    "# # The text we want to examine\n",
    "# text = \"\"\"London is the capital and most populous city of England and  the United Kingdom.  \n",
    "# Standing on the River Thames in the south east of the island of Great Britain, \n",
    "# London has been a major settlement  for two millennia.  It was founded by the Romans, \n",
    "# who named it Londinium.\n",
    "# \"\"\"\n",
    "\n",
    "# # Parse the document with spaCy\n",
    "# doc = nlp(text)\n",
    "\n",
    "# # Extract semi-structured statements\n",
    "# statements = textacy.extract.semistructured_statements(doc, \"London\")\n",
    "\n",
    "# # Print the results\n",
    "# print(\"Here are the things I know about London:\")\n",
    "\n",
    "# for statement in statements:\n",
    "#     subject, verb, fact = statement\n",
    "#     print(f\" - {fact}\")"
   ]
  },
  {
   "cell_type": "code",
   "execution_count": null,
   "metadata": {},
   "outputs": [],
   "source": []
  }
 ],
 "metadata": {
  "interpreter": {
   "hash": "1896aa35b81211380f11e3145d7d4dc0c811328c1fb9a2486babc0b96befe459"
  },
  "kernelspec": {
   "display_name": "Python 3.8.6 64-bit ('venv': venv)",
   "language": "python",
   "name": "python3"
  },
  "language_info": {
   "codemirror_mode": {
    "name": "ipython",
    "version": 3
   },
   "file_extension": ".py",
   "mimetype": "text/x-python",
   "name": "python",
   "nbconvert_exporter": "python",
   "pygments_lexer": "ipython3",
   "version": "3.8.6"
  },
  "orig_nbformat": 4
 },
 "nbformat": 4,
 "nbformat_minor": 2
}
