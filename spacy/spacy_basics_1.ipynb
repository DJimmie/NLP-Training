{
 "cells": [
  {
   "cell_type": "code",
   "execution_count": null,
   "metadata": {},
   "outputs": [],
   "source": [
    "import spacy\n",
    "from spacy import displacy\n",
    "from IPython.core.display import display, HTML\n",
    "import webbrowser"
   ]
  },
  {
   "cell_type": "code",
   "execution_count": null,
   "metadata": {},
   "outputs": [],
   "source": [
    "def tokenization(s):\n",
    "    nlp = spacy.load(\"en_core_web_sm\")\n",
    "    doc = nlp(s)\n",
    "    for token in doc:\n",
    "        print(token.text, token.pos_, token.dep_)\n",
    "\n"
   ]
  },
  {
   "cell_type": "code",
   "execution_count": null,
   "metadata": {},
   "outputs": [],
   "source": [
    "def parts_of_speech(s):\n",
    "    nlp = spacy.load(\"en_core_web_sm\")\n",
    "    doc = nlp(s)\n",
    "\n",
    "    for token in doc:\n",
    "        print(f'text: {token.text}\\nlemma: {token.lemma_}\\nPOS: {token.pos_}\\nTag: {token.tag_}\\nDEP: {token.dep_}\\nShape{token.shape_}\\nIs Alpha: {token.is_alpha}\\nIs stop word: {token.is_stop}')\n",
    "        print('\\n\\n')"
   ]
  },
  {
   "cell_type": "code",
   "execution_count": null,
   "metadata": {},
   "outputs": [],
   "source": [
    "def named_entities(s):\n",
    "    nlp = spacy.load(\"en_core_web_sm\")\n",
    "    doc = nlp(s)\n",
    "    html=displacy.render(doc, page=False, jupyter=True, style='ent')\n",
    "    display(HTML(html))\n",
    "    return [(ent.text,ent.label_) for ent in doc.ents]\n"
   ]
  },
  {
   "cell_type": "code",
   "execution_count": null,
   "metadata": {},
   "outputs": [],
   "source": [
    "def entity_relationship(s):\n",
    "    nlp = spacy.load(\"en_core_web_sm\")\n",
    "    doc = nlp(s)\n",
    "    html=displacy.render(doc, page=False, jupyter=True, style='ent')\n",
    "    a=display(HTML(html))\n",
    "\n",
    "\n",
    "    webbrowser.open(a)"
   ]
  },
  {
   "cell_type": "code",
   "execution_count": null,
   "metadata": {},
   "outputs": [],
   "source": [
    "parts_of_speech('The heating element failed while going cold.')"
   ]
  },
  {
   "cell_type": "code",
   "execution_count": null,
   "metadata": {},
   "outputs": [],
   "source": [
    "tokenization('The heating element failed while going cold.')\n"
   ]
  },
  {
   "cell_type": "code",
   "execution_count": null,
   "metadata": {},
   "outputs": [],
   "source": [
    "ner=named_entities('The heating element failed while going cold.')\n",
    "\n",
    "print(ner)"
   ]
  },
  {
   "cell_type": "code",
   "execution_count": null,
   "metadata": {},
   "outputs": [],
   "source": [
    "entity_relationship('The heating element failed while going cold.')"
   ]
  },
  {
   "cell_type": "code",
   "execution_count": 3,
   "metadata": {},
   "outputs": [],
   "source": [
    "import spacy\n",
    "from spacy import displacy\n",
    "from pathlib import Path\n",
    "\n",
    "nlp = spacy.load(\"en_core_web_sm\")\n",
    "sentences = [\"This is an example.\", \"This is another one.\"]\n",
    "for sent in sentences:\n",
    "    doc = nlp(sent)\n",
    "    svg = displacy.render(doc, style=\"dep\", jupyter=False)\n",
    "    file_name = '-'.join([w.text for w in doc if not w.is_punct]) + \".svg\"\n",
    "    output_path = Path(file_name)\n",
    "    output_path.open(\"w\", encoding=\"utf-8\").write(svg)"
   ]
  }
 ],
 "metadata": {
  "interpreter": {
   "hash": "1896aa35b81211380f11e3145d7d4dc0c811328c1fb9a2486babc0b96befe459"
  },
  "kernelspec": {
   "display_name": "Python 3.8.6 64-bit ('venv': venv)",
   "language": "python",
   "name": "python3"
  },
  "language_info": {
   "codemirror_mode": {
    "name": "ipython",
    "version": 3
   },
   "file_extension": ".py",
   "mimetype": "text/x-python",
   "name": "python",
   "nbconvert_exporter": "python",
   "pygments_lexer": "ipython3",
   "version": "3.8.6"
  },
  "orig_nbformat": 4
 },
 "nbformat": 4,
 "nbformat_minor": 2
}
