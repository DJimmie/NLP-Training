{
 "cells": [
  {
   "cell_type": "markdown",
   "metadata": {},
   "source": [
    "# Processing Raw Text"
   ]
  },
  {
   "cell_type": "markdown",
   "metadata": {},
   "source": []
  },
  {
   "cell_type": "code",
   "execution_count": 34,
   "metadata": {},
   "outputs": [],
   "source": [
    "import nltk, re, pprint\n",
    "from nltk import word_tokenize\n",
    "\n",
    "import re"
   ]
  },
  {
   "cell_type": "markdown",
   "metadata": {},
   "source": [
    "## Accessing Text from the Web and from Disk"
   ]
  },
  {
   "cell_type": "code",
   "execution_count": null,
   "metadata": {},
   "outputs": [],
   "source": [
    "from urllib import request\n",
    "url = \"http://www.gutenberg.org/files/2554/2554-0.txt\"\n",
    "response = request.urlopen(url)\n",
    "raw = response.read().decode('utf8')"
   ]
  },
  {
   "cell_type": "code",
   "execution_count": null,
   "metadata": {},
   "outputs": [],
   "source": [
    "type(raw)"
   ]
  },
  {
   "cell_type": "code",
   "execution_count": null,
   "metadata": {},
   "outputs": [],
   "source": [
    "len(raw)"
   ]
  },
  {
   "cell_type": "code",
   "execution_count": null,
   "metadata": {},
   "outputs": [],
   "source": [
    "raw[:75]\n"
   ]
  },
  {
   "cell_type": "code",
   "execution_count": null,
   "metadata": {},
   "outputs": [],
   "source": [
    "tokens = word_tokenize(raw)\n",
    "len(tokens)"
   ]
  },
  {
   "cell_type": "code",
   "execution_count": null,
   "metadata": {},
   "outputs": [],
   "source": [
    "tokens[:75]"
   ]
  },
  {
   "cell_type": "code",
   "execution_count": null,
   "metadata": {},
   "outputs": [],
   "source": [
    "text = nltk.Text(tokens)\n",
    "type(text)"
   ]
  },
  {
   "cell_type": "code",
   "execution_count": null,
   "metadata": {},
   "outputs": [],
   "source": [
    "text.collocations()"
   ]
  },
  {
   "cell_type": "code",
   "execution_count": null,
   "metadata": {},
   "outputs": [],
   "source": [
    "raw.find(\"PART I\")"
   ]
  },
  {
   "cell_type": "code",
   "execution_count": null,
   "metadata": {},
   "outputs": [],
   "source": [
    "raw.rfind(\"End of Project Gutenberg's Crime\")"
   ]
  },
  {
   "cell_type": "code",
   "execution_count": null,
   "metadata": {},
   "outputs": [],
   "source": [
    "raw = raw[5575:-1]\n",
    "raw.find(\"PART I\")"
   ]
  },
  {
   "cell_type": "markdown",
   "metadata": {},
   "source": [
    "## Dealing with HTML"
   ]
  },
  {
   "cell_type": "code",
   "execution_count": null,
   "metadata": {},
   "outputs": [],
   "source": [
    "url = \"http://news.bbc.co.uk/2/hi/health/2284783.stm\"\n",
    "html = request.urlopen(url).read().decode('utf8')\n",
    "html[:60]"
   ]
  },
  {
   "cell_type": "code",
   "execution_count": null,
   "metadata": {},
   "outputs": [],
   "source": [
    "from bs4 import BeautifulSoup\n",
    "raw = BeautifulSoup(html, 'html.parser').get_text()\n",
    "tokens = word_tokenize(raw)\n",
    "tokens"
   ]
  },
  {
   "cell_type": "code",
   "execution_count": null,
   "metadata": {},
   "outputs": [],
   "source": [
    "tokens = tokens[110:390]\n",
    "text = nltk.Text(tokens)\n",
    "text.concordance('gene')"
   ]
  },
  {
   "cell_type": "code",
   "execution_count": null,
   "metadata": {},
   "outputs": [],
   "source": [
    "text.collocations()"
   ]
  },
  {
   "cell_type": "markdown",
   "metadata": {},
   "source": [
    "## Processing Search Engine Results\n",
    "## Processing RSS Feeds"
   ]
  },
  {
   "cell_type": "code",
   "execution_count": null,
   "metadata": {},
   "outputs": [],
   "source": [
    "import feedparser\n",
    "llog = feedparser.parse(\"http://languagelog.ldc.upenn.edu/nll/?feed=atom\")\n",
    "llog['feed']['title']"
   ]
  },
  {
   "cell_type": "code",
   "execution_count": null,
   "metadata": {},
   "outputs": [],
   "source": [
    "len(llog.entries)"
   ]
  },
  {
   "cell_type": "code",
   "execution_count": null,
   "metadata": {},
   "outputs": [],
   "source": [
    "post = llog.entries[2]\n",
    "post.title"
   ]
  },
  {
   "cell_type": "code",
   "execution_count": null,
   "metadata": {},
   "outputs": [],
   "source": [
    "content = post.content[0].value\n",
    "content[:70]"
   ]
  },
  {
   "cell_type": "code",
   "execution_count": null,
   "metadata": {},
   "outputs": [],
   "source": [
    "raw = BeautifulSoup(content, 'html.parser').get_text()\n",
    "word_tokenize(raw)"
   ]
  },
  {
   "cell_type": "markdown",
   "metadata": {},
   "source": [
    "## Extracting Text from PDF, MSWord and other Binary Formats"
   ]
  },
  {
   "cell_type": "code",
   "execution_count": null,
   "metadata": {},
   "outputs": [],
   "source": [
    "a='On an exceptionally hot evening early in July'\n",
    "len(a)"
   ]
  },
  {
   "cell_type": "code",
   "execution_count": null,
   "metadata": {},
   "outputs": [],
   "source": [
    "a=word_tokenize(a)\n",
    "a"
   ]
  },
  {
   "cell_type": "code",
   "execution_count": null,
   "metadata": {},
   "outputs": [],
   "source": [
    "len(a)"
   ]
  },
  {
   "cell_type": "code",
   "execution_count": null,
   "metadata": {},
   "outputs": [],
   "source": [
    "couplet = \"Shall I compare thee to a Summer's day?\"\\\n",
    "\"Thou are more lovely and more temperate:\"\\\n",
    "\"gfjhjhgjgghjgiugkgiugkgiugkguigkguigk\""
   ]
  },
  {
   "cell_type": "code",
   "execution_count": null,
   "metadata": {},
   "outputs": [],
   "source": [
    "couplet"
   ]
  },
  {
   "cell_type": "code",
   "execution_count": null,
   "metadata": {},
   "outputs": [],
   "source": [
    "couplet = (\n",
    "\"Rough winds do shake the darling buds of May,\"\n",
    "\"And Summer's lease hath all too short a date:\"\n",
    ")\n",
    "\n",
    "couplet"
   ]
  },
  {
   "cell_type": "markdown",
   "metadata": {},
   "source": [
    "## The NLP Pipeline"
   ]
  },
  {
   "cell_type": "code",
   "execution_count": null,
   "metadata": {},
   "outputs": [],
   "source": []
  },
  {
   "cell_type": "markdown",
   "metadata": {},
   "source": [
    "## Regular Expressions for Detecting Word Patterns"
   ]
  },
  {
   "cell_type": "code",
   "execution_count": 32,
   "metadata": {},
   "outputs": [],
   "source": [
    "with open(\"text_doc.txt\") as f:   \n",
    "    data = f.read()\n"
   ]
  },
  {
   "cell_type": "markdown",
   "metadata": {},
   "source": []
  },
  {
   "cell_type": "code",
   "execution_count": 33,
   "metadata": {},
   "outputs": [
    {
     "data": {
      "text/plain": [
       "'APU consumables pre-mission planning includes prediction, analysis, and post-flight performance evaluations for determining consumables requirements. APU \\nhydrazine and injector cooling water-loading quantities are loaded per OMRSD requirements, which allow for loading uncertainty. Launch Commit Criteria monitor \\nfor hydrazine leakage, ensure sufficient GN2 for gearbox repressurization and verify adequate hydraulic fluid quantity for flight. Minimum pre-deorbit APU fuel \\nquantity requirements are defined in the Flight Rules.  Mission Control Center monitors consumables usage during the mission. Mission planning includes \\nderivation of APU fuel reserves. Orbiter Fluid Budget allows for loading uncertainty and shows adequate reserves after worst-case consumption during Abort Once \\nAround (AOA) landing. APU gas generator injector tube cooling water-loading quantity is provided for contingency operations only when a hot APU restart is \\nrequired (sufficient time is not available for normal APU cool down time of about 180 minutes). Cooling water quantity provided is sufficient for six hot restarts'"
      ]
     },
     "execution_count": 33,
     "metadata": {},
     "output_type": "execute_result"
    }
   ],
   "source": [
    "data"
   ]
  },
  {
   "cell_type": "code",
   "execution_count": 39,
   "metadata": {},
   "outputs": [
    {
     "data": {
      "text/plain": [
       "['consumables',\n",
       " 'pre-mission',\n",
       " 'planning',\n",
       " 'includes',\n",
       " 'prediction',\n",
       " 'analysis',\n",
       " 'and',\n",
       " 'post-flight',\n",
       " 'performance',\n",
       " 'evaluations',\n",
       " 'for',\n",
       " 'determining',\n",
       " 'consumables',\n",
       " 'requirements',\n",
       " 'hydrazine',\n",
       " 'and',\n",
       " 'injector',\n",
       " 'cooling',\n",
       " 'water-loading',\n",
       " 'quantities',\n",
       " 'are',\n",
       " 'loaded',\n",
       " 'per',\n",
       " 'requirements',\n",
       " 'which',\n",
       " 'allow',\n",
       " 'for',\n",
       " 'loading',\n",
       " 'uncertainty',\n",
       " 'monitor',\n",
       " 'for',\n",
       " 'hydrazine',\n",
       " 'leakage',\n",
       " 'ensure',\n",
       " 'sufficient',\n",
       " 'for',\n",
       " 'gearbox',\n",
       " 'repressurization',\n",
       " 'and',\n",
       " 'verify',\n",
       " 'adequate',\n",
       " 'hydraulic',\n",
       " 'fluid',\n",
       " 'quantity',\n",
       " 'for',\n",
       " 'flight',\n",
       " 'pre-deorbit',\n",
       " 'fuel',\n",
       " 'quantity',\n",
       " 'requirements',\n",
       " 'are',\n",
       " 'defined',\n",
       " 'in',\n",
       " 'the',\n",
       " 'monitors',\n",
       " 'consumables',\n",
       " 'usage',\n",
       " 'during',\n",
       " 'the',\n",
       " 'mission',\n",
       " 'planning',\n",
       " 'includes',\n",
       " 'derivation',\n",
       " 'of',\n",
       " 'fuel',\n",
       " 'reserves',\n",
       " 'allows',\n",
       " 'for',\n",
       " 'loading',\n",
       " 'uncertainty',\n",
       " 'and',\n",
       " 'shows',\n",
       " 'adequate',\n",
       " 'reserves',\n",
       " 'after',\n",
       " 'worst-case',\n",
       " 'consumption',\n",
       " 'during',\n",
       " 'landing',\n",
       " 'gas',\n",
       " 'generator',\n",
       " 'injector',\n",
       " 'tube',\n",
       " 'cooling',\n",
       " 'water-loading',\n",
       " 'quantity',\n",
       " 'is',\n",
       " 'provided',\n",
       " 'for',\n",
       " 'contingency',\n",
       " 'operations',\n",
       " 'only',\n",
       " 'when',\n",
       " 'a',\n",
       " 'hot',\n",
       " 'restart',\n",
       " 'is',\n",
       " 'required',\n",
       " 'sufficient',\n",
       " 'time',\n",
       " 'is',\n",
       " 'not',\n",
       " 'available',\n",
       " 'for',\n",
       " 'normal',\n",
       " 'cool',\n",
       " 'down',\n",
       " 'time',\n",
       " 'of',\n",
       " 'about',\n",
       " 'minutes',\n",
       " 'water',\n",
       " 'quantity',\n",
       " 'provided',\n",
       " 'is',\n",
       " 'sufficient',\n",
       " 'for',\n",
       " 'six',\n",
       " 'hot',\n",
       " 'restarts']"
      ]
     },
     "execution_count": 39,
     "metadata": {},
     "output_type": "execute_result"
    }
   ],
   "source": [
    "wordlist = [w for w in nltk.word_tokenize(data) if w.islower()]\n",
    "wordlist\n"
   ]
  },
  {
   "cell_type": "code",
   "execution_count": 40,
   "metadata": {},
   "outputs": [
    {
     "data": {
      "text/plain": [
       "['planning',\n",
       " 'determining',\n",
       " 'cooling',\n",
       " 'water-loading',\n",
       " 'loading',\n",
       " 'during',\n",
       " 'planning',\n",
       " 'loading',\n",
       " 'during',\n",
       " 'landing',\n",
       " 'cooling',\n",
       " 'water-loading']"
      ]
     },
     "execution_count": 40,
     "metadata": {},
     "output_type": "execute_result"
    }
   ],
   "source": [
    "[w for w in wordlist if re.search('ing$',w)]"
   ]
  },
  {
   "cell_type": "code",
   "execution_count": null,
   "metadata": {},
   "outputs": [],
   "source": []
  }
 ],
 "metadata": {
  "interpreter": {
   "hash": "6a7267efbf6fadf323e6919ae49483da79d63800eb323ed7cd34ea2e36e2688e"
  },
  "kernelspec": {
   "display_name": "Python 3.8.6 64-bit ('venv': venv)",
   "name": "python3"
  },
  "language_info": {
   "codemirror_mode": {
    "name": "ipython",
    "version": 3
   },
   "file_extension": ".py",
   "mimetype": "text/x-python",
   "name": "python",
   "nbconvert_exporter": "python",
   "pygments_lexer": "ipython3",
   "version": "3.8.6"
  },
  "orig_nbformat": 4
 },
 "nbformat": 4,
 "nbformat_minor": 2
}
