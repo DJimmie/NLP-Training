{
 "cells": [
  {
   "cell_type": "markdown",
   "metadata": {},
   "source": [
    "# Introduction to regular expressions"
   ]
  },
  {
   "cell_type": "markdown",
   "metadata": {},
   "source": [
    "## Dependances"
   ]
  },
  {
   "cell_type": "code",
   "execution_count": 16,
   "metadata": {},
   "outputs": [],
   "source": [
    "import re"
   ]
  },
  {
   "cell_type": "code",
   "execution_count": 17,
   "metadata": {},
   "outputs": [],
   "source": [
    "# from rich import print\n",
    "from rich.console import Console\n",
    "console=Console(record=True)"
   ]
  },
  {
   "cell_type": "code",
   "execution_count": 18,
   "metadata": {},
   "outputs": [
    {
     "data": {
      "text/html": [
       "<pre style=\"white-space:pre;overflow-x:auto;line-height:normal;font-family:Menlo,'DejaVu Sans Mono',consolas,'Courier New',monospace\"><span style=\"color: #000000; text-decoration-color: #000000; background-color: #c0c0c0; font-weight: bold\">&lt;</span><span style=\"color: #ff00ff; text-decoration-color: #ff00ff; background-color: #c0c0c0; font-weight: bold\">re.Match</span><span style=\"color: #000000; text-decoration-color: #000000; background-color: #c0c0c0; font-weight: bold\"> object; </span><span style=\"color: #808000; text-decoration-color: #808000; background-color: #c0c0c0; font-weight: bold\">span</span><span style=\"color: #000000; text-decoration-color: #000000; background-color: #c0c0c0; font-weight: bold\">=(</span><span style=\"color: #008080; text-decoration-color: #008080; background-color: #c0c0c0; font-weight: bold\">0</span><span style=\"color: #000000; text-decoration-color: #000000; background-color: #c0c0c0; font-weight: bold\">, </span><span style=\"color: #008080; text-decoration-color: #008080; background-color: #c0c0c0; font-weight: bold\">3</span><span style=\"color: #000000; text-decoration-color: #000000; background-color: #c0c0c0; font-weight: bold\">), </span><span style=\"color: #808000; text-decoration-color: #808000; background-color: #c0c0c0; font-weight: bold\">match</span><span style=\"color: #000000; text-decoration-color: #000000; background-color: #c0c0c0; font-weight: bold\">=</span><span style=\"color: #008000; text-decoration-color: #008000; background-color: #c0c0c0\">'Jim'</span><span style=\"color: #000000; text-decoration-color: #000000; background-color: #c0c0c0; font-weight: bold\">&gt;</span>\n",
       "</pre>\n"
      ],
      "text/plain": [
       "\u001b[1;30;47m<\u001b[0m\u001b[1;95;47mre.Match\u001b[0m\u001b[1;39;47m object; \u001b[0m\u001b[1;33;47mspan\u001b[0m\u001b[1;39;47m=\u001b[0m\u001b[1;39;47m(\u001b[0m\u001b[1;36;47m0\u001b[0m\u001b[1;39;47m, \u001b[0m\u001b[1;36;47m3\u001b[0m\u001b[1;39;47m)\u001b[0m\u001b[1;39;47m, \u001b[0m\u001b[1;33;47mmatch\u001b[0m\u001b[1;39;47m=\u001b[0m\u001b[32;47m'Jim'\u001b[0m\u001b[1;30;47m>\u001b[0m\n"
      ]
     },
     "metadata": {},
     "output_type": "display_data"
    }
   ],
   "source": [
    "console.print(re.match('Jim','JimDowd'),style=\"bold black on white\")"
   ]
  },
  {
   "cell_type": "code",
   "execution_count": 19,
   "metadata": {},
   "outputs": [
    {
     "data": {
      "text/plain": [
       "['Let', 's', 'write', 'RegEx']"
      ]
     },
     "execution_count": 19,
     "metadata": {},
     "output_type": "execute_result"
    }
   ],
   "source": [
    "my_string = \"Let's write RegEx!\"\n",
    "re.findall(r\"\\w+\", my_string)"
   ]
  },
  {
   "cell_type": "code",
   "execution_count": null,
   "metadata": {},
   "outputs": [],
   "source": []
  },
  {
   "cell_type": "code",
   "execution_count": 20,
   "metadata": {},
   "outputs": [],
   "source": [
    "# Write a pattern to match sentence endings: sentence_endings\n",
    "sentence_endings = r\"[.?!]\""
   ]
  },
  {
   "cell_type": "code",
   "execution_count": 21,
   "metadata": {},
   "outputs": [],
   "source": [
    "text=\"Else, you may encounter problems to do with escape sequences in strings. For example\""
   ]
  },
  {
   "cell_type": "code",
   "execution_count": 22,
   "metadata": {},
   "outputs": [
    {
     "data": {
      "text/plain": [
       "['Else, you may encounter problems to do with escape sequences in strings',\n",
       " ' For example']"
      ]
     },
     "execution_count": 22,
     "metadata": {},
     "output_type": "execute_result"
    }
   ],
   "source": [
    "re.split(sentence_endings,text)"
   ]
  },
  {
   "cell_type": "code",
   "execution_count": 23,
   "metadata": {},
   "outputs": [],
   "source": [
    "capitalized_words=r\"['A-Z']\\w+\""
   ]
  },
  {
   "cell_type": "code",
   "execution_count": 24,
   "metadata": {},
   "outputs": [
    {
     "data": {
      "text/plain": [
       "['Else', 'For']"
      ]
     },
     "execution_count": 24,
     "metadata": {},
     "output_type": "execute_result"
    }
   ],
   "source": [
    "re.findall(capitalized_words,text)"
   ]
  },
  {
   "cell_type": "code",
   "execution_count": 25,
   "metadata": {},
   "outputs": [],
   "source": [
    "spaces=r\"\\s+\""
   ]
  },
  {
   "cell_type": "code",
   "execution_count": 26,
   "metadata": {},
   "outputs": [
    {
     "data": {
      "text/html": [
       "<pre style=\"white-space:pre;overflow-x:auto;line-height:normal;font-family:Menlo,'DejaVu Sans Mono',consolas,'Courier New',monospace\"><span style=\"font-weight: bold\">[</span>\n",
       "    <span style=\"color: #008000; text-decoration-color: #008000\">'Else,'</span>,\n",
       "    <span style=\"color: #008000; text-decoration-color: #008000\">'you'</span>,\n",
       "    <span style=\"color: #008000; text-decoration-color: #008000\">'may'</span>,\n",
       "    <span style=\"color: #008000; text-decoration-color: #008000\">'encounter'</span>,\n",
       "    <span style=\"color: #008000; text-decoration-color: #008000\">'problems'</span>,\n",
       "    <span style=\"color: #008000; text-decoration-color: #008000\">'to'</span>,\n",
       "    <span style=\"color: #008000; text-decoration-color: #008000\">'do'</span>,\n",
       "    <span style=\"color: #008000; text-decoration-color: #008000\">'with'</span>,\n",
       "    <span style=\"color: #008000; text-decoration-color: #008000\">'escape'</span>,\n",
       "    <span style=\"color: #008000; text-decoration-color: #008000\">'sequences'</span>,\n",
       "    <span style=\"color: #008000; text-decoration-color: #008000\">'in'</span>,\n",
       "    <span style=\"color: #008000; text-decoration-color: #008000\">'strings.'</span>,\n",
       "    <span style=\"color: #008000; text-decoration-color: #008000\">'For'</span>,\n",
       "    <span style=\"color: #008000; text-decoration-color: #008000\">'example'</span>\n",
       "<span style=\"font-weight: bold\">]</span>\n",
       "</pre>\n"
      ],
      "text/plain": [
       "\u001b[1m[\u001b[0m\n",
       "    \u001b[32m'Else,'\u001b[0m,\n",
       "    \u001b[32m'you'\u001b[0m,\n",
       "    \u001b[32m'may'\u001b[0m,\n",
       "    \u001b[32m'encounter'\u001b[0m,\n",
       "    \u001b[32m'problems'\u001b[0m,\n",
       "    \u001b[32m'to'\u001b[0m,\n",
       "    \u001b[32m'do'\u001b[0m,\n",
       "    \u001b[32m'with'\u001b[0m,\n",
       "    \u001b[32m'escape'\u001b[0m,\n",
       "    \u001b[32m'sequences'\u001b[0m,\n",
       "    \u001b[32m'in'\u001b[0m,\n",
       "    \u001b[32m'strings.'\u001b[0m,\n",
       "    \u001b[32m'For'\u001b[0m,\n",
       "    \u001b[32m'example'\u001b[0m\n",
       "\u001b[1m]\u001b[0m\n"
      ]
     },
     "metadata": {},
     "output_type": "display_data"
    }
   ],
   "source": [
    "console.print(re.split(spaces,text))"
   ]
  },
  {
   "cell_type": "code",
   "execution_count": 27,
   "metadata": {},
   "outputs": [],
   "source": [
    "text=\"FOR THE PAST 15 years, NASA’s Mars Reconnaissance Orbiter has been doing laps around the Red Planet studying its climate2020 and geology 2021.\""
   ]
  },
  {
   "cell_type": "code",
   "execution_count": 28,
   "metadata": {},
   "outputs": [],
   "source": [
    "digits=r\"\\d+\""
   ]
  },
  {
   "cell_type": "code",
   "execution_count": 29,
   "metadata": {},
   "outputs": [
    {
     "data": {
      "text/plain": [
       "['15', '2020', '2021']"
      ]
     },
     "execution_count": 29,
     "metadata": {},
     "output_type": "execute_result"
    }
   ],
   "source": [
    "re.findall(digits,text)"
   ]
  },
  {
   "cell_type": "code",
   "execution_count": null,
   "metadata": {},
   "outputs": [],
   "source": []
  },
  {
   "cell_type": "code",
   "execution_count": null,
   "metadata": {},
   "outputs": [],
   "source": []
  },
  {
   "cell_type": "code",
   "execution_count": null,
   "metadata": {},
   "outputs": [],
   "source": []
  },
  {
   "cell_type": "markdown",
   "metadata": {},
   "source": [
    "# Bag-of-Words"
   ]
  },
  {
   "cell_type": "code",
   "execution_count": 36,
   "metadata": {},
   "outputs": [
    {
     "data": {
      "text/plain": [
       "Counter({'for': 1,\n",
       "         'the': 2,\n",
       "         'past': 1,\n",
       "         '15': 1,\n",
       "         'years': 1,\n",
       "         ',': 1,\n",
       "         'nasa': 1,\n",
       "         '’': 1,\n",
       "         's': 1,\n",
       "         'mars': 1,\n",
       "         'reconnaissance': 1,\n",
       "         'orbiter': 1,\n",
       "         'has': 1,\n",
       "         'been': 1,\n",
       "         'doing': 1,\n",
       "         'laps': 1,\n",
       "         'around': 1,\n",
       "         'red': 1,\n",
       "         'planet': 1,\n",
       "         'studying': 1,\n",
       "         'its': 1,\n",
       "         'climate2020': 1,\n",
       "         'and': 1,\n",
       "         'geology': 1,\n",
       "         '2021': 1,\n",
       "         '.': 1})"
      ]
     },
     "execution_count": 36,
     "metadata": {},
     "output_type": "execute_result"
    }
   ],
   "source": [
    "from nltk.tokenize import word_tokenize\n",
    "from collections import Counter\n",
    "\n",
    "text=text.lower()\n",
    "Counter(word_tokenize(text))\n"
   ]
  },
  {
   "cell_type": "code",
   "execution_count": 37,
   "metadata": {},
   "outputs": [
    {
     "data": {
      "text/plain": [
       "[(' ', 22), ('a', 13)]"
      ]
     },
     "execution_count": 37,
     "metadata": {},
     "output_type": "execute_result"
    }
   ],
   "source": [
    "Counter(text).most_common(2)"
   ]
  },
  {
   "cell_type": "code",
   "execution_count": 38,
   "metadata": {},
   "outputs": [
    {
     "data": {
      "text/plain": [
       "[('the', 2), ('for', 1)]"
      ]
     },
     "execution_count": 38,
     "metadata": {},
     "output_type": "execute_result"
    }
   ],
   "source": [
    "Counter(word_tokenize(text)).most_common(2)"
   ]
  },
  {
   "cell_type": "code",
   "execution_count": null,
   "metadata": {},
   "outputs": [],
   "source": []
  }
 ],
 "metadata": {
  "interpreter": {
   "hash": "6a7267efbf6fadf323e6919ae49483da79d63800eb323ed7cd34ea2e36e2688e"
  },
  "kernelspec": {
   "display_name": "Python 3.8.6 64-bit ('venv': venv)",
   "name": "python3"
  },
  "language_info": {
   "codemirror_mode": {
    "name": "ipython",
    "version": 3
   },
   "file_extension": ".py",
   "mimetype": "text/x-python",
   "name": "python",
   "nbconvert_exporter": "python",
   "pygments_lexer": "ipython3",
   "version": "3.8.6"
  },
  "orig_nbformat": 4
 },
 "nbformat": 4,
 "nbformat_minor": 2
}
