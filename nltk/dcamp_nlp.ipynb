{
 "cells": [
  {
   "cell_type": "markdown",
   "metadata": {},
   "source": [
    "# NLTK PROCESS"
   ]
  },
  {
   "cell_type": "markdown",
   "metadata": {},
   "source": [
    "## Dependances"
   ]
  },
  {
   "cell_type": "code",
   "execution_count": 1,
   "metadata": {},
   "outputs": [],
   "source": [
    "import re\n",
    "import os \n",
    "import sys\n",
    "from urllib.request import urlopen\n",
    "import requests\n",
    "import pprint\n",
    "import math\n"
   ]
  },
  {
   "cell_type": "code",
   "execution_count": 2,
   "metadata": {},
   "outputs": [],
   "source": [
    "import nltk\n",
    "from nltk import sent_tokenize\n",
    "from nltk import word_tokenize\n",
    "from nltk.grammar import DependencyGrammar\n",
    "from nltk.parse import CoreNLPParser\n",
    "\n"
   ]
  },
  {
   "cell_type": "code",
   "execution_count": 3,
   "metadata": {},
   "outputs": [],
   "source": [
    "from bs4 import BeautifulSoup\n",
    "import pandas as pd\n",
    "import seaborn as sns"
   ]
  },
  {
   "cell_type": "code",
   "execution_count": 4,
   "metadata": {},
   "outputs": [],
   "source": [
    "# from rich import print\n",
    "from rich.console import Console\n",
    "console=Console(record=True)"
   ]
  },
  {
   "cell_type": "code",
   "execution_count": 5,
   "metadata": {},
   "outputs": [
    {
     "data": {
      "text/html": [
       "<pre style=\"white-space:pre;overflow-x:auto;line-height:normal;font-family:Menlo,'DejaVu Sans Mono',consolas,'Courier New',monospace\"><span style=\"color: #000000; text-decoration-color: #000000; background-color: #c0c0c0; font-weight: bold\">&lt;</span><span style=\"color: #ff00ff; text-decoration-color: #ff00ff; background-color: #c0c0c0; font-weight: bold\">re.Match</span><span style=\"color: #000000; text-decoration-color: #000000; background-color: #c0c0c0; font-weight: bold\"> object; </span><span style=\"color: #808000; text-decoration-color: #808000; background-color: #c0c0c0; font-weight: bold\">span</span><span style=\"color: #000000; text-decoration-color: #000000; background-color: #c0c0c0; font-weight: bold\">=(</span><span style=\"color: #008080; text-decoration-color: #008080; background-color: #c0c0c0; font-weight: bold\">0</span><span style=\"color: #000000; text-decoration-color: #000000; background-color: #c0c0c0; font-weight: bold\">, </span><span style=\"color: #008080; text-decoration-color: #008080; background-color: #c0c0c0; font-weight: bold\">3</span><span style=\"color: #000000; text-decoration-color: #000000; background-color: #c0c0c0; font-weight: bold\">), </span><span style=\"color: #808000; text-decoration-color: #808000; background-color: #c0c0c0; font-weight: bold\">match</span><span style=\"color: #000000; text-decoration-color: #000000; background-color: #c0c0c0; font-weight: bold\">=</span><span style=\"color: #008000; text-decoration-color: #008000; background-color: #c0c0c0\">'Jim'</span><span style=\"color: #000000; text-decoration-color: #000000; background-color: #c0c0c0; font-weight: bold\">&gt;</span>\n",
       "</pre>\n"
      ],
      "text/plain": [
       "\u001b[1;30;47m<\u001b[0m\u001b[1;95;47mre.Match\u001b[0m\u001b[1;39;47m object; \u001b[0m\u001b[1;33;47mspan\u001b[0m\u001b[1;39;47m=\u001b[0m\u001b[1;39;47m(\u001b[0m\u001b[1;36;47m0\u001b[0m\u001b[1;39;47m, \u001b[0m\u001b[1;36;47m3\u001b[0m\u001b[1;39;47m)\u001b[0m\u001b[1;39;47m, \u001b[0m\u001b[1;33;47mmatch\u001b[0m\u001b[1;39;47m=\u001b[0m\u001b[32;47m'Jim'\u001b[0m\u001b[1;30;47m>\u001b[0m\n"
      ]
     },
     "metadata": {},
     "output_type": "display_data"
    }
   ],
   "source": [
    "console.print(re.match('Jim','JimDowd'),style=\"bold black on white\")"
   ]
  },
  {
   "cell_type": "markdown",
   "metadata": {},
   "source": [
    "## Get Data"
   ]
  },
  {
   "cell_type": "markdown",
   "metadata": {},
   "source": [
    "### from file"
   ]
  },
  {
   "cell_type": "code",
   "execution_count": 6,
   "metadata": {},
   "outputs": [
    {
     "data": {
      "text/plain": [
       "'\\nOXYGEN TANKS, HYDROGEN TANKS, FUEL CELLS \\nSERVICE PROPULSION SUBSYSTEM \\nSECTOR 6 FUEL TANKS \\nCENTER SECTIONÂ· SERVICE PROPULSION ENGINE ANO \\nHELIUM TANKS \\nFunction \\nThe service module contains the main spacecraft \\npropulsion system and supplies most of the space\\x02craft\\'s consumables (oxygen, water, propellant, \\nhydrogen). It is not manned. The service module \\nremains attached to the command module until \\njust before entry, when it is jettisoned and is \\ndestroyed during entry. \\nMajor Subsystems \\nElectrical power \\nEnvironmental control \\nReaction control \\nService propulsion \\nTelecommunications \\n\\nService module mated to command module at Kennedy Space Center \\n) \\n.-\\n\\\\lt --\\':. \\nThe service module is a cylindrical structure which \\nserves as a storehouse of critical subsystems and \\nsupplies for almost the entire lunar mission. It is \\nattached to the command module from launch until \\njust before earth atmosphere entry. \\nThe service module contains the spacecraft\\'s main \\npropulsion engine, which is used to brake the space\\x02craft and put it into orbit around the moon and to \\nsend it on the homeward journey from the moon. \\nThe engine also is used to correct the spacecraft\\'s \\ncourse on both the trips to and from the moon. \\nBesides the service propulsion engine and its pro\\x02pellant and helium tanks, the service module con\\x02tains a major portion of the electrical power, \\nenvironmental control, and reaction control sub\\x02systems, and a small portion of the communica\\x02tions subsystem. \\nIt is strictly a servicing unit of the spacecraft, but \\nit is more than twice as long and more than four \\ntimes as heavy as the manned command module. \\nAbout 75 percent of the service module\\'s weight \\nis in propellant for the service propulsion engine. \\nSTRUCTURE \\nThe service module is a relatively simple structure \\nconsisting of a center section or tunnel surrounded \\nby six pie-shaped sectors. \\nThe basic structural components are forward and \\naft (upper and lower) bulkheads, six radial beams, \\nfour sector honeycomb panels, four reaction con\\x02trol system honeycomb panels, an aft heat shield, \\nand a fairing. \\nThe radial beams are made of solid aluminum \\nalloy which has been machined and chem-milled \\n(metal removed by chemical action) to thicknesses \\nvarying between 2 inches and 0.018 inch, thus mak\\x02ing a lightweight, efficient structure. \\nThe forward and aft bulkheads cover the top and \\nbottom of the module. Radial beam trusses ex\\x02tending above the forward bulkhead support and \\nsecure the command module. Three of these beams \\nhave compression pads and the other three have \\nshear-compression pads and tension ties. Explosive \\ncharges in the center sections of these tension ties \\nare used to separate the two modules. \\nAn aft heat shield surrounds the service propulsion \\nW\\nHELIUMTANKS \\nFUEL TANKS \\nFORWARO BULKHEAD INSTALL \\nSERVICE PROPULSION ENGINE \\nP-66 Main components o[SM \\nOXIOIZER TANKS \\nREACTION \\nCONTROL \\nSUBSYSTEM \\nOUAOS (4) \\nAFT BULKHEAD \\nengine to protect the service module from the \\nengine\\'s heat during thrusting. The gap between the \\ncommand module and the forward bulkhead of the \\nservice module is closed off with a fairing which is \\n\\'Y:!-inch thick and 22 inches high. The fairing is com\\x02posed of 16 pieces; eight electrical power subsystem \\nradiators alternated with eight aluminum honey\\x02comb panels. \\nThe center section is circular and is 44 inches in \\ndiameter. \\nMaintenance doors around the exterior of the \\nmodule provide access to equipment within each \\nsector. These doors are designed for installation and \\ncheckout operations and are not used during space \\noperations .. \\nThe sector and reaction control system panels are \\n1-inch thick and are made of aluminum honeycomb \\ncore between two aluminum face sheets. The sector \\npanels are bolted to the radial beams. Radiators used \\nto dissipate heat from the environmental control \\nsubsystem are bonded to the sector panels on oppo\\x02site sides of the module. These radiators are each \\nabout 30 square feet in area. \\n55 \\nP-67 \\nTechnicians work on wiring and plumbing on \"top deck\" of service module \\nSECTORS \\nThe service module\\'s six sectors are of three sizes, \\nwith two sectors each of the same size. The 360 \\ndegrees around the center section is divided among \\ntwo 50-degree (Sectors 1 and 4), two 60-degree \\n(Sectors 3 and 6), and two 70-degree (Sectors 2 \\nand 5) compartments. \\nSECTOR 1 \\nIt is not currently planned to install any equipment \\nin this sector. The space is thus available if any \\nadditional equipment needs to be added to the \\nspacecraft for the lunar mission or if equipment is \\nadded for scientific experiments. Ballast may be \\nstowed in the sector to maintain the service \\nmodule\\'s center of gravity if no equipment is added. \\n56 \\nSECTOR 2 \\nOne of the two 70-degree sectors, contains part of \\na space radiator and a reaction control subsystem \\nengine quad on its exterior panel, and the oxidizer \\nsump tank, its plumbing, and the reaction control \\nengine tanks and plumbing within the sector. \\nThe oxidizer sump tank is the larger of the two \\ntanks that hold the oxidizer (nitrogen tetroxide) \\nfor the service propulsion engine. A cylindrical tank \\nmade of titanium, it is 153.8 inches high (about \\n12 feet 9-% inches) and has a diameter of 51 \\ninches (4 feet 3 inches). It holds 13,923 pounds of \\noxidizer. It is the tank from which oxidizer is fed to \\nthe engine. Feed lines connect the sump tank to the \\nservice propulsion engine and to the oxidizer storage \\ntank. \\nSECTOR 3 \\nSector 3 is one of the 60-degree sectors, and con\\x02tains the rest of the space radiator and a reaction \\ncontrol engine quad on its exterior panel, and the \\noxidizer storage tank and its plumbing within the \\nsector. \\nThe oxidizer storage tank is similar to the sump \\ntank but not quite as large. It is 154.47 inches high \\n(about 12 feet 10-% inches) and has a diameter of \\n45 inches. It holds 1 1,284 pounds of oxidizer. \\nOxidizer is fed from it to the oxidizer sump tank \\nin Sector 2. \\nSECTO R 4 \\nSector 4 is one of the 50-degree sectors and con\\x02tains most of the electrical power subsystem equip\\x02ment in the service module, including three fuel \\ncell powerplants, two cryogenic oxygen and two \\ncryogenic hydrogen tanks, and a power control \\nrelay box. A helium servicing panel also is located \\nin this sector. \\nThe three fuel cell powerplants are mounted on \\na shelf in the upper third of the sector. Each power\\x02plant is 44 inches high, 22 inches in diameter, and \\nweighs about 245 pounds. They supply most of the \\nelectrical power for the spacecraft as well as some \\nof the drinking water. \\nThe cryogenic (ultra low temperature) tanks supply \\noxygen to the environmental control subsystem and \\noxygen and hydrogen to the fuel cell powerplants. \\nThe tanks are spheres, with the oxygen tanks \\nmounted side by side in the center of the sector and \\nthe hydrogen tanks mounted below them one on \\ntop of the other. \\nThe oxygen tanks are made of lnconel (a nickel\\x02steel alloy) and are a little over 26 inches in diam\\x02eter. Each holds 326 pounds of oxygen in a semi\\x02liquid, semi-gas state. Operating temperature of the \\ntanks ranges from 300 degrees below zero to 80 \\nabove. Oxygen must be maintained at 297 degrees \\nbelow zero to remain liquid. \\nThe hydrogen tanks are made of titanium and are \\nabout 31-% inches in diameter. Each holds a little \\nover 29 pounds of hydrogen. (Hydrogen is much \\nlighter than oxygen, so that in vessels of the same \\nvolume the weight of the oxygen would be far \\ngreater.) The hydrogen also is in a semi-gas, semi\\x02SECTOR 3 (Gin \\nOXIDIZER STORAGE \\nSM TO CM \\nFAIRING \\nSECTOR \\n4 (50, \\nEUUIP \\nAFT BULKHEAD \\nP-68 SM general arrangement \\nliquid stage, and its operating temperature ranges \\nfrom 425 degrees below zero to 80 above. To re\\x02main liquid, hydrogen must be maintained at 423 \\ndegrees below zero. \\nThe power control relay box operates in con\\x02junction with the fuel cell powerplants to control \\nthe generation and distribution of electrical power. \\nSECTOR 5 \\nThis is the other 70-degree sector; it contains \\npart of an environmental control radiator and a \\nreaction control engine quad on the exterior panel, \\nand the fuel sump tank within the sector. \\nThe fuel sump tank occupies almost all of the \\nspace with the sector. It is a cylindrical titanium \\ntank the sameÂ· size as the oxidizer sump tank: \\n153.8 inches high (12 feet 9-% inches) and 51 inches \\nin diameter. It holds 8,708 pounds of propellant \\n(a 50-50 mixture of hydrazine and unsymmetrical \\ndimethylhydrazine) for the service propulsion \\nengine. It is the tank from which the fuel is fed to \\nthe engine; feed lines also connect it to the fuel \\nstorage tank. \\nSECTO R 6 \\nThe other 60-degree sector contains the rest \\nof the space radiator and a reaction control engine \\n57 \\nP-69 \\nTechnician finishes installation of cryogenic oxygen tank \\nquad on its exterior, and the fuel storage tank \\nwithin the sector. \\nThe fuel storage tank is the same size as the oxi\\x02dizer storage tank: 154.47 inches high (about \\n12 feet 1 0-% inches) and 45 inches in diameter. \\nIt holds 7,058 pounds of fuel. Fuel is fed from it \\nto the fuel sump tank in Sector 5. \\nThe sump tanks and the storage tanks for fuel and \\noxidizer are the same size; the difference in weight \\neach contains is that the oxidizer is more than 50-\\npercent heavier than the fuel. \\nCENTER SECTION \\nThe center section or tunnel contains two helium \\ntanks and the service propulsion engine. \\nThe helium tanks are spherical vessels about 40 \\ninches in diameter located one on top of the other \\nin the upper half of the center section. Each con\\x02tains 19.6 cubic feet of helium gas under a pressure \\nof 3600 psi. This gas is used to pressurize the oxi\\x0258 \\ndizer and fuel tanks of the service propulsion sub\\x02system. The pressure forces the propellant from one \\ntank to another and through the feed lines to the \\nengine. \\nThe service propulsion engine is located in the \\nlower half of the center section, with its nozzle \\nextension skirt protruding more than 9 feet below \\nthe aft bulkhead of the module. The length of the \\nengine including the skirt is 152.82 inches (about \\n12 feet 8 inches) and its weight is 650 pounds. This \\nengine is used as a retrorocket to brake the space\\x02craft and put it into orbit around the moon, to \\nsupply the thrust for the return to earth from the \\nmoon, and for course corrections on the trips to \\nand from the moon. \\nEXTERIOR \\nLocated on the exterior of the service module \\nare space radiators for both the environmental \\ncontrol and electrical power subsystems, reaction \\ncontrol subsystem engines, three antennas, um\\x02bilical connections, and several lights. \\nThe environmental control subsystem space radi\\x02ators are the larger ones and are located on the \\nlower half of the service module on opposite sides. \\nOne is part of the panel covers for Sectors 2 and 3 \\nand the other is part of the panel covers for \\nSectors 5 and 6. The radiators, each about 30 square \\nfeet, consist of five parallel primary tubes and four \\nsecondary tubes mounted horizontally and one \\nseries tube mounted vertically. The water-glycol \\ncoolant flows through these tubes to radiate to the \\ncold of space the heat it has absorbed from the \\ncommand module cabin and from operating elec\\x02tronic equipment. \\nThe electrical power subsystem space radiators \\nare located on the fairing at the top of the service \\nmodule. Each of the eight radiator panels (which \\nare alternated with eight aluminum honeycomb \\npanels) contains three tubes which are used to \\nradiate to space excess heat produced by the fuel \\ncell powerplants. A separate radiation loop is used \\nfor each powerplant; that is, one of the tubes on \\neach panel is connected to a specific powerplant. \\nThe reaction control subsystem engines are located \\nin four clusters of 90 degrees apart around the \\nupper portion of service module. The clusters or \\nquads are arranged in such a manner that the engines \\nare on the outside of the panels and all the other \\nP-70 \\nTechnician prepares service propulsion engine for installation in service module \\ncomponents are on the inside. The engines are \\nmounted with two pointed up and down and two \\npointed to the sides in opposite directions. Com\\x02ponents of the quad panels on the inside of the \\nsectors include two oxidizer and two fuel tanks, a \\nhelium tank, and associated valves, regulators, and \\nplumbing. Each quad package is eight feet long and \\nnearly three feet wide. \\nThe four antennas on the outside of the service \\nmodule are the S-band high-gain antenna, mounted \\non the aft bulkhead; two VHF omni-directional \\nantennas, mounted on opposite sides of the module \\nnear the top; and the rendezvous radar transponder \\nantenna, mounted in the SM fairing. The S-band \\nhigh-gain antenna, used for deep space communi\\x02cations, is composed of four 31-inch diameter \\nreflectors surrounding an 11-inch square reflector. \\nAt launch it is folded down parallel to the service \\npropulsion engine nozzle so that it fits within the \\nspacecraft- LM adapter. After the CSM separates \\nfrom the adapter the antenna is deployed at a \\nright angle to the service module. The omni\\x02directional antennas, called scimitars because of \\ntheir shape, are made of stainless steel and are \\napproximately 13-% inches long and only a hun\\x02dredth of an inch thick. \\n59 \\nP-71 CM-SM umbilical assembly \\nThe umbilicals consist of the main plumbing and \\nwiring connections between the command module \\nand service module, which are enclosed in a fairing \\n(aluminum covering), and a \"flyaway\" umbilical \\nwhich is connected to the launch tower. The latter \\nsï¿½pplies oxygen and nitrogen for cabin pressuriza\\x02tion\\n.\\' water-glycol, electrical power from ground \\nequ1pment, and purge gas. \\nSeven lights are mounted in the aluminum panels \\nof the fairing. Four (one red, one green, and two \\namber) are used to aid the astronauts in docking, \\none is a floodlight which can be turned on to give \\nastronauts visibility during extravehicular activities \\none is a flashing beacon used to aid in rendezvous\\' \\nand one is a spotlight used in rendezvous from 500 \\nfeet to docking with the lunar module. \\nSM-CM SEPARATION \\nSeparation of the SM from the CM occurs shortly \\nbefore entry. The sequence of events during separa\\x02tion is controlled automatically by two redundant \\nservice module jettison controllers, located on the \\nforward bulkhead of the SM. \\nA number of events must occur in rapid sequence \\nor at the same time for proper separation. These \\ninclude physical separation of all the connections \\nbetween the modules, transfer of electrical con\\x02trol, and firing of the service module\\'s reaction \\ncontrol engines to increase the distance between \\nthe modules. \\nBefore separation, the crewmen in the CM transfer \\n60 \\nelectrical control to the CM reaction control sub\\x02system (the SM reaction control subsystem is used \\nfor attitude maneuvers throughout the mission up \\nto entry) so that they can pressurize it and check it \\nout for the entry maneuvers. \\nElectrical control is then transferred back to the \\nSM subsystem. Separation is started manually, by \\nactivation of either of two redundant switches on \\nthe main display console. These switches send sig\\x02nals to the SM jettison controllers. The controllers \\nfirst send a signal to fire ordnance devices which \\nactivatï¿½ the CM-SM electrical circuit interrupters; \\nthese mterrupters deadface (cut off all power to) \\nthe electrical wires in the CM-SM umbilical. \\nA tenth of a second after the wires are deadfaced \\nthe controllers send signals which fire ordnancï¿½ \\ndevices to sever the physical connections between \\nthe modules. These connections are three tension \\ntieï¿½ and the umbilical. The tension ties are straps \\nwh1ch hold the CM on three of the compression \\npads on the SM. Linear-shaped charges in each \\ntension-tie assembly sever the tension ties to separate \\nthe modules. At the same time, explosive charges \\ndrive guillotines through the wiring and tubing in the \\numbilical. \\nSimultaneously with the firing of the ordnance \\ndevices, the controllers send signals which fire the \\nSM reaction control engines. Roll engines are fired \\nfor 5 seconds to alter the SM\\'s course from that of \\nthe CM, and the translation (thrust) engines are \\nfired continuously until the propellant is depleted \\nor fuel cell power is expended. These maneuvers \\ncarry the SM well away from the entry path of \\nthe CM. \\nThe service module will enter the earth\\'s atmos\\x02phere after separation and burn up. \\nf) SM REACTION CONTROL \\nENGINES (-X) FIRE FOR \\n5.5 SECONDS\\x02CD AFTER 2 SECONDS \\nI\\'I.JG ROLL ENGINES FIRE \\nHrrR :-:----\\n.._ .._ .ï¿½:!...E !!.!.o R y \\nLOCAL H -- DRiz(m\\'fAL . \\n45\\' ,f.: ï¿½ \\' ï¿½ï¿½-Â·-\\nSEPARATION \\nATIITUDE 8 \\nSEPARATION \\nATIITUDE A \\nP-72 Attitude of SM and CM during separation '"
      ]
     },
     "execution_count": 6,
     "metadata": {},
     "output_type": "execute_result"
    }
   ],
   "source": [
    "with open(\"../data/t2.txt\") as f:   \n",
    "    text = f.read()\n",
    "text"
   ]
  },
  {
   "cell_type": "markdown",
   "metadata": {},
   "source": [
    "### from url"
   ]
  },
  {
   "cell_type": "code",
   "execution_count": 7,
   "metadata": {},
   "outputs": [],
   "source": [
    "# url = \"https://www.hq.nasa.gov/alsj/LM03_Apollo_Spacecraft_AS1-6.pdf\"\n",
    "# # html = urlopen(url).read()\n",
    "\n",
    "# html= requests.get(url)\n",
    "\n",
    "\n",
    "# text = BeautifulSoup(html.text, 'html.parser').get_text()\n",
    "# text[:200]"
   ]
  },
  {
   "cell_type": "markdown",
   "metadata": {},
   "source": [
    "## Text Pre-processing"
   ]
  },
  {
   "cell_type": "code",
   "execution_count": null,
   "metadata": {},
   "outputs": [],
   "source": []
  },
  {
   "cell_type": "markdown",
   "metadata": {},
   "source": [
    "### Sentence tokenizing:"
   ]
  },
  {
   "cell_type": "code",
   "execution_count": 8,
   "metadata": {},
   "outputs": [
    {
     "data": {
      "text/html": [
       "<pre style=\"white-space:pre;overflow-x:auto;line-height:normal;font-family:Menlo,'DejaVu Sans Mono',consolas,'Courier New',monospace\">Number of sentences:<span style=\"color: #008080; text-decoration-color: #008080; font-weight: bold\">123</span>\n",
       "</pre>\n"
      ],
      "text/plain": [
       "Number of sentences:\u001b[1;36m123\u001b[0m\n"
      ]
     },
     "metadata": {},
     "output_type": "display_data"
    },
    {
     "data": {
      "text/html": [
       "<pre style=\"white-space:pre;overflow-x:auto;line-height:normal;font-family:Menlo,'DejaVu Sans Mono',consolas,'Courier New',monospace\"><span style=\"color: #000080; text-decoration-color: #000080; background-color: #c0c0c0; font-weight: bold\">[</span>\n",
       "<span style=\"color: #000080; text-decoration-color: #000080; background-color: #c0c0c0; font-weight: bold\">    </span><span style=\"color: #008000; text-decoration-color: #008000; background-color: #c0c0c0\">\"\\nOXYGEN TANKS, HYDROGEN TANKS, FUEL CELLS \\nSERVICE PROPULSION SUBSYSTEM \\nSECTOR 6 </span>\n",
       "<span style=\"color: #008000; text-decoration-color: #008000; background-color: #c0c0c0\">FUEL TANKS \\nCENTER SECTIONÂ· SERVICE PROPULSION ENGINE ANO \\nHELIUM TANKS \\nFunction \\nThe </span>\n",
       "<span style=\"color: #008000; text-decoration-color: #008000; background-color: #c0c0c0\">service module contains the main spacecraft \\npropulsion system and supplies most of the </span>\n",
       "<span style=\"color: #008000; text-decoration-color: #008000; background-color: #c0c0c0\">space\\x02craft's consumables (oxygen, water, propellant, \\nhydrogen).\"</span><span style=\"color: #000080; text-decoration-color: #000080; background-color: #c0c0c0; font-weight: bold\">,</span>\n",
       "<span style=\"color: #000080; text-decoration-color: #000080; background-color: #c0c0c0; font-weight: bold\">    </span><span style=\"color: #008000; text-decoration-color: #008000; background-color: #c0c0c0\">'It is not manned.'</span><span style=\"color: #000080; text-decoration-color: #000080; background-color: #c0c0c0; font-weight: bold\">,</span>\n",
       "<span style=\"color: #000080; text-decoration-color: #000080; background-color: #c0c0c0; font-weight: bold\">    </span><span style=\"color: #008000; text-decoration-color: #008000; background-color: #c0c0c0\">'The service module \\nremains attached to the command module until \\njust before entry, </span>\n",
       "<span style=\"color: #008000; text-decoration-color: #008000; background-color: #c0c0c0\">when it is jettisoned and is \\ndestroyed during entry.'</span><span style=\"color: #000080; text-decoration-color: #000080; background-color: #c0c0c0; font-weight: bold\">,</span>\n",
       "<span style=\"color: #000080; text-decoration-color: #000080; background-color: #c0c0c0; font-weight: bold\">    </span><span style=\"color: #008000; text-decoration-color: #008000; background-color: #c0c0c0\">\"Major Subsystems \\nElectrical power \\nEnvironmental control \\nReaction control \\nService</span>\n",
       "<span style=\"color: #008000; text-decoration-color: #008000; background-color: #c0c0c0\">propulsion \\nTelecommunications \\n\\nService module mated to command module at Kennedy Space </span>\n",
       "<span style=\"color: #008000; text-decoration-color: #008000; background-color: #c0c0c0\">Center \\n) \\n.-\\n\\\\lt --':.\"</span><span style=\"color: #000080; text-decoration-color: #000080; background-color: #c0c0c0; font-weight: bold\">,</span>\n",
       "<span style=\"color: #000080; text-decoration-color: #000080; background-color: #c0c0c0; font-weight: bold\">    </span><span style=\"color: #008000; text-decoration-color: #008000; background-color: #c0c0c0\">'The service module is a cylindrical structure which \\nserves as a storehouse of critical</span>\n",
       "<span style=\"color: #008000; text-decoration-color: #008000; background-color: #c0c0c0\">subsystems and \\nsupplies for almost the entire lunar mission.'</span><span style=\"color: #000080; text-decoration-color: #000080; background-color: #c0c0c0; font-weight: bold\">,</span>\n",
       "<span style=\"color: #000080; text-decoration-color: #000080; background-color: #c0c0c0; font-weight: bold\">    </span><span style=\"color: #008000; text-decoration-color: #008000; background-color: #c0c0c0\">'It is \\nattached to the command module from launch until \\njust before earth atmosphere </span>\n",
       "<span style=\"color: #008000; text-decoration-color: #008000; background-color: #c0c0c0\">entry.'</span><span style=\"color: #000080; text-decoration-color: #000080; background-color: #c0c0c0; font-weight: bold\">,</span>\n",
       "<span style=\"color: #000080; text-decoration-color: #000080; background-color: #c0c0c0; font-weight: bold\">    </span><span style=\"color: #008000; text-decoration-color: #008000; background-color: #c0c0c0\">\"The service module contains the spacecraft's main \\npropulsion engine, which is used to </span>\n",
       "<span style=\"color: #008000; text-decoration-color: #008000; background-color: #c0c0c0\">brake the space\\x02craft and put it into orbit around the moon and to \\nsend it on the </span>\n",
       "<span style=\"color: #008000; text-decoration-color: #008000; background-color: #c0c0c0\">homeward journey from the moon.\"</span><span style=\"color: #000080; text-decoration-color: #000080; background-color: #c0c0c0; font-weight: bold\">,</span>\n",
       "<span style=\"color: #000080; text-decoration-color: #000080; background-color: #c0c0c0; font-weight: bold\">    </span><span style=\"color: #008000; text-decoration-color: #008000; background-color: #c0c0c0\">\"The engine also is used to correct the spacecraft's \\ncourse on both the trips to and </span>\n",
       "<span style=\"color: #008000; text-decoration-color: #008000; background-color: #c0c0c0\">from the moon.\"</span><span style=\"color: #000080; text-decoration-color: #000080; background-color: #c0c0c0; font-weight: bold\">,</span>\n",
       "<span style=\"color: #000080; text-decoration-color: #000080; background-color: #c0c0c0; font-weight: bold\">    </span><span style=\"color: #008000; text-decoration-color: #008000; background-color: #c0c0c0\">'Besides the service propulsion engine and its pro\\x02pellant and helium tanks, the </span>\n",
       "<span style=\"color: #008000; text-decoration-color: #008000; background-color: #c0c0c0\">service module con\\x02tains a major portion of the electrical power, \\nenvironmental control,</span>\n",
       "<span style=\"color: #008000; text-decoration-color: #008000; background-color: #c0c0c0\">and reaction control sub\\x02systems, and a small portion of the communica\\x02tions </span>\n",
       "<span style=\"color: #008000; text-decoration-color: #008000; background-color: #c0c0c0\">subsystem.'</span><span style=\"color: #000080; text-decoration-color: #000080; background-color: #c0c0c0; font-weight: bold\">,</span>\n",
       "<span style=\"color: #000080; text-decoration-color: #000080; background-color: #c0c0c0; font-weight: bold\">    </span><span style=\"color: #008000; text-decoration-color: #008000; background-color: #c0c0c0\">'It is strictly a servicing unit of the spacecraft, but \\nit is more than twice as long </span>\n",
       "<span style=\"color: #008000; text-decoration-color: #008000; background-color: #c0c0c0\">and more than four \\ntimes as heavy as the manned command module.'</span><span style=\"color: #000080; text-decoration-color: #000080; background-color: #c0c0c0; font-weight: bold\">,</span>\n",
       "<span style=\"color: #000080; text-decoration-color: #000080; background-color: #c0c0c0; font-weight: bold\">    </span><span style=\"color: #008000; text-decoration-color: #008000; background-color: #c0c0c0\">\"About 75 percent of the service module's weight \\nis in propellant for the service </span>\n",
       "<span style=\"color: #008000; text-decoration-color: #008000; background-color: #c0c0c0\">propulsion engine.\"</span><span style=\"color: #000080; text-decoration-color: #000080; background-color: #c0c0c0; font-weight: bold\">,</span>\n",
       "<span style=\"color: #000080; text-decoration-color: #000080; background-color: #c0c0c0; font-weight: bold\">    </span><span style=\"color: #008000; text-decoration-color: #008000; background-color: #c0c0c0\">'STRUCTURE \\nThe service module is a relatively simple structure \\nconsisting of a center</span>\n",
       "<span style=\"color: #008000; text-decoration-color: #008000; background-color: #c0c0c0\">section or tunnel surrounded \\nby six pie-shaped sectors.'</span><span style=\"color: #000080; text-decoration-color: #000080; background-color: #c0c0c0; font-weight: bold\">,</span>\n",
       "<span style=\"color: #000080; text-decoration-color: #000080; background-color: #c0c0c0; font-weight: bold\">    </span><span style=\"color: #008000; text-decoration-color: #008000; background-color: #c0c0c0\">'The basic structural components are forward and \\naft (upper and lower) bulkheads, six </span>\n",
       "<span style=\"color: #008000; text-decoration-color: #008000; background-color: #c0c0c0\">radial beams, \\nfour sector honeycomb panels, four reaction con\\x02trol system honeycomb </span>\n",
       "<span style=\"color: #008000; text-decoration-color: #008000; background-color: #c0c0c0\">panels, an aft heat shield, \\nand a fairing.'</span><span style=\"color: #000080; text-decoration-color: #000080; background-color: #c0c0c0; font-weight: bold\">,</span>\n",
       "<span style=\"color: #000080; text-decoration-color: #000080; background-color: #c0c0c0; font-weight: bold\">    </span><span style=\"color: #008000; text-decoration-color: #008000; background-color: #c0c0c0\">'The radial beams are made of solid aluminum \\nalloy which has been machined and </span>\n",
       "<span style=\"color: #008000; text-decoration-color: #008000; background-color: #c0c0c0\">chem-milled \\n(metal removed by chemical action) to thicknesses \\nvarying between 2 inches </span>\n",
       "<span style=\"color: #008000; text-decoration-color: #008000; background-color: #c0c0c0\">and 0.018 inch, thus mak\\x02ing a lightweight, efficient structure.'</span><span style=\"color: #000080; text-decoration-color: #000080; background-color: #c0c0c0; font-weight: bold\">,</span>\n",
       "<span style=\"color: #000080; text-decoration-color: #000080; background-color: #c0c0c0; font-weight: bold\">    </span><span style=\"color: #008000; text-decoration-color: #008000; background-color: #c0c0c0\">'The forward and aft bulkheads cover the top and \\nbottom of the module.'</span><span style=\"color: #000080; text-decoration-color: #000080; background-color: #c0c0c0; font-weight: bold\">,</span>\n",
       "<span style=\"color: #000080; text-decoration-color: #000080; background-color: #c0c0c0; font-weight: bold\">    </span><span style=\"color: #008000; text-decoration-color: #008000; background-color: #c0c0c0\">'Radial beam trusses ex\\x02tending above the forward bulkhead support and \\nsecure the </span>\n",
       "<span style=\"color: #008000; text-decoration-color: #008000; background-color: #c0c0c0\">command module.'</span><span style=\"color: #000080; text-decoration-color: #000080; background-color: #c0c0c0; font-weight: bold\">,</span>\n",
       "<span style=\"color: #000080; text-decoration-color: #000080; background-color: #c0c0c0; font-weight: bold\">    </span><span style=\"color: #008000; text-decoration-color: #008000; background-color: #c0c0c0\">'Three of these beams \\nhave compression pads and the other three have </span>\n",
       "<span style=\"color: #008000; text-decoration-color: #008000; background-color: #c0c0c0\">\\nshear-compression pads and tension ties.'</span><span style=\"color: #000080; text-decoration-color: #000080; background-color: #c0c0c0; font-weight: bold\">,</span>\n",
       "<span style=\"color: #000080; text-decoration-color: #000080; background-color: #c0c0c0; font-weight: bold\">    </span><span style=\"color: #008000; text-decoration-color: #008000; background-color: #c0c0c0\">'Explosive \\ncharges in the center sections of these tension ties \\nare used to separate </span>\n",
       "<span style=\"color: #008000; text-decoration-color: #008000; background-color: #c0c0c0\">the two modules.'</span><span style=\"color: #000080; text-decoration-color: #000080; background-color: #c0c0c0; font-weight: bold\">,</span>\n",
       "<span style=\"color: #000080; text-decoration-color: #000080; background-color: #c0c0c0; font-weight: bold\">    </span><span style=\"color: #008000; text-decoration-color: #008000; background-color: #c0c0c0\">\"An aft heat shield surrounds the service propulsion \\nW\\nHELIUMTANKS \\nFUEL TANKS </span>\n",
       "<span style=\"color: #008000; text-decoration-color: #008000; background-color: #c0c0c0\">\\nFORWARO BULKHEAD INSTALL \\nSERVICE PROPULSION ENGINE \\nP-66 Main components o[SM \\nOXIOIZER</span>\n",
       "<span style=\"color: #008000; text-decoration-color: #008000; background-color: #c0c0c0\">TANKS \\nREACTION \\nCONTROL \\nSUBSYSTEM \\nOUAOS (4) \\nAFT BULKHEAD \\nengine to protect the </span>\n",
       "<span style=\"color: #008000; text-decoration-color: #008000; background-color: #c0c0c0\">service module from the \\nengine's heat during thrusting.\"</span><span style=\"color: #000080; text-decoration-color: #000080; background-color: #c0c0c0; font-weight: bold\">,</span>\n",
       "<span style=\"color: #000080; text-decoration-color: #000080; background-color: #c0c0c0; font-weight: bold\">    </span><span style=\"color: #008000; text-decoration-color: #008000; background-color: #c0c0c0\">\"The gap between the \\ncommand module and the forward bulkhead of the \\nservice module is</span>\n",
       "<span style=\"color: #008000; text-decoration-color: #008000; background-color: #c0c0c0\">closed off with a fairing which is \\n'Y:!-inch thick and 22 inches high.\"</span><span style=\"color: #000080; text-decoration-color: #000080; background-color: #c0c0c0; font-weight: bold\">,</span>\n",
       "<span style=\"color: #000080; text-decoration-color: #000080; background-color: #c0c0c0; font-weight: bold\">    </span><span style=\"color: #008000; text-decoration-color: #008000; background-color: #c0c0c0\">'The fairing is com\\x02posed of 16 pieces; eight electrical power subsystem \\nradiators </span>\n",
       "<span style=\"color: #008000; text-decoration-color: #008000; background-color: #c0c0c0\">alternated with eight aluminum honey\\x02comb panels.'</span><span style=\"color: #000080; text-decoration-color: #000080; background-color: #c0c0c0; font-weight: bold\">,</span>\n",
       "<span style=\"color: #000080; text-decoration-color: #000080; background-color: #c0c0c0; font-weight: bold\">    </span><span style=\"color: #008000; text-decoration-color: #008000; background-color: #c0c0c0\">'The center section is circular and is 44 inches in \\ndiameter.'</span><span style=\"color: #000080; text-decoration-color: #000080; background-color: #c0c0c0; font-weight: bold\">,</span>\n",
       "<span style=\"color: #000080; text-decoration-color: #000080; background-color: #c0c0c0; font-weight: bold\">    </span><span style=\"color: #008000; text-decoration-color: #008000; background-color: #c0c0c0\">'Maintenance doors around the exterior of the \\nmodule provide access to equipment within</span>\n",
       "<span style=\"color: #008000; text-decoration-color: #008000; background-color: #c0c0c0\">each \\nsector.'</span><span style=\"color: #000080; text-decoration-color: #000080; background-color: #c0c0c0; font-weight: bold\">,</span>\n",
       "<span style=\"color: #000080; text-decoration-color: #000080; background-color: #c0c0c0; font-weight: bold\">    </span><span style=\"color: #008000; text-decoration-color: #008000; background-color: #c0c0c0\">'These doors are designed for installation and \\ncheckout operations and are not used </span>\n",
       "<span style=\"color: #008000; text-decoration-color: #008000; background-color: #c0c0c0\">during space \\noperations ..'</span><span style=\"color: #000080; text-decoration-color: #000080; background-color: #c0c0c0; font-weight: bold\">,</span>\n",
       "<span style=\"color: #000080; text-decoration-color: #000080; background-color: #c0c0c0; font-weight: bold\">    </span><span style=\"color: #008000; text-decoration-color: #008000; background-color: #c0c0c0\">'The sector and reaction control system panels are \\n1-inch thick and are made of </span>\n",
       "<span style=\"color: #008000; text-decoration-color: #008000; background-color: #c0c0c0\">aluminum honeycomb \\ncore between two aluminum face sheets.'</span><span style=\"color: #000080; text-decoration-color: #000080; background-color: #c0c0c0; font-weight: bold\">,</span>\n",
       "<span style=\"color: #000080; text-decoration-color: #000080; background-color: #c0c0c0; font-weight: bold\">    </span><span style=\"color: #008000; text-decoration-color: #008000; background-color: #c0c0c0\">'The sector \\npanels are bolted to the radial beams.'</span><span style=\"color: #000080; text-decoration-color: #000080; background-color: #c0c0c0; font-weight: bold\">,</span>\n",
       "<span style=\"color: #000080; text-decoration-color: #000080; background-color: #c0c0c0; font-weight: bold\">    </span><span style=\"color: #008000; text-decoration-color: #008000; background-color: #c0c0c0\">'Radiators used \\nto dissipate heat from the environmental control \\nsubsystem are bonded</span>\n",
       "<span style=\"color: #008000; text-decoration-color: #008000; background-color: #c0c0c0\">to the sector panels on oppo\\x02site sides of the module.'</span><span style=\"color: #000080; text-decoration-color: #000080; background-color: #c0c0c0; font-weight: bold\">,</span>\n",
       "<span style=\"color: #000080; text-decoration-color: #000080; background-color: #c0c0c0; font-weight: bold\">    </span><span style=\"color: #008000; text-decoration-color: #008000; background-color: #c0c0c0\">'These radiators are each \\nabout 30 square feet in area.'</span><span style=\"color: #000080; text-decoration-color: #000080; background-color: #c0c0c0; font-weight: bold\">,</span>\n",
       "<span style=\"color: #000080; text-decoration-color: #000080; background-color: #c0c0c0; font-weight: bold\">    </span><span style=\"color: #008000; text-decoration-color: #008000; background-color: #c0c0c0\">'55 \\nP-67 \\nTechnicians work on wiring and plumbing on \"top deck\" of service module </span>\n",
       "<span style=\"color: #008000; text-decoration-color: #008000; background-color: #c0c0c0\">\\nSECTORS \\nThe service module\\'s six sectors are of three sizes, \\nwith two sectors each of </span>\n",
       "<span style=\"color: #008000; text-decoration-color: #008000; background-color: #c0c0c0\">the same size.'</span><span style=\"color: #000080; text-decoration-color: #000080; background-color: #c0c0c0; font-weight: bold\">,</span>\n",
       "<span style=\"color: #000080; text-decoration-color: #000080; background-color: #c0c0c0; font-weight: bold\">    </span><span style=\"color: #008000; text-decoration-color: #008000; background-color: #c0c0c0\">'The 360 \\ndegrees around the center section is divided among \\ntwo 50-degree (Sectors 1 </span>\n",
       "<span style=\"color: #008000; text-decoration-color: #008000; background-color: #c0c0c0\">and 4), two 60-degree \\n(Sectors 3 and 6), and two 70-degree (Sectors 2 \\nand 5) </span>\n",
       "<span style=\"color: #008000; text-decoration-color: #008000; background-color: #c0c0c0\">compartments.'</span><span style=\"color: #000080; text-decoration-color: #000080; background-color: #c0c0c0; font-weight: bold\">,</span>\n",
       "<span style=\"color: #000080; text-decoration-color: #000080; background-color: #c0c0c0; font-weight: bold\">    </span><span style=\"color: #008000; text-decoration-color: #008000; background-color: #c0c0c0\">'SECTOR 1 \\nIt is not currently planned to install any equipment \\nin this sector.'</span><span style=\"color: #000080; text-decoration-color: #000080; background-color: #c0c0c0; font-weight: bold\">,</span>\n",
       "<span style=\"color: #000080; text-decoration-color: #000080; background-color: #c0c0c0; font-weight: bold\">    </span><span style=\"color: #008000; text-decoration-color: #008000; background-color: #c0c0c0\">'The space is thus available if any \\nadditional equipment needs to be added to the </span>\n",
       "<span style=\"color: #008000; text-decoration-color: #008000; background-color: #c0c0c0\">\\nspacecraft for the lunar mission or if equipment is \\nadded for scientific experiments.'</span><span style=\"color: #000080; text-decoration-color: #000080; background-color: #c0c0c0; font-weight: bold\">,</span>\n",
       "<span style=\"color: #000080; text-decoration-color: #000080; background-color: #c0c0c0; font-weight: bold\">    </span><span style=\"color: #008000; text-decoration-color: #008000; background-color: #c0c0c0\">\"Ballast may be \\nstowed in the sector to maintain the service \\nmodule's center of </span>\n",
       "<span style=\"color: #008000; text-decoration-color: #008000; background-color: #c0c0c0\">gravity if no equipment is added.\"</span><span style=\"color: #000080; text-decoration-color: #000080; background-color: #c0c0c0; font-weight: bold\">,</span>\n",
       "<span style=\"color: #000080; text-decoration-color: #000080; background-color: #c0c0c0; font-weight: bold\">    </span><span style=\"color: #008000; text-decoration-color: #008000; background-color: #c0c0c0\">'56 \\nSECTOR 2 \\nOne of the two 70-degree sectors, contains part of \\na space radiator </span>\n",
       "<span style=\"color: #008000; text-decoration-color: #008000; background-color: #c0c0c0\">and a reaction control subsystem \\nengine quad on its exterior panel, and the oxidizer \\nsump</span>\n",
       "<span style=\"color: #008000; text-decoration-color: #008000; background-color: #c0c0c0\">tank, its plumbing, and the reaction control \\nengine tanks and plumbing within the sector.'</span><span style=\"color: #000080; text-decoration-color: #000080; background-color: #c0c0c0; font-weight: bold\">,</span>\n",
       "<span style=\"color: #000080; text-decoration-color: #000080; background-color: #c0c0c0; font-weight: bold\">    </span><span style=\"color: #008000; text-decoration-color: #008000; background-color: #c0c0c0\">'The oxidizer sump tank is the larger of the two \\ntanks that hold the oxidizer (nitrogen</span>\n",
       "<span style=\"color: #008000; text-decoration-color: #008000; background-color: #c0c0c0\">tetroxide) \\nfor the service propulsion engine.'</span><span style=\"color: #000080; text-decoration-color: #000080; background-color: #c0c0c0; font-weight: bold\">,</span>\n",
       "<span style=\"color: #000080; text-decoration-color: #000080; background-color: #c0c0c0; font-weight: bold\">    </span><span style=\"color: #008000; text-decoration-color: #008000; background-color: #c0c0c0\">'A cylindrical tank \\nmade of titanium, it is 153.8 inches high (about \\n12 feet 9-% </span>\n",
       "<span style=\"color: #008000; text-decoration-color: #008000; background-color: #c0c0c0\">inches) and has a diameter of 51 \\ninches (4 feet 3 inches).'</span><span style=\"color: #000080; text-decoration-color: #000080; background-color: #c0c0c0; font-weight: bold\">,</span>\n",
       "<span style=\"color: #000080; text-decoration-color: #000080; background-color: #c0c0c0; font-weight: bold\">    </span><span style=\"color: #008000; text-decoration-color: #008000; background-color: #c0c0c0\">'It holds 13,923 pounds of \\noxidizer.'</span><span style=\"color: #000080; text-decoration-color: #000080; background-color: #c0c0c0; font-weight: bold\">,</span>\n",
       "<span style=\"color: #000080; text-decoration-color: #000080; background-color: #c0c0c0; font-weight: bold\">    </span><span style=\"color: #008000; text-decoration-color: #008000; background-color: #c0c0c0\">'It is the tank from which oxidizer is fed to \\nthe engine.'</span><span style=\"color: #000080; text-decoration-color: #000080; background-color: #c0c0c0; font-weight: bold\">,</span>\n",
       "<span style=\"color: #000080; text-decoration-color: #000080; background-color: #c0c0c0; font-weight: bold\">    </span><span style=\"color: #008000; text-decoration-color: #008000; background-color: #c0c0c0\">'Feed lines connect the sump tank to the \\nservice propulsion engine and to the oxidizer </span>\n",
       "<span style=\"color: #008000; text-decoration-color: #008000; background-color: #c0c0c0\">storage \\ntank.'</span><span style=\"color: #000080; text-decoration-color: #000080; background-color: #c0c0c0; font-weight: bold\">,</span>\n",
       "<span style=\"color: #000080; text-decoration-color: #000080; background-color: #c0c0c0; font-weight: bold\">    </span><span style=\"color: #008000; text-decoration-color: #008000; background-color: #c0c0c0\">'SECTOR 3 \\nSector 3 is one of the 60-degree sectors, and con\\x02tains the rest of the </span>\n",
       "<span style=\"color: #008000; text-decoration-color: #008000; background-color: #c0c0c0\">space radiator and a reaction \\ncontrol engine quad on its exterior panel, and the \\noxidizer</span>\n",
       "<span style=\"color: #008000; text-decoration-color: #008000; background-color: #c0c0c0\">storage tank and its plumbing within the \\nsector.'</span><span style=\"color: #000080; text-decoration-color: #000080; background-color: #c0c0c0; font-weight: bold\">,</span>\n",
       "<span style=\"color: #000080; text-decoration-color: #000080; background-color: #c0c0c0; font-weight: bold\">    </span><span style=\"color: #008000; text-decoration-color: #008000; background-color: #c0c0c0\">'The oxidizer storage tank is similar to the sump \\ntank but not quite as large.'</span><span style=\"color: #000080; text-decoration-color: #000080; background-color: #c0c0c0; font-weight: bold\">,</span>\n",
       "<span style=\"color: #000080; text-decoration-color: #000080; background-color: #c0c0c0; font-weight: bold\">    </span><span style=\"color: #008000; text-decoration-color: #008000; background-color: #c0c0c0\">'It is 154.47 inches high \\n(about 12 feet 10-% inches) and has a diameter of \\n45 </span>\n",
       "<span style=\"color: #008000; text-decoration-color: #008000; background-color: #c0c0c0\">inches.'</span><span style=\"color: #000080; text-decoration-color: #000080; background-color: #c0c0c0; font-weight: bold\">,</span>\n",
       "<span style=\"color: #000080; text-decoration-color: #000080; background-color: #c0c0c0; font-weight: bold\">    </span><span style=\"color: #008000; text-decoration-color: #008000; background-color: #c0c0c0\">'It holds 1 1,284 pounds of oxidizer.'</span><span style=\"color: #000080; text-decoration-color: #000080; background-color: #c0c0c0; font-weight: bold\">,</span>\n",
       "<span style=\"color: #000080; text-decoration-color: #000080; background-color: #c0c0c0; font-weight: bold\">    </span><span style=\"color: #008000; text-decoration-color: #008000; background-color: #c0c0c0\">'Oxidizer is fed from it to the oxidizer sump tank \\nin Sector 2.'</span><span style=\"color: #000080; text-decoration-color: #000080; background-color: #c0c0c0; font-weight: bold\">,</span>\n",
       "<span style=\"color: #000080; text-decoration-color: #000080; background-color: #c0c0c0; font-weight: bold\">    </span><span style=\"color: #008000; text-decoration-color: #008000; background-color: #c0c0c0\">'SECTO R 4 \\nSector 4 is one of the 50-degree sectors and con\\x02tains most of the </span>\n",
       "<span style=\"color: #008000; text-decoration-color: #008000; background-color: #c0c0c0\">electrical power subsystem equip\\x02ment in the service module, including three fuel \\ncell </span>\n",
       "<span style=\"color: #008000; text-decoration-color: #008000; background-color: #c0c0c0\">powerplants, two cryogenic oxygen and two \\ncryogenic hydrogen tanks, and a power control </span>\n",
       "<span style=\"color: #008000; text-decoration-color: #008000; background-color: #c0c0c0\">\\nrelay box.'</span><span style=\"color: #000080; text-decoration-color: #000080; background-color: #c0c0c0; font-weight: bold\">,</span>\n",
       "<span style=\"color: #000080; text-decoration-color: #000080; background-color: #c0c0c0; font-weight: bold\">    </span><span style=\"color: #008000; text-decoration-color: #008000; background-color: #c0c0c0\">'A helium servicing panel also is located \\nin this sector.'</span><span style=\"color: #000080; text-decoration-color: #000080; background-color: #c0c0c0; font-weight: bold\">,</span>\n",
       "<span style=\"color: #000080; text-decoration-color: #000080; background-color: #c0c0c0; font-weight: bold\">    </span><span style=\"color: #008000; text-decoration-color: #008000; background-color: #c0c0c0\">'The three fuel cell powerplants are mounted on \\na shelf in the upper third of the </span>\n",
       "<span style=\"color: #008000; text-decoration-color: #008000; background-color: #c0c0c0\">sector.'</span><span style=\"color: #000080; text-decoration-color: #000080; background-color: #c0c0c0; font-weight: bold\">,</span>\n",
       "<span style=\"color: #000080; text-decoration-color: #000080; background-color: #c0c0c0; font-weight: bold\">    </span><span style=\"color: #008000; text-decoration-color: #008000; background-color: #c0c0c0\">'Each power\\x02plant is 44 inches high, 22 inches in diameter, and \\nweighs about 245 </span>\n",
       "<span style=\"color: #008000; text-decoration-color: #008000; background-color: #c0c0c0\">pounds.'</span><span style=\"color: #000080; text-decoration-color: #000080; background-color: #c0c0c0; font-weight: bold\">,</span>\n",
       "<span style=\"color: #000080; text-decoration-color: #000080; background-color: #c0c0c0; font-weight: bold\">    </span><span style=\"color: #008000; text-decoration-color: #008000; background-color: #c0c0c0\">'They supply most of the \\nelectrical power for the spacecraft as well as some \\nof the </span>\n",
       "<span style=\"color: #008000; text-decoration-color: #008000; background-color: #c0c0c0\">drinking water.'</span><span style=\"color: #000080; text-decoration-color: #000080; background-color: #c0c0c0; font-weight: bold\">,</span>\n",
       "<span style=\"color: #000080; text-decoration-color: #000080; background-color: #c0c0c0; font-weight: bold\">    </span><span style=\"color: #008000; text-decoration-color: #008000; background-color: #c0c0c0\">'The cryogenic (ultra low temperature) tanks supply \\noxygen to the environmental control</span>\n",
       "<span style=\"color: #008000; text-decoration-color: #008000; background-color: #c0c0c0\">subsystem and \\noxygen and hydrogen to the fuel cell powerplants.'</span><span style=\"color: #000080; text-decoration-color: #000080; background-color: #c0c0c0; font-weight: bold\">,</span>\n",
       "<span style=\"color: #000080; text-decoration-color: #000080; background-color: #c0c0c0; font-weight: bold\">    </span><span style=\"color: #008000; text-decoration-color: #008000; background-color: #c0c0c0\">'The tanks are spheres, with the oxygen tanks \\nmounted side by side in the center of the</span>\n",
       "<span style=\"color: #008000; text-decoration-color: #008000; background-color: #c0c0c0\">sector and \\nthe hydrogen tanks mounted below them one on \\ntop of the other.'</span><span style=\"color: #000080; text-decoration-color: #000080; background-color: #c0c0c0; font-weight: bold\">,</span>\n",
       "<span style=\"color: #000080; text-decoration-color: #000080; background-color: #c0c0c0; font-weight: bold\">    </span><span style=\"color: #008000; text-decoration-color: #008000; background-color: #c0c0c0\">'The oxygen tanks are made of lnconel (a nickel\\x02steel alloy) and are a little over 26 </span>\n",
       "<span style=\"color: #008000; text-decoration-color: #008000; background-color: #c0c0c0\">inches in diam\\x02eter.'</span><span style=\"color: #000080; text-decoration-color: #000080; background-color: #c0c0c0; font-weight: bold\">,</span>\n",
       "<span style=\"color: #000080; text-decoration-color: #000080; background-color: #c0c0c0; font-weight: bold\">    </span><span style=\"color: #008000; text-decoration-color: #008000; background-color: #c0c0c0\">'Each holds 326 pounds of oxygen in a semi\\x02liquid, semi-gas state.'</span><span style=\"color: #000080; text-decoration-color: #000080; background-color: #c0c0c0; font-weight: bold\">,</span>\n",
       "<span style=\"color: #000080; text-decoration-color: #000080; background-color: #c0c0c0; font-weight: bold\">    </span><span style=\"color: #008000; text-decoration-color: #008000; background-color: #c0c0c0\">'Operating temperature of the \\ntanks ranges from 300 degrees below zero to 80 \\nabove.'</span><span style=\"color: #000080; text-decoration-color: #000080; background-color: #c0c0c0; font-weight: bold\">,</span>\n",
       "<span style=\"color: #000080; text-decoration-color: #000080; background-color: #c0c0c0; font-weight: bold\">    </span><span style=\"color: #008000; text-decoration-color: #008000; background-color: #c0c0c0\">'Oxygen must be maintained at 297 degrees \\nbelow zero to remain liquid.'</span><span style=\"color: #000080; text-decoration-color: #000080; background-color: #c0c0c0; font-weight: bold\">,</span>\n",
       "<span style=\"color: #000080; text-decoration-color: #000080; background-color: #c0c0c0; font-weight: bold\">    </span><span style=\"color: #008000; text-decoration-color: #008000; background-color: #c0c0c0\">'The hydrogen tanks are made of titanium and are \\nabout 31-% inches in diameter.'</span><span style=\"color: #000080; text-decoration-color: #000080; background-color: #c0c0c0; font-weight: bold\">,</span>\n",
       "<span style=\"color: #000080; text-decoration-color: #000080; background-color: #c0c0c0; font-weight: bold\">    </span><span style=\"color: #008000; text-decoration-color: #008000; background-color: #c0c0c0\">'Each holds a little \\nover 29 pounds of hydrogen.'</span><span style=\"color: #000080; text-decoration-color: #000080; background-color: #c0c0c0; font-weight: bold\">,</span>\n",
       "<span style=\"color: #000080; text-decoration-color: #000080; background-color: #c0c0c0; font-weight: bold\">    </span><span style=\"color: #008000; text-decoration-color: #008000; background-color: #c0c0c0\">'(Hydrogen is much \\nlighter than oxygen, so that in vessels of the same \\nvolume the </span>\n",
       "<span style=\"color: #008000; text-decoration-color: #008000; background-color: #c0c0c0\">weight of the oxygen would be far \\ngreater.)'</span><span style=\"color: #000080; text-decoration-color: #000080; background-color: #c0c0c0; font-weight: bold\">,</span>\n",
       "<span style=\"color: #000080; text-decoration-color: #000080; background-color: #c0c0c0; font-weight: bold\">    </span><span style=\"color: #008000; text-decoration-color: #008000; background-color: #c0c0c0\">'The hydrogen also is in a semi-gas, semi\\x02SECTOR 3 (Gin \\nOXIDIZER STORAGE \\nSM TO CM </span>\n",
       "<span style=\"color: #008000; text-decoration-color: #008000; background-color: #c0c0c0\">\\nFAIRING \\nSECTOR \\n4 (50, \\nEUUIP \\nAFT BULKHEAD \\nP-68 SM general arrangement \\nliquid </span>\n",
       "<span style=\"color: #008000; text-decoration-color: #008000; background-color: #c0c0c0\">stage, and its operating temperature ranges \\nfrom 425 degrees below zero to 80 above.'</span><span style=\"color: #000080; text-decoration-color: #000080; background-color: #c0c0c0; font-weight: bold\">,</span>\n",
       "<span style=\"color: #000080; text-decoration-color: #000080; background-color: #c0c0c0; font-weight: bold\">    </span><span style=\"color: #008000; text-decoration-color: #008000; background-color: #c0c0c0\">'To re\\x02main liquid, hydrogen must be maintained at 423 \\ndegrees below zero.'</span><span style=\"color: #000080; text-decoration-color: #000080; background-color: #c0c0c0; font-weight: bold\">,</span>\n",
       "<span style=\"color: #000080; text-decoration-color: #000080; background-color: #c0c0c0; font-weight: bold\">    </span><span style=\"color: #008000; text-decoration-color: #008000; background-color: #c0c0c0\">'The power control relay box operates in con\\x02junction with the fuel cell powerplants </span>\n",
       "<span style=\"color: #008000; text-decoration-color: #008000; background-color: #c0c0c0\">to control \\nthe generation and distribution of electrical power.'</span><span style=\"color: #000080; text-decoration-color: #000080; background-color: #c0c0c0; font-weight: bold\">,</span>\n",
       "<span style=\"color: #000080; text-decoration-color: #000080; background-color: #c0c0c0; font-weight: bold\">    </span><span style=\"color: #008000; text-decoration-color: #008000; background-color: #c0c0c0\">'SECTOR 5 \\nThis is the other 70-degree sector; it contains \\npart of an environmental </span>\n",
       "<span style=\"color: #008000; text-decoration-color: #008000; background-color: #c0c0c0\">control radiator and a \\nreaction control engine quad on the exterior panel, \\nand the fuel </span>\n",
       "<span style=\"color: #008000; text-decoration-color: #008000; background-color: #c0c0c0\">sump tank within the sector.'</span><span style=\"color: #000080; text-decoration-color: #000080; background-color: #c0c0c0; font-weight: bold\">,</span>\n",
       "<span style=\"color: #000080; text-decoration-color: #000080; background-color: #c0c0c0; font-weight: bold\">    </span><span style=\"color: #008000; text-decoration-color: #008000; background-color: #c0c0c0\">'The fuel sump tank occupies almost all of the \\nspace with the sector.'</span><span style=\"color: #000080; text-decoration-color: #000080; background-color: #c0c0c0; font-weight: bold\">,</span>\n",
       "<span style=\"color: #000080; text-decoration-color: #000080; background-color: #c0c0c0; font-weight: bold\">    </span><span style=\"color: #008000; text-decoration-color: #008000; background-color: #c0c0c0\">'It is a cylindrical titanium \\ntank the sameÂ· size as the oxidizer sump tank: \\n153.8 </span>\n",
       "<span style=\"color: #008000; text-decoration-color: #008000; background-color: #c0c0c0\">inches high (12 feet 9-% inches) and 51 inches \\nin diameter.'</span><span style=\"color: #000080; text-decoration-color: #000080; background-color: #c0c0c0; font-weight: bold\">,</span>\n",
       "<span style=\"color: #000080; text-decoration-color: #000080; background-color: #c0c0c0; font-weight: bold\">    </span><span style=\"color: #008000; text-decoration-color: #008000; background-color: #c0c0c0\">'It holds 8,708 pounds of propellant \\n(a 50-50 mixture of hydrazine and unsymmetrical </span>\n",
       "<span style=\"color: #008000; text-decoration-color: #008000; background-color: #c0c0c0\">\\ndimethylhydrazine) for the service propulsion \\nengine.'</span><span style=\"color: #000080; text-decoration-color: #000080; background-color: #c0c0c0; font-weight: bold\">,</span>\n",
       "<span style=\"color: #000080; text-decoration-color: #000080; background-color: #c0c0c0; font-weight: bold\">    </span><span style=\"color: #008000; text-decoration-color: #008000; background-color: #c0c0c0\">'It is the tank from which the fuel is fed to \\nthe engine; feed lines also connect it to</span>\n",
       "<span style=\"color: #008000; text-decoration-color: #008000; background-color: #c0c0c0\">the fuel \\nstorage tank.'</span><span style=\"color: #000080; text-decoration-color: #000080; background-color: #c0c0c0; font-weight: bold\">,</span>\n",
       "<span style=\"color: #000080; text-decoration-color: #000080; background-color: #c0c0c0; font-weight: bold\">    </span><span style=\"color: #008000; text-decoration-color: #008000; background-color: #c0c0c0\">'SECTO R 6 \\nThe other 60-degree sector contains the rest \\nof the space radiator and a </span>\n",
       "<span style=\"color: #008000; text-decoration-color: #008000; background-color: #c0c0c0\">reaction control engine \\n57 \\nP-69 \\nTechnician finishes installation of cryogenic oxygen </span>\n",
       "<span style=\"color: #008000; text-decoration-color: #008000; background-color: #c0c0c0\">tank \\nquad on its exterior, and the fuel storage tank \\nwithin the sector.'</span><span style=\"color: #000080; text-decoration-color: #000080; background-color: #c0c0c0; font-weight: bold\">,</span>\n",
       "<span style=\"color: #000080; text-decoration-color: #000080; background-color: #c0c0c0; font-weight: bold\">    </span><span style=\"color: #008000; text-decoration-color: #008000; background-color: #c0c0c0\">'The fuel storage tank is the same size as the oxi\\x02dizer storage tank: 154.47 inches </span>\n",
       "<span style=\"color: #008000; text-decoration-color: #008000; background-color: #c0c0c0\">high (about \\n12 feet 1 0-% inches) and 45 inches in diameter.'</span><span style=\"color: #000080; text-decoration-color: #000080; background-color: #c0c0c0; font-weight: bold\">,</span>\n",
       "<span style=\"color: #000080; text-decoration-color: #000080; background-color: #c0c0c0; font-weight: bold\">    </span><span style=\"color: #008000; text-decoration-color: #008000; background-color: #c0c0c0\">'It holds 7,058 pounds of fuel.'</span><span style=\"color: #000080; text-decoration-color: #000080; background-color: #c0c0c0; font-weight: bold\">,</span>\n",
       "<span style=\"color: #000080; text-decoration-color: #000080; background-color: #c0c0c0; font-weight: bold\">    </span><span style=\"color: #008000; text-decoration-color: #008000; background-color: #c0c0c0\">'Fuel is fed from it \\nto the fuel sump tank in Sector 5.'</span><span style=\"color: #000080; text-decoration-color: #000080; background-color: #c0c0c0; font-weight: bold\">,</span>\n",
       "<span style=\"color: #000080; text-decoration-color: #000080; background-color: #c0c0c0; font-weight: bold\">    </span><span style=\"color: #008000; text-decoration-color: #008000; background-color: #c0c0c0\">'The sump tanks and the storage tanks for fuel and \\noxidizer are the same size; the </span>\n",
       "<span style=\"color: #008000; text-decoration-color: #008000; background-color: #c0c0c0\">difference in weight \\neach contains is that the oxidizer is more than 50-\\npercent heavier </span>\n",
       "<span style=\"color: #008000; text-decoration-color: #008000; background-color: #c0c0c0\">than the fuel.'</span><span style=\"color: #000080; text-decoration-color: #000080; background-color: #c0c0c0; font-weight: bold\">,</span>\n",
       "<span style=\"color: #000080; text-decoration-color: #000080; background-color: #c0c0c0; font-weight: bold\">    </span><span style=\"color: #008000; text-decoration-color: #008000; background-color: #c0c0c0\">'CENTER SECTION \\nThe center section or tunnel contains two helium \\ntanks and the </span>\n",
       "<span style=\"color: #008000; text-decoration-color: #008000; background-color: #c0c0c0\">service propulsion engine.'</span><span style=\"color: #000080; text-decoration-color: #000080; background-color: #c0c0c0; font-weight: bold\">,</span>\n",
       "<span style=\"color: #000080; text-decoration-color: #000080; background-color: #c0c0c0; font-weight: bold\">    </span><span style=\"color: #008000; text-decoration-color: #008000; background-color: #c0c0c0\">'The helium tanks are spherical vessels about 40 \\ninches in diameter located one on top </span>\n",
       "<span style=\"color: #008000; text-decoration-color: #008000; background-color: #c0c0c0\">of the other \\nin the upper half of the center section.'</span><span style=\"color: #000080; text-decoration-color: #000080; background-color: #c0c0c0; font-weight: bold\">,</span>\n",
       "<span style=\"color: #000080; text-decoration-color: #000080; background-color: #c0c0c0; font-weight: bold\">    </span><span style=\"color: #008000; text-decoration-color: #008000; background-color: #c0c0c0\">'Each con\\x02tains 19.6 cubic feet of helium gas under a pressure \\nof 3600 psi.'</span><span style=\"color: #000080; text-decoration-color: #000080; background-color: #c0c0c0; font-weight: bold\">,</span>\n",
       "<span style=\"color: #000080; text-decoration-color: #000080; background-color: #c0c0c0; font-weight: bold\">    </span><span style=\"color: #008000; text-decoration-color: #008000; background-color: #c0c0c0\">'This gas is used to pressurize the oxi\\x0258 \\ndizer and fuel tanks of the service </span>\n",
       "<span style=\"color: #008000; text-decoration-color: #008000; background-color: #c0c0c0\">propulsion sub\\x02system.'</span><span style=\"color: #000080; text-decoration-color: #000080; background-color: #c0c0c0; font-weight: bold\">,</span>\n",
       "<span style=\"color: #000080; text-decoration-color: #000080; background-color: #c0c0c0; font-weight: bold\">    </span><span style=\"color: #008000; text-decoration-color: #008000; background-color: #c0c0c0\">'The pressure forces the propellant from one \\ntank to another and through the feed lines</span>\n",
       "<span style=\"color: #008000; text-decoration-color: #008000; background-color: #c0c0c0\">to the \\nengine.'</span><span style=\"color: #000080; text-decoration-color: #000080; background-color: #c0c0c0; font-weight: bold\">,</span>\n",
       "<span style=\"color: #000080; text-decoration-color: #000080; background-color: #c0c0c0; font-weight: bold\">    </span><span style=\"color: #008000; text-decoration-color: #008000; background-color: #c0c0c0\">'The service propulsion engine is located in the \\nlower half of the center section, with</span>\n",
       "<span style=\"color: #008000; text-decoration-color: #008000; background-color: #c0c0c0\">its nozzle \\nextension skirt protruding more than 9 feet below \\nthe aft bulkhead of the </span>\n",
       "<span style=\"color: #008000; text-decoration-color: #008000; background-color: #c0c0c0\">module.'</span><span style=\"color: #000080; text-decoration-color: #000080; background-color: #c0c0c0; font-weight: bold\">,</span>\n",
       "<span style=\"color: #000080; text-decoration-color: #000080; background-color: #c0c0c0; font-weight: bold\">    </span><span style=\"color: #008000; text-decoration-color: #008000; background-color: #c0c0c0\">'The length of the \\nengine including the skirt is 152.82 inches (about \\n12 feet 8 </span>\n",
       "<span style=\"color: #008000; text-decoration-color: #008000; background-color: #c0c0c0\">inches) and its weight is 650 pounds.'</span><span style=\"color: #000080; text-decoration-color: #000080; background-color: #c0c0c0; font-weight: bold\">,</span>\n",
       "<span style=\"color: #000080; text-decoration-color: #000080; background-color: #c0c0c0; font-weight: bold\">    </span><span style=\"color: #008000; text-decoration-color: #008000; background-color: #c0c0c0\">'This \\nengine is used as a retrorocket to brake the space\\x02craft and put it into orbit</span>\n",
       "<span style=\"color: #008000; text-decoration-color: #008000; background-color: #c0c0c0\">around the moon, to \\nsupply the thrust for the return to earth from the \\nmoon, and for </span>\n",
       "<span style=\"color: #008000; text-decoration-color: #008000; background-color: #c0c0c0\">course corrections on the trips to \\nand from the moon.'</span><span style=\"color: #000080; text-decoration-color: #000080; background-color: #c0c0c0; font-weight: bold\">,</span>\n",
       "<span style=\"color: #000080; text-decoration-color: #000080; background-color: #c0c0c0; font-weight: bold\">    </span><span style=\"color: #008000; text-decoration-color: #008000; background-color: #c0c0c0\">'EXTERIOR \\nLocated on the exterior of the service module \\nare space radiators for both </span>\n",
       "<span style=\"color: #008000; text-decoration-color: #008000; background-color: #c0c0c0\">the environmental \\ncontrol and electrical power subsystems, reaction \\ncontrol subsystem </span>\n",
       "<span style=\"color: #008000; text-decoration-color: #008000; background-color: #c0c0c0\">engines, three antennas, um\\x02bilical connections, and several lights.'</span><span style=\"color: #000080; text-decoration-color: #000080; background-color: #c0c0c0; font-weight: bold\">,</span>\n",
       "<span style=\"color: #000080; text-decoration-color: #000080; background-color: #c0c0c0; font-weight: bold\">    </span><span style=\"color: #008000; text-decoration-color: #008000; background-color: #c0c0c0\">'The environmental control subsystem space radi\\x02ators are the larger ones and are </span>\n",
       "<span style=\"color: #008000; text-decoration-color: #008000; background-color: #c0c0c0\">located on the \\nlower half of the service module on opposite sides.'</span><span style=\"color: #000080; text-decoration-color: #000080; background-color: #c0c0c0; font-weight: bold\">,</span>\n",
       "<span style=\"color: #000080; text-decoration-color: #000080; background-color: #c0c0c0; font-weight: bold\">    </span><span style=\"color: #008000; text-decoration-color: #008000; background-color: #c0c0c0\">'One is part of the panel covers for Sectors 2 and 3 \\nand the other is part of the panel</span>\n",
       "<span style=\"color: #008000; text-decoration-color: #008000; background-color: #c0c0c0\">covers for \\nSectors 5 and 6.'</span><span style=\"color: #000080; text-decoration-color: #000080; background-color: #c0c0c0; font-weight: bold\">,</span>\n",
       "<span style=\"color: #000080; text-decoration-color: #000080; background-color: #c0c0c0; font-weight: bold\">    </span><span style=\"color: #008000; text-decoration-color: #008000; background-color: #c0c0c0\">'The radiators, each about 30 square \\nfeet, consist of five parallel primary tubes and </span>\n",
       "<span style=\"color: #008000; text-decoration-color: #008000; background-color: #c0c0c0\">four \\nsecondary tubes mounted horizontally and one \\nseries tube mounted vertically.'</span><span style=\"color: #000080; text-decoration-color: #000080; background-color: #c0c0c0; font-weight: bold\">,</span>\n",
       "<span style=\"color: #000080; text-decoration-color: #000080; background-color: #c0c0c0; font-weight: bold\">    </span><span style=\"color: #008000; text-decoration-color: #008000; background-color: #c0c0c0\">'The water-glycol \\ncoolant flows through these tubes to radiate to the \\ncold of space </span>\n",
       "<span style=\"color: #008000; text-decoration-color: #008000; background-color: #c0c0c0\">the heat it has absorbed from the \\ncommand module cabin and from operating elec\\x02tronic </span>\n",
       "<span style=\"color: #008000; text-decoration-color: #008000; background-color: #c0c0c0\">equipment.'</span><span style=\"color: #000080; text-decoration-color: #000080; background-color: #c0c0c0; font-weight: bold\">,</span>\n",
       "<span style=\"color: #000080; text-decoration-color: #000080; background-color: #c0c0c0; font-weight: bold\">    </span><span style=\"color: #008000; text-decoration-color: #008000; background-color: #c0c0c0\">'The electrical power subsystem space radiators \\nare located on the fairing at the top </span>\n",
       "<span style=\"color: #008000; text-decoration-color: #008000; background-color: #c0c0c0\">of the service \\nmodule.'</span><span style=\"color: #000080; text-decoration-color: #000080; background-color: #c0c0c0; font-weight: bold\">,</span>\n",
       "<span style=\"color: #000080; text-decoration-color: #000080; background-color: #c0c0c0; font-weight: bold\">    </span><span style=\"color: #008000; text-decoration-color: #008000; background-color: #c0c0c0\">'Each of the eight radiator panels (which \\nare alternated with eight aluminum honeycomb </span>\n",
       "<span style=\"color: #008000; text-decoration-color: #008000; background-color: #c0c0c0\">\\npanels) contains three tubes which are used to \\nradiate to space excess heat produced by </span>\n",
       "<span style=\"color: #008000; text-decoration-color: #008000; background-color: #c0c0c0\">the fuel \\ncell powerplants.'</span><span style=\"color: #000080; text-decoration-color: #000080; background-color: #c0c0c0; font-weight: bold\">,</span>\n",
       "<span style=\"color: #000080; text-decoration-color: #000080; background-color: #c0c0c0; font-weight: bold\">    </span><span style=\"color: #008000; text-decoration-color: #008000; background-color: #c0c0c0\">'A separate radiation loop is used \\nfor each powerplant; that is, one of the tubes on </span>\n",
       "<span style=\"color: #008000; text-decoration-color: #008000; background-color: #c0c0c0\">\\neach panel is connected to a specific powerplant.'</span><span style=\"color: #000080; text-decoration-color: #000080; background-color: #c0c0c0; font-weight: bold\">,</span>\n",
       "<span style=\"color: #000080; text-decoration-color: #000080; background-color: #c0c0c0; font-weight: bold\">    </span><span style=\"color: #008000; text-decoration-color: #008000; background-color: #c0c0c0\">'The reaction control subsystem engines are located \\nin four clusters of 90 degrees </span>\n",
       "<span style=\"color: #008000; text-decoration-color: #008000; background-color: #c0c0c0\">apart around the \\nupper portion of service module.'</span><span style=\"color: #000080; text-decoration-color: #000080; background-color: #c0c0c0; font-weight: bold\">,</span>\n",
       "<span style=\"color: #000080; text-decoration-color: #000080; background-color: #c0c0c0; font-weight: bold\">    </span><span style=\"color: #008000; text-decoration-color: #008000; background-color: #c0c0c0\">'The clusters or \\nquads are arranged in such a manner that the engines \\nare on the </span>\n",
       "<span style=\"color: #008000; text-decoration-color: #008000; background-color: #c0c0c0\">outside of the panels and all the other \\nP-70 \\nTechnician prepares service propulsion </span>\n",
       "<span style=\"color: #008000; text-decoration-color: #008000; background-color: #c0c0c0\">engine for installation in service module \\ncomponents are on the inside.'</span><span style=\"color: #000080; text-decoration-color: #000080; background-color: #c0c0c0; font-weight: bold\">,</span>\n",
       "<span style=\"color: #000080; text-decoration-color: #000080; background-color: #c0c0c0; font-weight: bold\">    </span><span style=\"color: #008000; text-decoration-color: #008000; background-color: #c0c0c0\">'The engines are \\nmounted with two pointed up and down and two \\npointed to the sides in</span>\n",
       "<span style=\"color: #008000; text-decoration-color: #008000; background-color: #c0c0c0\">opposite directions.'</span><span style=\"color: #000080; text-decoration-color: #000080; background-color: #c0c0c0; font-weight: bold\">,</span>\n",
       "<span style=\"color: #000080; text-decoration-color: #000080; background-color: #c0c0c0; font-weight: bold\">    </span><span style=\"color: #008000; text-decoration-color: #008000; background-color: #c0c0c0\">'Com\\x02ponents of the quad panels on the inside of the \\nsectors include two oxidizer </span>\n",
       "<span style=\"color: #008000; text-decoration-color: #008000; background-color: #c0c0c0\">and two fuel tanks, a \\nhelium tank, and associated valves, regulators, and \\nplumbing.'</span><span style=\"color: #000080; text-decoration-color: #000080; background-color: #c0c0c0; font-weight: bold\">,</span>\n",
       "<span style=\"color: #000080; text-decoration-color: #000080; background-color: #c0c0c0; font-weight: bold\">    </span><span style=\"color: #008000; text-decoration-color: #008000; background-color: #c0c0c0\">'Each quad package is eight feet long and \\nnearly three feet wide.'</span><span style=\"color: #000080; text-decoration-color: #000080; background-color: #c0c0c0; font-weight: bold\">,</span>\n",
       "<span style=\"color: #000080; text-decoration-color: #000080; background-color: #c0c0c0; font-weight: bold\">    </span><span style=\"color: #008000; text-decoration-color: #008000; background-color: #c0c0c0\">'The four antennas on the outside of the service \\nmodule are the S-band high-gain </span>\n",
       "<span style=\"color: #008000; text-decoration-color: #008000; background-color: #c0c0c0\">antenna, mounted \\non the aft bulkhead; two VHF omni-directional \\nantennas, mounted on </span>\n",
       "<span style=\"color: #008000; text-decoration-color: #008000; background-color: #c0c0c0\">opposite sides of the module \\nnear the top; and the rendezvous radar transponder \\nantenna, </span>\n",
       "<span style=\"color: #008000; text-decoration-color: #008000; background-color: #c0c0c0\">mounted in the SM fairing.'</span><span style=\"color: #000080; text-decoration-color: #000080; background-color: #c0c0c0; font-weight: bold\">,</span>\n",
       "<span style=\"color: #000080; text-decoration-color: #000080; background-color: #c0c0c0; font-weight: bold\">    </span><span style=\"color: #008000; text-decoration-color: #008000; background-color: #c0c0c0\">'The S-band \\nhigh-gain antenna, used for deep space communi\\x02cations, is composed of </span>\n",
       "<span style=\"color: #008000; text-decoration-color: #008000; background-color: #c0c0c0\">four 31-inch diameter \\nreflectors surrounding an 11-inch square reflector.'</span><span style=\"color: #000080; text-decoration-color: #000080; background-color: #c0c0c0; font-weight: bold\">,</span>\n",
       "<span style=\"color: #000080; text-decoration-color: #000080; background-color: #c0c0c0; font-weight: bold\">    </span><span style=\"color: #008000; text-decoration-color: #008000; background-color: #c0c0c0\">'At launch it is folded down parallel to the service \\npropulsion engine nozzle so that </span>\n",
       "<span style=\"color: #008000; text-decoration-color: #008000; background-color: #c0c0c0\">it fits within the \\nspacecraft- LM adapter.'</span><span style=\"color: #000080; text-decoration-color: #000080; background-color: #c0c0c0; font-weight: bold\">,</span>\n",
       "<span style=\"color: #000080; text-decoration-color: #000080; background-color: #c0c0c0; font-weight: bold\">    </span><span style=\"color: #008000; text-decoration-color: #008000; background-color: #c0c0c0\">'After the CSM separates \\nfrom the adapter the antenna is deployed at a \\nright angle to</span>\n",
       "<span style=\"color: #008000; text-decoration-color: #008000; background-color: #c0c0c0\">the service module.'</span><span style=\"color: #000080; text-decoration-color: #000080; background-color: #c0c0c0; font-weight: bold\">,</span>\n",
       "<span style=\"color: #000080; text-decoration-color: #000080; background-color: #c0c0c0; font-weight: bold\">    </span><span style=\"color: #008000; text-decoration-color: #008000; background-color: #c0c0c0\">'The omni\\x02directional antennas, called scimitars because of \\ntheir shape, are made of</span>\n",
       "<span style=\"color: #008000; text-decoration-color: #008000; background-color: #c0c0c0\">stainless steel and are \\napproximately 13-% inches long and only a hun\\x02dredth of an inch </span>\n",
       "<span style=\"color: #008000; text-decoration-color: #008000; background-color: #c0c0c0\">thick.'</span><span style=\"color: #000080; text-decoration-color: #000080; background-color: #c0c0c0; font-weight: bold\">,</span>\n",
       "<span style=\"color: #000080; text-decoration-color: #000080; background-color: #c0c0c0; font-weight: bold\">    </span><span style=\"color: #008000; text-decoration-color: #008000; background-color: #c0c0c0\">'59 \\nP-71 CM-SM umbilical assembly \\nThe umbilicals consist of the main plumbing and </span>\n",
       "<span style=\"color: #008000; text-decoration-color: #008000; background-color: #c0c0c0\">\\nwiring connections between the command module \\nand service module, which are enclosed in a</span>\n",
       "<span style=\"color: #008000; text-decoration-color: #008000; background-color: #c0c0c0\">fairing \\n(aluminum covering), and a \"flyaway\" umbilical \\nwhich is connected to the launch </span>\n",
       "<span style=\"color: #008000; text-decoration-color: #008000; background-color: #c0c0c0\">tower.'</span><span style=\"color: #000080; text-decoration-color: #000080; background-color: #c0c0c0; font-weight: bold\">,</span>\n",
       "<span style=\"color: #000080; text-decoration-color: #000080; background-color: #c0c0c0; font-weight: bold\">    </span><span style=\"color: #008000; text-decoration-color: #008000; background-color: #c0c0c0\">\"The latter \\nsï¿½pplies oxygen and nitrogen for cabin pressuriza\\x02tion\\n.'\"</span><span style=\"color: #000080; text-decoration-color: #000080; background-color: #c0c0c0; font-weight: bold\">,</span>\n",
       "<span style=\"color: #000080; text-decoration-color: #000080; background-color: #c0c0c0; font-weight: bold\">    </span><span style=\"color: #008000; text-decoration-color: #008000; background-color: #c0c0c0\">'water-glycol, electrical power from ground \\nequ1pment, and purge gas.'</span><span style=\"color: #000080; text-decoration-color: #000080; background-color: #c0c0c0; font-weight: bold\">,</span>\n",
       "<span style=\"color: #000080; text-decoration-color: #000080; background-color: #c0c0c0; font-weight: bold\">    </span><span style=\"color: #008000; text-decoration-color: #008000; background-color: #c0c0c0\">'Seven lights are mounted in the aluminum panels \\nof the fairing.'</span><span style=\"color: #000080; text-decoration-color: #000080; background-color: #c0c0c0; font-weight: bold\">,</span>\n",
       "<span style=\"color: #000080; text-decoration-color: #000080; background-color: #c0c0c0; font-weight: bold\">    </span><span style=\"color: #008000; text-decoration-color: #008000; background-color: #c0c0c0\">\"Four (one red, one green, and two \\namber) are used to aid the astronauts in docking, </span>\n",
       "<span style=\"color: #008000; text-decoration-color: #008000; background-color: #c0c0c0\">\\none is a floodlight which can be turned on to give \\nastronauts visibility during </span>\n",
       "<span style=\"color: #008000; text-decoration-color: #008000; background-color: #c0c0c0\">extravehicular activities \\none is a flashing beacon used to aid in rendezvous' \\nand one is </span>\n",
       "<span style=\"color: #008000; text-decoration-color: #008000; background-color: #c0c0c0\">a spotlight used in rendezvous from 500 \\nfeet to docking with the lunar module.\"</span><span style=\"color: #000080; text-decoration-color: #000080; background-color: #c0c0c0; font-weight: bold\">,</span>\n",
       "<span style=\"color: #000080; text-decoration-color: #000080; background-color: #c0c0c0; font-weight: bold\">    </span><span style=\"color: #008000; text-decoration-color: #008000; background-color: #c0c0c0\">'SM-CM SEPARATION \\nSeparation of the SM from the CM occurs shortly \\nbefore entry.'</span><span style=\"color: #000080; text-decoration-color: #000080; background-color: #c0c0c0; font-weight: bold\">,</span>\n",
       "<span style=\"color: #000080; text-decoration-color: #000080; background-color: #c0c0c0; font-weight: bold\">    </span><span style=\"color: #008000; text-decoration-color: #008000; background-color: #c0c0c0\">'The sequence of events during separa\\x02tion is controlled automatically by two </span>\n",
       "<span style=\"color: #008000; text-decoration-color: #008000; background-color: #c0c0c0\">redundant \\nservice module jettison controllers, located on the \\nforward bulkhead of the </span>\n",
       "<span style=\"color: #008000; text-decoration-color: #008000; background-color: #c0c0c0\">SM.'</span><span style=\"color: #000080; text-decoration-color: #000080; background-color: #c0c0c0; font-weight: bold\">,</span>\n",
       "<span style=\"color: #000080; text-decoration-color: #000080; background-color: #c0c0c0; font-weight: bold\">    </span><span style=\"color: #008000; text-decoration-color: #008000; background-color: #c0c0c0\">'A number of events must occur in rapid sequence \\nor at the same time for proper </span>\n",
       "<span style=\"color: #008000; text-decoration-color: #008000; background-color: #c0c0c0\">separation.'</span><span style=\"color: #000080; text-decoration-color: #000080; background-color: #c0c0c0; font-weight: bold\">,</span>\n",
       "<span style=\"color: #000080; text-decoration-color: #000080; background-color: #c0c0c0; font-weight: bold\">    </span><span style=\"color: #008000; text-decoration-color: #008000; background-color: #c0c0c0\">\"These \\ninclude physical separation of all the connections \\nbetween the modules, </span>\n",
       "<span style=\"color: #008000; text-decoration-color: #008000; background-color: #c0c0c0\">transfer of electrical con\\x02trol, and firing of the service module's reaction \\ncontrol </span>\n",
       "<span style=\"color: #008000; text-decoration-color: #008000; background-color: #c0c0c0\">engines to increase the distance between \\nthe modules.\"</span><span style=\"color: #000080; text-decoration-color: #000080; background-color: #c0c0c0; font-weight: bold\">,</span>\n",
       "<span style=\"color: #000080; text-decoration-color: #000080; background-color: #c0c0c0; font-weight: bold\">    </span><span style=\"color: #008000; text-decoration-color: #008000; background-color: #c0c0c0\">'Before separation, the crewmen in the CM transfer \\n60 \\nelectrical control to the CM </span>\n",
       "<span style=\"color: #008000; text-decoration-color: #008000; background-color: #c0c0c0\">reaction control sub\\x02system (the SM reaction control subsystem is used \\nfor attitude </span>\n",
       "<span style=\"color: #008000; text-decoration-color: #008000; background-color: #c0c0c0\">maneuvers throughout the mission up \\nto entry) so that they can pressurize it and check it </span>\n",
       "<span style=\"color: #008000; text-decoration-color: #008000; background-color: #c0c0c0\">\\nout for the entry maneuvers.'</span><span style=\"color: #000080; text-decoration-color: #000080; background-color: #c0c0c0; font-weight: bold\">,</span>\n",
       "<span style=\"color: #000080; text-decoration-color: #000080; background-color: #c0c0c0; font-weight: bold\">    </span><span style=\"color: #008000; text-decoration-color: #008000; background-color: #c0c0c0\">'Electrical control is then transferred back to the \\nSM subsystem.'</span><span style=\"color: #000080; text-decoration-color: #000080; background-color: #c0c0c0; font-weight: bold\">,</span>\n",
       "<span style=\"color: #000080; text-decoration-color: #000080; background-color: #c0c0c0; font-weight: bold\">    </span><span style=\"color: #008000; text-decoration-color: #008000; background-color: #c0c0c0\">'Separation is started manually, by \\nactivation of either of two redundant switches on </span>\n",
       "<span style=\"color: #008000; text-decoration-color: #008000; background-color: #c0c0c0\">\\nthe main display console.'</span><span style=\"color: #000080; text-decoration-color: #000080; background-color: #c0c0c0; font-weight: bold\">,</span>\n",
       "<span style=\"color: #000080; text-decoration-color: #000080; background-color: #c0c0c0; font-weight: bold\">    </span><span style=\"color: #008000; text-decoration-color: #008000; background-color: #c0c0c0\">'These switches send sig\\x02nals to the SM jettison controllers.'</span><span style=\"color: #000080; text-decoration-color: #000080; background-color: #c0c0c0; font-weight: bold\">,</span>\n",
       "<span style=\"color: #000080; text-decoration-color: #000080; background-color: #c0c0c0; font-weight: bold\">    </span><span style=\"color: #008000; text-decoration-color: #008000; background-color: #c0c0c0\">'The controllers \\nfirst send a signal to fire ordnance devices which \\nactivatï¿½ the </span>\n",
       "<span style=\"color: #008000; text-decoration-color: #008000; background-color: #c0c0c0\">CM-SM electrical circuit interrupters; \\nthese mterrupters deadface (cut off all power to) </span>\n",
       "<span style=\"color: #008000; text-decoration-color: #008000; background-color: #c0c0c0\">\\nthe electrical wires in the CM-SM umbilical.'</span><span style=\"color: #000080; text-decoration-color: #000080; background-color: #c0c0c0; font-weight: bold\">,</span>\n",
       "<span style=\"color: #000080; text-decoration-color: #000080; background-color: #c0c0c0; font-weight: bold\">    </span><span style=\"color: #008000; text-decoration-color: #008000; background-color: #c0c0c0\">'A tenth of a second after the wires are deadfaced \\nthe controllers send signals which </span>\n",
       "<span style=\"color: #008000; text-decoration-color: #008000; background-color: #c0c0c0\">fire ordnancï¿½ \\ndevices to sever the physical connections between \\nthe modules.'</span><span style=\"color: #000080; text-decoration-color: #000080; background-color: #c0c0c0; font-weight: bold\">,</span>\n",
       "<span style=\"color: #000080; text-decoration-color: #000080; background-color: #c0c0c0; font-weight: bold\">    </span><span style=\"color: #008000; text-decoration-color: #008000; background-color: #c0c0c0\">'These connections are three tension \\ntieï¿½ and the umbilical.'</span><span style=\"color: #000080; text-decoration-color: #000080; background-color: #c0c0c0; font-weight: bold\">,</span>\n",
       "<span style=\"color: #000080; text-decoration-color: #000080; background-color: #c0c0c0; font-weight: bold\">    </span><span style=\"color: #008000; text-decoration-color: #008000; background-color: #c0c0c0\">'The tension ties are straps \\nwh1ch hold the CM on three of the compression \\npads on </span>\n",
       "<span style=\"color: #008000; text-decoration-color: #008000; background-color: #c0c0c0\">the SM.'</span><span style=\"color: #000080; text-decoration-color: #000080; background-color: #c0c0c0; font-weight: bold\">,</span>\n",
       "<span style=\"color: #000080; text-decoration-color: #000080; background-color: #c0c0c0; font-weight: bold\">    </span><span style=\"color: #008000; text-decoration-color: #008000; background-color: #c0c0c0\">'Linear-shaped charges in each \\ntension-tie assembly sever the tension ties to separate </span>\n",
       "<span style=\"color: #008000; text-decoration-color: #008000; background-color: #c0c0c0\">\\nthe modules.'</span><span style=\"color: #000080; text-decoration-color: #000080; background-color: #c0c0c0; font-weight: bold\">,</span>\n",
       "<span style=\"color: #000080; text-decoration-color: #000080; background-color: #c0c0c0; font-weight: bold\">    </span><span style=\"color: #008000; text-decoration-color: #008000; background-color: #c0c0c0\">'At the same time, explosive charges \\ndrive guillotines through the wiring and tubing in</span>\n",
       "<span style=\"color: #008000; text-decoration-color: #008000; background-color: #c0c0c0\">the \\numbilical.'</span><span style=\"color: #000080; text-decoration-color: #000080; background-color: #c0c0c0; font-weight: bold\">,</span>\n",
       "<span style=\"color: #000080; text-decoration-color: #000080; background-color: #c0c0c0; font-weight: bold\">    </span><span style=\"color: #008000; text-decoration-color: #008000; background-color: #c0c0c0\">'Simultaneously with the firing of the ordnance \\ndevices, the controllers send signals </span>\n",
       "<span style=\"color: #008000; text-decoration-color: #008000; background-color: #c0c0c0\">which fire the \\nSM reaction control engines.'</span><span style=\"color: #000080; text-decoration-color: #000080; background-color: #c0c0c0; font-weight: bold\">,</span>\n",
       "<span style=\"color: #000080; text-decoration-color: #000080; background-color: #c0c0c0; font-weight: bold\">    </span><span style=\"color: #008000; text-decoration-color: #008000; background-color: #c0c0c0\">\"Roll engines are fired \\nfor 5 seconds to alter the SM's course from that of \\nthe CM, </span>\n",
       "<span style=\"color: #008000; text-decoration-color: #008000; background-color: #c0c0c0\">and the translation (thrust) engines are \\nfired continuously until the propellant is </span>\n",
       "<span style=\"color: #008000; text-decoration-color: #008000; background-color: #c0c0c0\">depleted \\nor fuel cell power is expended.\"</span><span style=\"color: #000080; text-decoration-color: #000080; background-color: #c0c0c0; font-weight: bold\">,</span>\n",
       "<span style=\"color: #000080; text-decoration-color: #000080; background-color: #c0c0c0; font-weight: bold\">    </span><span style=\"color: #008000; text-decoration-color: #008000; background-color: #c0c0c0\">'These maneuvers \\ncarry the SM well away from the entry path of \\nthe CM.'</span><span style=\"color: #000080; text-decoration-color: #000080; background-color: #c0c0c0; font-weight: bold\">,</span>\n",
       "<span style=\"color: #000080; text-decoration-color: #000080; background-color: #c0c0c0; font-weight: bold\">    </span><span style=\"color: #008000; text-decoration-color: #008000; background-color: #c0c0c0\">\"The service module will enter the earth's atmos\\x02phere after separation and burn up.\"</span><span style=\"color: #000080; text-decoration-color: #000080; background-color: #c0c0c0; font-weight: bold\">,</span>\n",
       "<span style=\"color: #000080; text-decoration-color: #000080; background-color: #c0c0c0; font-weight: bold\">    </span><span style=\"color: #008000; text-decoration-color: #008000; background-color: #c0c0c0\">\"f) SM REACTION CONTROL \\nENGINES (-X) FIRE FOR \\n5.5 SECONDS\\x02CD AFTER 2 SECONDS </span>\n",
       "<span style=\"color: #008000; text-decoration-color: #008000; background-color: #c0c0c0\">\\nI'I.JG ROLL ENGINES FIRE \\nHrrR :-:----\\n.._ .._ .ï¿½:!...E !!.\"</span><span style=\"color: #000080; text-decoration-color: #000080; background-color: #c0c0c0; font-weight: bold\">,</span>\n",
       "<span style=\"color: #000080; text-decoration-color: #000080; background-color: #c0c0c0; font-weight: bold\">    </span><span style=\"color: #008000; text-decoration-color: #008000; background-color: #c0c0c0\">\"!.o R y \\nLOCAL H -- DRiz(m'fAL .\"</span><span style=\"color: #000080; text-decoration-color: #000080; background-color: #c0c0c0; font-weight: bold\">,</span>\n",
       "<span style=\"color: #000080; text-decoration-color: #000080; background-color: #c0c0c0; font-weight: bold\">    </span><span style=\"color: #008000; text-decoration-color: #008000; background-color: #c0c0c0\">\"45' ,f.: ï¿½ ' ï¿½ï¿½-Â·-\\nSEPARATION \\nATIITUDE 8 \\nSEPARATION \\nATIITUDE A \\nP-72 </span>\n",
       "<span style=\"color: #008000; text-decoration-color: #008000; background-color: #c0c0c0\">Attitude of SM and CM during separation\"</span>\n",
       "<span style=\"color: #000080; text-decoration-color: #000080; background-color: #c0c0c0; font-weight: bold\">]</span>\n",
       "</pre>\n"
      ],
      "text/plain": [
       "\u001b[1;34;47m[\u001b[0m\n",
       "\u001b[1;34;47m    \u001b[0m\u001b[32;47m\"\\nOXYGEN TANKS, HYDROGEN TANKS, FUEL CELLS \\nSERVICE PROPULSION SUBSYSTEM \\nSECTOR 6 \u001b[0m\n",
       "\u001b[32;47mFUEL TANKS \\nCENTER SECTIONÂ· SERVICE PROPULSION ENGINE ANO \\nHELIUM TANKS \\nFunction \\nThe \u001b[0m\n",
       "\u001b[32;47mservice module contains the main spacecraft \\npropulsion system and supplies most of the \u001b[0m\n",
       "\u001b[32;47mspace\\x02craft's consumables \u001b[0m\u001b[32;47m(\u001b[0m\u001b[32;47moxygen, water, propellant, \\nhydrogen\u001b[0m\u001b[32;47m)\u001b[0m\u001b[32;47m.\"\u001b[0m\u001b[1;34;47m,\u001b[0m\n",
       "\u001b[1;34;47m    \u001b[0m\u001b[32;47m'It is not manned.'\u001b[0m\u001b[1;34;47m,\u001b[0m\n",
       "\u001b[1;34;47m    \u001b[0m\u001b[32;47m'The service module \\nremains attached to the command module until \\njust before entry, \u001b[0m\n",
       "\u001b[32;47mwhen it is jettisoned and is \\ndestroyed during entry.'\u001b[0m\u001b[1;34;47m,\u001b[0m\n",
       "\u001b[1;34;47m    \u001b[0m\u001b[32;47m\"Major Subsystems \\nElectrical power \\nEnvironmental control \\nReaction control \\nService\u001b[0m\n",
       "\u001b[32;47mpropulsion \\nTelecommunications \\n\\nService module mated to command module at Kennedy Space \u001b[0m\n",
       "\u001b[32;47mCenter \\n\u001b[0m\u001b[32;47m)\u001b[0m\u001b[32;47m \\n.-\\n\\\\lt --':.\"\u001b[0m\u001b[1;34;47m,\u001b[0m\n",
       "\u001b[1;34;47m    \u001b[0m\u001b[32;47m'The service module is a cylindrical structure which \\nserves as a storehouse of critical\u001b[0m\n",
       "\u001b[32;47msubsystems and \\nsupplies for almost the entire lunar mission.'\u001b[0m\u001b[1;34;47m,\u001b[0m\n",
       "\u001b[1;34;47m    \u001b[0m\u001b[32;47m'It is \\nattached to the command module from launch until \\njust before earth atmosphere \u001b[0m\n",
       "\u001b[32;47mentry.'\u001b[0m\u001b[1;34;47m,\u001b[0m\n",
       "\u001b[1;34;47m    \u001b[0m\u001b[32;47m\"The service module contains the spacecraft's main \\npropulsion engine, which is used to \u001b[0m\n",
       "\u001b[32;47mbrake the space\\x02craft and put it into orbit around the moon and to \\nsend it on the \u001b[0m\n",
       "\u001b[32;47mhomeward journey from the moon.\"\u001b[0m\u001b[1;34;47m,\u001b[0m\n",
       "\u001b[1;34;47m    \u001b[0m\u001b[32;47m\"The engine also is used to correct the spacecraft's \\ncourse on both the trips to and \u001b[0m\n",
       "\u001b[32;47mfrom the moon.\"\u001b[0m\u001b[1;34;47m,\u001b[0m\n",
       "\u001b[1;34;47m    \u001b[0m\u001b[32;47m'Besides the service propulsion engine and its pro\\x02pellant and helium tanks, the \u001b[0m\n",
       "\u001b[32;47mservice module con\\x02tains a major portion of the electrical power, \\nenvironmental control,\u001b[0m\n",
       "\u001b[32;47mand reaction control sub\\x02systems, and a small portion of the communica\\x02tions \u001b[0m\n",
       "\u001b[32;47msubsystem.'\u001b[0m\u001b[1;34;47m,\u001b[0m\n",
       "\u001b[1;34;47m    \u001b[0m\u001b[32;47m'It is strictly a servicing unit of the spacecraft, but \\nit is more than twice as long \u001b[0m\n",
       "\u001b[32;47mand more than four \\ntimes as heavy as the manned command module.'\u001b[0m\u001b[1;34;47m,\u001b[0m\n",
       "\u001b[1;34;47m    \u001b[0m\u001b[32;47m\"About 75 percent of the service module's weight \\nis in propellant for the service \u001b[0m\n",
       "\u001b[32;47mpropulsion engine.\"\u001b[0m\u001b[1;34;47m,\u001b[0m\n",
       "\u001b[1;34;47m    \u001b[0m\u001b[32;47m'STRUCTURE \\nThe service module is a relatively simple structure \\nconsisting of a center\u001b[0m\n",
       "\u001b[32;47msection or tunnel surrounded \\nby six pie-shaped sectors.'\u001b[0m\u001b[1;34;47m,\u001b[0m\n",
       "\u001b[1;34;47m    \u001b[0m\u001b[32;47m'The basic structural components are forward and \\naft \u001b[0m\u001b[32;47m(\u001b[0m\u001b[32;47mupper and lower\u001b[0m\u001b[32;47m)\u001b[0m\u001b[32;47m bulkheads, six \u001b[0m\n",
       "\u001b[32;47mradial beams, \\nfour sector honeycomb panels, four reaction con\\x02trol system honeycomb \u001b[0m\n",
       "\u001b[32;47mpanels, an aft heat shield, \\nand a fairing.'\u001b[0m\u001b[1;34;47m,\u001b[0m\n",
       "\u001b[1;34;47m    \u001b[0m\u001b[32;47m'The radial beams are made of solid aluminum \\nalloy which has been machined and \u001b[0m\n",
       "\u001b[32;47mchem-milled \\n\u001b[0m\u001b[32;47m(\u001b[0m\u001b[32;47mmetal removed by chemical action\u001b[0m\u001b[32;47m)\u001b[0m\u001b[32;47m to thicknesses \\nvarying between 2 inches \u001b[0m\n",
       "\u001b[32;47mand 0.018 inch, thus mak\\x02ing a lightweight, efficient structure.'\u001b[0m\u001b[1;34;47m,\u001b[0m\n",
       "\u001b[1;34;47m    \u001b[0m\u001b[32;47m'The forward and aft bulkheads cover the top and \\nbottom of the module.'\u001b[0m\u001b[1;34;47m,\u001b[0m\n",
       "\u001b[1;34;47m    \u001b[0m\u001b[32;47m'Radial beam trusses ex\\x02tending above the forward bulkhead support and \\nsecure the \u001b[0m\n",
       "\u001b[32;47mcommand module.'\u001b[0m\u001b[1;34;47m,\u001b[0m\n",
       "\u001b[1;34;47m    \u001b[0m\u001b[32;47m'Three of these beams \\nhave compression pads and the other three have \u001b[0m\n",
       "\u001b[32;47m\\nshear-compression pads and tension ties.'\u001b[0m\u001b[1;34;47m,\u001b[0m\n",
       "\u001b[1;34;47m    \u001b[0m\u001b[32;47m'Explosive \\ncharges in the center sections of these tension ties \\nare used to separate \u001b[0m\n",
       "\u001b[32;47mthe two modules.'\u001b[0m\u001b[1;34;47m,\u001b[0m\n",
       "\u001b[1;34;47m    \u001b[0m\u001b[32;47m\"An aft heat shield surrounds the service propulsion \\nW\\nHELIUMTANKS \\nFUEL TANKS \u001b[0m\n",
       "\u001b[32;47m\\nFORWARO BULKHEAD INSTALL \\nSERVICE PROPULSION ENGINE \\nP-66 Main components o\u001b[0m\u001b[32;47m[\u001b[0m\u001b[32;47mSM \\nOXIOIZER\u001b[0m\n",
       "\u001b[32;47mTANKS \\nREACTION \\nCONTROL \\nSUBSYSTEM \\nOUAOS \u001b[0m\u001b[32;47m(\u001b[0m\u001b[32;47m4\u001b[0m\u001b[32;47m)\u001b[0m\u001b[32;47m \\nAFT BULKHEAD \\nengine to protect the \u001b[0m\n",
       "\u001b[32;47mservice module from the \\nengine's heat during thrusting.\"\u001b[0m\u001b[1;34;47m,\u001b[0m\n",
       "\u001b[1;34;47m    \u001b[0m\u001b[32;47m\"The gap between the \\ncommand module and the forward bulkhead of the \\nservice module is\u001b[0m\n",
       "\u001b[32;47mclosed off with a fairing which is \\n'Y:!-inch thick and 22 inches high.\"\u001b[0m\u001b[1;34;47m,\u001b[0m\n",
       "\u001b[1;34;47m    \u001b[0m\u001b[32;47m'The fairing is com\\x02posed of 16 pieces; eight electrical power subsystem \\nradiators \u001b[0m\n",
       "\u001b[32;47malternated with eight aluminum honey\\x02comb panels.'\u001b[0m\u001b[1;34;47m,\u001b[0m\n",
       "\u001b[1;34;47m    \u001b[0m\u001b[32;47m'The center section is circular and is 44 inches in \\ndiameter.'\u001b[0m\u001b[1;34;47m,\u001b[0m\n",
       "\u001b[1;34;47m    \u001b[0m\u001b[32;47m'Maintenance doors around the exterior of the \\nmodule provide access to equipment within\u001b[0m\n",
       "\u001b[32;47meach \\nsector.'\u001b[0m\u001b[1;34;47m,\u001b[0m\n",
       "\u001b[1;34;47m    \u001b[0m\u001b[32;47m'These doors are designed for installation and \\ncheckout operations and are not used \u001b[0m\n",
       "\u001b[32;47mduring space \\noperations ..'\u001b[0m\u001b[1;34;47m,\u001b[0m\n",
       "\u001b[1;34;47m    \u001b[0m\u001b[32;47m'The sector and reaction control system panels are \\n1-inch thick and are made of \u001b[0m\n",
       "\u001b[32;47maluminum honeycomb \\ncore between two aluminum face sheets.'\u001b[0m\u001b[1;34;47m,\u001b[0m\n",
       "\u001b[1;34;47m    \u001b[0m\u001b[32;47m'The sector \\npanels are bolted to the radial beams.'\u001b[0m\u001b[1;34;47m,\u001b[0m\n",
       "\u001b[1;34;47m    \u001b[0m\u001b[32;47m'Radiators used \\nto dissipate heat from the environmental control \\nsubsystem are bonded\u001b[0m\n",
       "\u001b[32;47mto the sector panels on oppo\\x02site sides of the module.'\u001b[0m\u001b[1;34;47m,\u001b[0m\n",
       "\u001b[1;34;47m    \u001b[0m\u001b[32;47m'These radiators are each \\nabout 30 square feet in area.'\u001b[0m\u001b[1;34;47m,\u001b[0m\n",
       "\u001b[1;34;47m    \u001b[0m\u001b[32;47m'55 \\nP-67 \\nTechnicians work on wiring and plumbing on \"top deck\" of service module \u001b[0m\n",
       "\u001b[32;47m\\nSECTORS \\nThe service module\\'s six sectors are of three sizes, \\nwith two sectors each of \u001b[0m\n",
       "\u001b[32;47mthe same size.'\u001b[0m\u001b[1;34;47m,\u001b[0m\n",
       "\u001b[1;34;47m    \u001b[0m\u001b[32;47m'The 360 \\ndegrees around the center section is divided among \\ntwo 50-degree \u001b[0m\u001b[32;47m(\u001b[0m\u001b[32;47mSectors 1 \u001b[0m\n",
       "\u001b[32;47mand 4\u001b[0m\u001b[32;47m)\u001b[0m\u001b[32;47m, two 60-degree \\n\u001b[0m\u001b[32;47m(\u001b[0m\u001b[32;47mSectors 3 and 6\u001b[0m\u001b[32;47m)\u001b[0m\u001b[32;47m, and two 70-degree \u001b[0m\u001b[32;47m(\u001b[0m\u001b[32;47mSectors 2 \\nand 5\u001b[0m\u001b[32;47m)\u001b[0m\u001b[32;47m \u001b[0m\n",
       "\u001b[32;47mcompartments.'\u001b[0m\u001b[1;34;47m,\u001b[0m\n",
       "\u001b[1;34;47m    \u001b[0m\u001b[32;47m'SECTOR 1 \\nIt is not currently planned to install any equipment \\nin this sector.'\u001b[0m\u001b[1;34;47m,\u001b[0m\n",
       "\u001b[1;34;47m    \u001b[0m\u001b[32;47m'The space is thus available if any \\nadditional equipment needs to be added to the \u001b[0m\n",
       "\u001b[32;47m\\nspacecraft for the lunar mission or if equipment is \\nadded for scientific experiments.'\u001b[0m\u001b[1;34;47m,\u001b[0m\n",
       "\u001b[1;34;47m    \u001b[0m\u001b[32;47m\"Ballast may be \\nstowed in the sector to maintain the service \\nmodule's center of \u001b[0m\n",
       "\u001b[32;47mgravity if no equipment is added.\"\u001b[0m\u001b[1;34;47m,\u001b[0m\n",
       "\u001b[1;34;47m    \u001b[0m\u001b[32;47m'56 \\nSECTOR 2 \\nOne of the two 70-degree sectors, contains part of \\na space radiator \u001b[0m\n",
       "\u001b[32;47mand a reaction control subsystem \\nengine quad on its exterior panel, and the oxidizer \\nsump\u001b[0m\n",
       "\u001b[32;47mtank, its plumbing, and the reaction control \\nengine tanks and plumbing within the sector.'\u001b[0m\u001b[1;34;47m,\u001b[0m\n",
       "\u001b[1;34;47m    \u001b[0m\u001b[32;47m'The oxidizer sump tank is the larger of the two \\ntanks that hold the oxidizer \u001b[0m\u001b[32;47m(\u001b[0m\u001b[32;47mnitrogen\u001b[0m\n",
       "\u001b[32;47mtetroxide\u001b[0m\u001b[32;47m)\u001b[0m\u001b[32;47m \\nfor the service propulsion engine.'\u001b[0m\u001b[1;34;47m,\u001b[0m\n",
       "\u001b[1;34;47m    \u001b[0m\u001b[32;47m'A cylindrical tank \\nmade of titanium, it is 153.8 inches high \u001b[0m\u001b[32;47m(\u001b[0m\u001b[32;47mabout \\n12 feet 9-% \u001b[0m\n",
       "\u001b[32;47minches\u001b[0m\u001b[32;47m)\u001b[0m\u001b[32;47m and has a diameter of 51 \\ninches \u001b[0m\u001b[32;47m(\u001b[0m\u001b[32;47m4 feet 3 inches\u001b[0m\u001b[32;47m)\u001b[0m\u001b[32;47m.'\u001b[0m\u001b[1;34;47m,\u001b[0m\n",
       "\u001b[1;34;47m    \u001b[0m\u001b[32;47m'It holds 13,923 pounds of \\noxidizer.'\u001b[0m\u001b[1;34;47m,\u001b[0m\n",
       "\u001b[1;34;47m    \u001b[0m\u001b[32;47m'It is the tank from which oxidizer is fed to \\nthe engine.'\u001b[0m\u001b[1;34;47m,\u001b[0m\n",
       "\u001b[1;34;47m    \u001b[0m\u001b[32;47m'Feed lines connect the sump tank to the \\nservice propulsion engine and to the oxidizer \u001b[0m\n",
       "\u001b[32;47mstorage \\ntank.'\u001b[0m\u001b[1;34;47m,\u001b[0m\n",
       "\u001b[1;34;47m    \u001b[0m\u001b[32;47m'SECTOR 3 \\nSector 3 is one of the 60-degree sectors, and con\\x02tains the rest of the \u001b[0m\n",
       "\u001b[32;47mspace radiator and a reaction \\ncontrol engine quad on its exterior panel, and the \\noxidizer\u001b[0m\n",
       "\u001b[32;47mstorage tank and its plumbing within the \\nsector.'\u001b[0m\u001b[1;34;47m,\u001b[0m\n",
       "\u001b[1;34;47m    \u001b[0m\u001b[32;47m'The oxidizer storage tank is similar to the sump \\ntank but not quite as large.'\u001b[0m\u001b[1;34;47m,\u001b[0m\n",
       "\u001b[1;34;47m    \u001b[0m\u001b[32;47m'It is 154.47 inches high \\n\u001b[0m\u001b[32;47m(\u001b[0m\u001b[32;47mabout 12 feet 10-% inches\u001b[0m\u001b[32;47m)\u001b[0m\u001b[32;47m and has a diameter of \\n45 \u001b[0m\n",
       "\u001b[32;47minches.'\u001b[0m\u001b[1;34;47m,\u001b[0m\n",
       "\u001b[1;34;47m    \u001b[0m\u001b[32;47m'It holds 1 1,284 pounds of oxidizer.'\u001b[0m\u001b[1;34;47m,\u001b[0m\n",
       "\u001b[1;34;47m    \u001b[0m\u001b[32;47m'Oxidizer is fed from it to the oxidizer sump tank \\nin Sector 2.'\u001b[0m\u001b[1;34;47m,\u001b[0m\n",
       "\u001b[1;34;47m    \u001b[0m\u001b[32;47m'SECTO R 4 \\nSector 4 is one of the 50-degree sectors and con\\x02tains most of the \u001b[0m\n",
       "\u001b[32;47melectrical power subsystem equip\\x02ment in the service module, including three fuel \\ncell \u001b[0m\n",
       "\u001b[32;47mpowerplants, two cryogenic oxygen and two \\ncryogenic hydrogen tanks, and a power control \u001b[0m\n",
       "\u001b[32;47m\\nrelay box.'\u001b[0m\u001b[1;34;47m,\u001b[0m\n",
       "\u001b[1;34;47m    \u001b[0m\u001b[32;47m'A helium servicing panel also is located \\nin this sector.'\u001b[0m\u001b[1;34;47m,\u001b[0m\n",
       "\u001b[1;34;47m    \u001b[0m\u001b[32;47m'The three fuel cell powerplants are mounted on \\na shelf in the upper third of the \u001b[0m\n",
       "\u001b[32;47msector.'\u001b[0m\u001b[1;34;47m,\u001b[0m\n",
       "\u001b[1;34;47m    \u001b[0m\u001b[32;47m'Each power\\x02plant is 44 inches high, 22 inches in diameter, and \\nweighs about 245 \u001b[0m\n",
       "\u001b[32;47mpounds.'\u001b[0m\u001b[1;34;47m,\u001b[0m\n",
       "\u001b[1;34;47m    \u001b[0m\u001b[32;47m'They supply most of the \\nelectrical power for the spacecraft as well as some \\nof the \u001b[0m\n",
       "\u001b[32;47mdrinking water.'\u001b[0m\u001b[1;34;47m,\u001b[0m\n",
       "\u001b[1;34;47m    \u001b[0m\u001b[32;47m'The cryogenic \u001b[0m\u001b[32;47m(\u001b[0m\u001b[32;47multra low temperature\u001b[0m\u001b[32;47m)\u001b[0m\u001b[32;47m tanks supply \\noxygen to the environmental control\u001b[0m\n",
       "\u001b[32;47msubsystem and \\noxygen and hydrogen to the fuel cell powerplants.'\u001b[0m\u001b[1;34;47m,\u001b[0m\n",
       "\u001b[1;34;47m    \u001b[0m\u001b[32;47m'The tanks are spheres, with the oxygen tanks \\nmounted side by side in the center of the\u001b[0m\n",
       "\u001b[32;47msector and \\nthe hydrogen tanks mounted below them one on \\ntop of the other.'\u001b[0m\u001b[1;34;47m,\u001b[0m\n",
       "\u001b[1;34;47m    \u001b[0m\u001b[32;47m'The oxygen tanks are made of lnconel \u001b[0m\u001b[32;47m(\u001b[0m\u001b[32;47ma nickel\\x02steel alloy\u001b[0m\u001b[32;47m)\u001b[0m\u001b[32;47m and are a little over 26 \u001b[0m\n",
       "\u001b[32;47minches in diam\\x02eter.'\u001b[0m\u001b[1;34;47m,\u001b[0m\n",
       "\u001b[1;34;47m    \u001b[0m\u001b[32;47m'Each holds 326 pounds of oxygen in a semi\\x02liquid, semi-gas state.'\u001b[0m\u001b[1;34;47m,\u001b[0m\n",
       "\u001b[1;34;47m    \u001b[0m\u001b[32;47m'Operating temperature of the \\ntanks ranges from 300 degrees below zero to 80 \\nabove.'\u001b[0m\u001b[1;34;47m,\u001b[0m\n",
       "\u001b[1;34;47m    \u001b[0m\u001b[32;47m'Oxygen must be maintained at 297 degrees \\nbelow zero to remain liquid.'\u001b[0m\u001b[1;34;47m,\u001b[0m\n",
       "\u001b[1;34;47m    \u001b[0m\u001b[32;47m'The hydrogen tanks are made of titanium and are \\nabout 31-% inches in diameter.'\u001b[0m\u001b[1;34;47m,\u001b[0m\n",
       "\u001b[1;34;47m    \u001b[0m\u001b[32;47m'Each holds a little \\nover 29 pounds of hydrogen.'\u001b[0m\u001b[1;34;47m,\u001b[0m\n",
       "\u001b[1;34;47m    \u001b[0m\u001b[32;47m'\u001b[0m\u001b[32;47m(\u001b[0m\u001b[32;47mHydrogen is much \\nlighter than oxygen, so that in vessels of the same \\nvolume the \u001b[0m\n",
       "\u001b[32;47mweight of the oxygen would be far \\ngreater.\u001b[0m\u001b[32;47m)\u001b[0m\u001b[32;47m'\u001b[0m\u001b[1;34;47m,\u001b[0m\n",
       "\u001b[1;34;47m    \u001b[0m\u001b[32;47m'The hydrogen also is in a semi-gas, semi\\x02SECTOR 3 \u001b[0m\u001b[32;47m(\u001b[0m\u001b[32;47mGin \\nOXIDIZER STORAGE \\nSM TO CM \u001b[0m\n",
       "\u001b[32;47m\\nFAIRING \\nSECTOR \\n4 \u001b[0m\u001b[32;47m(\u001b[0m\u001b[32;47m50, \\nEUUIP \\nAFT BULKHEAD \\nP-68 SM general arrangement \\nliquid \u001b[0m\n",
       "\u001b[32;47mstage, and its operating temperature ranges \\nfrom 425 degrees below zero to 80 above.'\u001b[0m\u001b[1;34;47m,\u001b[0m\n",
       "\u001b[1;34;47m    \u001b[0m\u001b[32;47m'To re\\x02main liquid, hydrogen must be maintained at 423 \\ndegrees below zero.'\u001b[0m\u001b[1;34;47m,\u001b[0m\n",
       "\u001b[1;34;47m    \u001b[0m\u001b[32;47m'The power control relay box operates in con\\x02junction with the fuel cell powerplants \u001b[0m\n",
       "\u001b[32;47mto control \\nthe generation and distribution of electrical power.'\u001b[0m\u001b[1;34;47m,\u001b[0m\n",
       "\u001b[1;34;47m    \u001b[0m\u001b[32;47m'SECTOR 5 \\nThis is the other 70-degree sector; it contains \\npart of an environmental \u001b[0m\n",
       "\u001b[32;47mcontrol radiator and a \\nreaction control engine quad on the exterior panel, \\nand the fuel \u001b[0m\n",
       "\u001b[32;47msump tank within the sector.'\u001b[0m\u001b[1;34;47m,\u001b[0m\n",
       "\u001b[1;34;47m    \u001b[0m\u001b[32;47m'The fuel sump tank occupies almost all of the \\nspace with the sector.'\u001b[0m\u001b[1;34;47m,\u001b[0m\n",
       "\u001b[1;34;47m    \u001b[0m\u001b[32;47m'It is a cylindrical titanium \\ntank the sameÂ· size as the oxidizer sump tank: \\n153.8 \u001b[0m\n",
       "\u001b[32;47minches high \u001b[0m\u001b[32;47m(\u001b[0m\u001b[32;47m12 feet 9-% inches\u001b[0m\u001b[32;47m)\u001b[0m\u001b[32;47m and 51 inches \\nin diameter.'\u001b[0m\u001b[1;34;47m,\u001b[0m\n",
       "\u001b[1;34;47m    \u001b[0m\u001b[32;47m'It holds 8,708 pounds of propellant \\n\u001b[0m\u001b[32;47m(\u001b[0m\u001b[32;47ma 50-50 mixture of hydrazine and unsymmetrical \u001b[0m\n",
       "\u001b[32;47m\\ndimethylhydrazine\u001b[0m\u001b[32;47m)\u001b[0m\u001b[32;47m for the service propulsion \\nengine.'\u001b[0m\u001b[1;34;47m,\u001b[0m\n",
       "\u001b[1;34;47m    \u001b[0m\u001b[32;47m'It is the tank from which the fuel is fed to \\nthe engine; feed lines also connect it to\u001b[0m\n",
       "\u001b[32;47mthe fuel \\nstorage tank.'\u001b[0m\u001b[1;34;47m,\u001b[0m\n",
       "\u001b[1;34;47m    \u001b[0m\u001b[32;47m'SECTO R 6 \\nThe other 60-degree sector contains the rest \\nof the space radiator and a \u001b[0m\n",
       "\u001b[32;47mreaction control engine \\n57 \\nP-69 \\nTechnician finishes installation of cryogenic oxygen \u001b[0m\n",
       "\u001b[32;47mtank \\nquad on its exterior, and the fuel storage tank \\nwithin the sector.'\u001b[0m\u001b[1;34;47m,\u001b[0m\n",
       "\u001b[1;34;47m    \u001b[0m\u001b[32;47m'The fuel storage tank is the same size as the oxi\\x02dizer storage tank: 154.47 inches \u001b[0m\n",
       "\u001b[32;47mhigh \u001b[0m\u001b[32;47m(\u001b[0m\u001b[32;47mabout \\n12 feet 1 0-% inches\u001b[0m\u001b[32;47m)\u001b[0m\u001b[32;47m and 45 inches in diameter.'\u001b[0m\u001b[1;34;47m,\u001b[0m\n",
       "\u001b[1;34;47m    \u001b[0m\u001b[32;47m'It holds 7,058 pounds of fuel.'\u001b[0m\u001b[1;34;47m,\u001b[0m\n",
       "\u001b[1;34;47m    \u001b[0m\u001b[32;47m'Fuel is fed from it \\nto the fuel sump tank in Sector 5.'\u001b[0m\u001b[1;34;47m,\u001b[0m\n",
       "\u001b[1;34;47m    \u001b[0m\u001b[32;47m'The sump tanks and the storage tanks for fuel and \\noxidizer are the same size; the \u001b[0m\n",
       "\u001b[32;47mdifference in weight \\neach contains is that the oxidizer is more than 50-\\npercent heavier \u001b[0m\n",
       "\u001b[32;47mthan the fuel.'\u001b[0m\u001b[1;34;47m,\u001b[0m\n",
       "\u001b[1;34;47m    \u001b[0m\u001b[32;47m'CENTER SECTION \\nThe center section or tunnel contains two helium \\ntanks and the \u001b[0m\n",
       "\u001b[32;47mservice propulsion engine.'\u001b[0m\u001b[1;34;47m,\u001b[0m\n",
       "\u001b[1;34;47m    \u001b[0m\u001b[32;47m'The helium tanks are spherical vessels about 40 \\ninches in diameter located one on top \u001b[0m\n",
       "\u001b[32;47mof the other \\nin the upper half of the center section.'\u001b[0m\u001b[1;34;47m,\u001b[0m\n",
       "\u001b[1;34;47m    \u001b[0m\u001b[32;47m'Each con\\x02tains 19.6 cubic feet of helium gas under a pressure \\nof 3600 psi.'\u001b[0m\u001b[1;34;47m,\u001b[0m\n",
       "\u001b[1;34;47m    \u001b[0m\u001b[32;47m'This gas is used to pressurize the oxi\\x0258 \\ndizer and fuel tanks of the service \u001b[0m\n",
       "\u001b[32;47mpropulsion sub\\x02system.'\u001b[0m\u001b[1;34;47m,\u001b[0m\n",
       "\u001b[1;34;47m    \u001b[0m\u001b[32;47m'The pressure forces the propellant from one \\ntank to another and through the feed lines\u001b[0m\n",
       "\u001b[32;47mto the \\nengine.'\u001b[0m\u001b[1;34;47m,\u001b[0m\n",
       "\u001b[1;34;47m    \u001b[0m\u001b[32;47m'The service propulsion engine is located in the \\nlower half of the center section, with\u001b[0m\n",
       "\u001b[32;47mits nozzle \\nextension skirt protruding more than 9 feet below \\nthe aft bulkhead of the \u001b[0m\n",
       "\u001b[32;47mmodule.'\u001b[0m\u001b[1;34;47m,\u001b[0m\n",
       "\u001b[1;34;47m    \u001b[0m\u001b[32;47m'The length of the \\nengine including the skirt is 152.82 inches \u001b[0m\u001b[32;47m(\u001b[0m\u001b[32;47mabout \\n12 feet 8 \u001b[0m\n",
       "\u001b[32;47minches\u001b[0m\u001b[32;47m)\u001b[0m\u001b[32;47m and its weight is 650 pounds.'\u001b[0m\u001b[1;34;47m,\u001b[0m\n",
       "\u001b[1;34;47m    \u001b[0m\u001b[32;47m'This \\nengine is used as a retrorocket to brake the space\\x02craft and put it into orbit\u001b[0m\n",
       "\u001b[32;47maround the moon, to \\nsupply the thrust for the return to earth from the \\nmoon, and for \u001b[0m\n",
       "\u001b[32;47mcourse corrections on the trips to \\nand from the moon.'\u001b[0m\u001b[1;34;47m,\u001b[0m\n",
       "\u001b[1;34;47m    \u001b[0m\u001b[32;47m'EXTERIOR \\nLocated on the exterior of the service module \\nare space radiators for both \u001b[0m\n",
       "\u001b[32;47mthe environmental \\ncontrol and electrical power subsystems, reaction \\ncontrol subsystem \u001b[0m\n",
       "\u001b[32;47mengines, three antennas, um\\x02bilical connections, and several lights.'\u001b[0m\u001b[1;34;47m,\u001b[0m\n",
       "\u001b[1;34;47m    \u001b[0m\u001b[32;47m'The environmental control subsystem space radi\\x02ators are the larger ones and are \u001b[0m\n",
       "\u001b[32;47mlocated on the \\nlower half of the service module on opposite sides.'\u001b[0m\u001b[1;34;47m,\u001b[0m\n",
       "\u001b[1;34;47m    \u001b[0m\u001b[32;47m'One is part of the panel covers for Sectors 2 and 3 \\nand the other is part of the panel\u001b[0m\n",
       "\u001b[32;47mcovers for \\nSectors 5 and 6.'\u001b[0m\u001b[1;34;47m,\u001b[0m\n",
       "\u001b[1;34;47m    \u001b[0m\u001b[32;47m'The radiators, each about 30 square \\nfeet, consist of five parallel primary tubes and \u001b[0m\n",
       "\u001b[32;47mfour \\nsecondary tubes mounted horizontally and one \\nseries tube mounted vertically.'\u001b[0m\u001b[1;34;47m,\u001b[0m\n",
       "\u001b[1;34;47m    \u001b[0m\u001b[32;47m'The water-glycol \\ncoolant flows through these tubes to radiate to the \\ncold of space \u001b[0m\n",
       "\u001b[32;47mthe heat it has absorbed from the \\ncommand module cabin and from operating elec\\x02tronic \u001b[0m\n",
       "\u001b[32;47mequipment.'\u001b[0m\u001b[1;34;47m,\u001b[0m\n",
       "\u001b[1;34;47m    \u001b[0m\u001b[32;47m'The electrical power subsystem space radiators \\nare located on the fairing at the top \u001b[0m\n",
       "\u001b[32;47mof the service \\nmodule.'\u001b[0m\u001b[1;34;47m,\u001b[0m\n",
       "\u001b[1;34;47m    \u001b[0m\u001b[32;47m'Each of the eight radiator panels \u001b[0m\u001b[32;47m(\u001b[0m\u001b[32;47mwhich \\nare alternated with eight aluminum honeycomb \u001b[0m\n",
       "\u001b[32;47m\\npanels\u001b[0m\u001b[32;47m)\u001b[0m\u001b[32;47m contains three tubes which are used to \\nradiate to space excess heat produced by \u001b[0m\n",
       "\u001b[32;47mthe fuel \\ncell powerplants.'\u001b[0m\u001b[1;34;47m,\u001b[0m\n",
       "\u001b[1;34;47m    \u001b[0m\u001b[32;47m'A separate radiation loop is used \\nfor each powerplant; that is, one of the tubes on \u001b[0m\n",
       "\u001b[32;47m\\neach panel is connected to a specific powerplant.'\u001b[0m\u001b[1;34;47m,\u001b[0m\n",
       "\u001b[1;34;47m    \u001b[0m\u001b[32;47m'The reaction control subsystem engines are located \\nin four clusters of 90 degrees \u001b[0m\n",
       "\u001b[32;47mapart around the \\nupper portion of service module.'\u001b[0m\u001b[1;34;47m,\u001b[0m\n",
       "\u001b[1;34;47m    \u001b[0m\u001b[32;47m'The clusters or \\nquads are arranged in such a manner that the engines \\nare on the \u001b[0m\n",
       "\u001b[32;47moutside of the panels and all the other \\nP-70 \\nTechnician prepares service propulsion \u001b[0m\n",
       "\u001b[32;47mengine for installation in service module \\ncomponents are on the inside.'\u001b[0m\u001b[1;34;47m,\u001b[0m\n",
       "\u001b[1;34;47m    \u001b[0m\u001b[32;47m'The engines are \\nmounted with two pointed up and down and two \\npointed to the sides in\u001b[0m\n",
       "\u001b[32;47mopposite directions.'\u001b[0m\u001b[1;34;47m,\u001b[0m\n",
       "\u001b[1;34;47m    \u001b[0m\u001b[32;47m'Com\\x02ponents of the quad panels on the inside of the \\nsectors include two oxidizer \u001b[0m\n",
       "\u001b[32;47mand two fuel tanks, a \\nhelium tank, and associated valves, regulators, and \\nplumbing.'\u001b[0m\u001b[1;34;47m,\u001b[0m\n",
       "\u001b[1;34;47m    \u001b[0m\u001b[32;47m'Each quad package is eight feet long and \\nnearly three feet wide.'\u001b[0m\u001b[1;34;47m,\u001b[0m\n",
       "\u001b[1;34;47m    \u001b[0m\u001b[32;47m'The four antennas on the outside of the service \\nmodule are the S-band high-gain \u001b[0m\n",
       "\u001b[32;47mantenna, mounted \\non the aft bulkhead; two VHF omni-directional \\nantennas, mounted on \u001b[0m\n",
       "\u001b[32;47mopposite sides of the module \\nnear the top; and the rendezvous radar transponder \\nantenna, \u001b[0m\n",
       "\u001b[32;47mmounted in the SM fairing.'\u001b[0m\u001b[1;34;47m,\u001b[0m\n",
       "\u001b[1;34;47m    \u001b[0m\u001b[32;47m'The S-band \\nhigh-gain antenna, used for deep space communi\\x02cations, is composed of \u001b[0m\n",
       "\u001b[32;47mfour 31-inch diameter \\nreflectors surrounding an 11-inch square reflector.'\u001b[0m\u001b[1;34;47m,\u001b[0m\n",
       "\u001b[1;34;47m    \u001b[0m\u001b[32;47m'At launch it is folded down parallel to the service \\npropulsion engine nozzle so that \u001b[0m\n",
       "\u001b[32;47mit fits within the \\nspacecraft- LM adapter.'\u001b[0m\u001b[1;34;47m,\u001b[0m\n",
       "\u001b[1;34;47m    \u001b[0m\u001b[32;47m'After the CSM separates \\nfrom the adapter the antenna is deployed at a \\nright angle to\u001b[0m\n",
       "\u001b[32;47mthe service module.'\u001b[0m\u001b[1;34;47m,\u001b[0m\n",
       "\u001b[1;34;47m    \u001b[0m\u001b[32;47m'The omni\\x02directional antennas, called scimitars because of \\ntheir shape, are made of\u001b[0m\n",
       "\u001b[32;47mstainless steel and are \\napproximately 13-% inches long and only a hun\\x02dredth of an inch \u001b[0m\n",
       "\u001b[32;47mthick.'\u001b[0m\u001b[1;34;47m,\u001b[0m\n",
       "\u001b[1;34;47m    \u001b[0m\u001b[32;47m'59 \\nP-71 CM-SM umbilical assembly \\nThe umbilicals consist of the main plumbing and \u001b[0m\n",
       "\u001b[32;47m\\nwiring connections between the command module \\nand service module, which are enclosed in a\u001b[0m\n",
       "\u001b[32;47mfairing \\n\u001b[0m\u001b[32;47m(\u001b[0m\u001b[32;47maluminum covering\u001b[0m\u001b[32;47m)\u001b[0m\u001b[32;47m, and a \"flyaway\" umbilical \\nwhich is connected to the launch \u001b[0m\n",
       "\u001b[32;47mtower.'\u001b[0m\u001b[1;34;47m,\u001b[0m\n",
       "\u001b[1;34;47m    \u001b[0m\u001b[32;47m\"The latter \\nsï¿½pplies oxygen and nitrogen for cabin pressuriza\\x02tion\\n.'\"\u001b[0m\u001b[1;34;47m,\u001b[0m\n",
       "\u001b[1;34;47m    \u001b[0m\u001b[32;47m'water-glycol, electrical power from ground \\nequ1pment, and purge gas.'\u001b[0m\u001b[1;34;47m,\u001b[0m\n",
       "\u001b[1;34;47m    \u001b[0m\u001b[32;47m'Seven lights are mounted in the aluminum panels \\nof the fairing.'\u001b[0m\u001b[1;34;47m,\u001b[0m\n",
       "\u001b[1;34;47m    \u001b[0m\u001b[32;47m\"Four \u001b[0m\u001b[32;47m(\u001b[0m\u001b[32;47mone red, one green, and two \\namber\u001b[0m\u001b[32;47m)\u001b[0m\u001b[32;47m are used to aid the astronauts in docking, \u001b[0m\n",
       "\u001b[32;47m\\none is a floodlight which can be turned on to give \\nastronauts visibility during \u001b[0m\n",
       "\u001b[32;47mextravehicular activities \\none is a flashing beacon used to aid in rendezvous' \\nand one is \u001b[0m\n",
       "\u001b[32;47ma spotlight used in rendezvous from 500 \\nfeet to docking with the lunar module.\"\u001b[0m\u001b[1;34;47m,\u001b[0m\n",
       "\u001b[1;34;47m    \u001b[0m\u001b[32;47m'SM-CM SEPARATION \\nSeparation of the SM from the CM occurs shortly \\nbefore entry.'\u001b[0m\u001b[1;34;47m,\u001b[0m\n",
       "\u001b[1;34;47m    \u001b[0m\u001b[32;47m'The sequence of events during separa\\x02tion is controlled automatically by two \u001b[0m\n",
       "\u001b[32;47mredundant \\nservice module jettison controllers, located on the \\nforward bulkhead of the \u001b[0m\n",
       "\u001b[32;47mSM.'\u001b[0m\u001b[1;34;47m,\u001b[0m\n",
       "\u001b[1;34;47m    \u001b[0m\u001b[32;47m'A number of events must occur in rapid sequence \\nor at the same time for proper \u001b[0m\n",
       "\u001b[32;47mseparation.'\u001b[0m\u001b[1;34;47m,\u001b[0m\n",
       "\u001b[1;34;47m    \u001b[0m\u001b[32;47m\"These \\ninclude physical separation of all the connections \\nbetween the modules, \u001b[0m\n",
       "\u001b[32;47mtransfer of electrical con\\x02trol, and firing of the service module's reaction \\ncontrol \u001b[0m\n",
       "\u001b[32;47mengines to increase the distance between \\nthe modules.\"\u001b[0m\u001b[1;34;47m,\u001b[0m\n",
       "\u001b[1;34;47m    \u001b[0m\u001b[32;47m'Before separation, the crewmen in the CM transfer \\n60 \\nelectrical control to the CM \u001b[0m\n",
       "\u001b[32;47mreaction control sub\\x02system \u001b[0m\u001b[32;47m(\u001b[0m\u001b[32;47mthe SM reaction control subsystem is used \\nfor attitude \u001b[0m\n",
       "\u001b[32;47mmaneuvers throughout the mission up \\nto entry\u001b[0m\u001b[32;47m)\u001b[0m\u001b[32;47m so that they can pressurize it and check it \u001b[0m\n",
       "\u001b[32;47m\\nout for the entry maneuvers.'\u001b[0m\u001b[1;34;47m,\u001b[0m\n",
       "\u001b[1;34;47m    \u001b[0m\u001b[32;47m'Electrical control is then transferred back to the \\nSM subsystem.'\u001b[0m\u001b[1;34;47m,\u001b[0m\n",
       "\u001b[1;34;47m    \u001b[0m\u001b[32;47m'Separation is started manually, by \\nactivation of either of two redundant switches on \u001b[0m\n",
       "\u001b[32;47m\\nthe main display console.'\u001b[0m\u001b[1;34;47m,\u001b[0m\n",
       "\u001b[1;34;47m    \u001b[0m\u001b[32;47m'These switches send sig\\x02nals to the SM jettison controllers.'\u001b[0m\u001b[1;34;47m,\u001b[0m\n",
       "\u001b[1;34;47m    \u001b[0m\u001b[32;47m'The controllers \\nfirst send a signal to fire ordnance devices which \\nactivatï¿½ the \u001b[0m\n",
       "\u001b[32;47mCM-SM electrical circuit interrupters; \\nthese mterrupters deadface \u001b[0m\u001b[32;47m(\u001b[0m\u001b[32;47mcut off all power to\u001b[0m\u001b[32;47m)\u001b[0m\u001b[32;47m \u001b[0m\n",
       "\u001b[32;47m\\nthe electrical wires in the CM-SM umbilical.'\u001b[0m\u001b[1;34;47m,\u001b[0m\n",
       "\u001b[1;34;47m    \u001b[0m\u001b[32;47m'A tenth of a second after the wires are deadfaced \\nthe controllers send signals which \u001b[0m\n",
       "\u001b[32;47mfire ordnancï¿½ \\ndevices to sever the physical connections between \\nthe modules.'\u001b[0m\u001b[1;34;47m,\u001b[0m\n",
       "\u001b[1;34;47m    \u001b[0m\u001b[32;47m'These connections are three tension \\ntieï¿½ and the umbilical.'\u001b[0m\u001b[1;34;47m,\u001b[0m\n",
       "\u001b[1;34;47m    \u001b[0m\u001b[32;47m'The tension ties are straps \\nwh1ch hold the CM on three of the compression \\npads on \u001b[0m\n",
       "\u001b[32;47mthe SM.'\u001b[0m\u001b[1;34;47m,\u001b[0m\n",
       "\u001b[1;34;47m    \u001b[0m\u001b[32;47m'Linear-shaped charges in each \\ntension-tie assembly sever the tension ties to separate \u001b[0m\n",
       "\u001b[32;47m\\nthe modules.'\u001b[0m\u001b[1;34;47m,\u001b[0m\n",
       "\u001b[1;34;47m    \u001b[0m\u001b[32;47m'At the same time, explosive charges \\ndrive guillotines through the wiring and tubing in\u001b[0m\n",
       "\u001b[32;47mthe \\numbilical.'\u001b[0m\u001b[1;34;47m,\u001b[0m\n",
       "\u001b[1;34;47m    \u001b[0m\u001b[32;47m'Simultaneously with the firing of the ordnance \\ndevices, the controllers send signals \u001b[0m\n",
       "\u001b[32;47mwhich fire the \\nSM reaction control engines.'\u001b[0m\u001b[1;34;47m,\u001b[0m\n",
       "\u001b[1;34;47m    \u001b[0m\u001b[32;47m\"Roll engines are fired \\nfor 5 seconds to alter the SM's course from that of \\nthe CM, \u001b[0m\n",
       "\u001b[32;47mand the translation \u001b[0m\u001b[32;47m(\u001b[0m\u001b[32;47mthrust\u001b[0m\u001b[32;47m)\u001b[0m\u001b[32;47m engines are \\nfired continuously until the propellant is \u001b[0m\n",
       "\u001b[32;47mdepleted \\nor fuel cell power is expended.\"\u001b[0m\u001b[1;34;47m,\u001b[0m\n",
       "\u001b[1;34;47m    \u001b[0m\u001b[32;47m'These maneuvers \\ncarry the SM well away from the entry path of \\nthe CM.'\u001b[0m\u001b[1;34;47m,\u001b[0m\n",
       "\u001b[1;34;47m    \u001b[0m\u001b[32;47m\"The service module will enter the earth's atmos\\x02phere after separation and burn up.\"\u001b[0m\u001b[1;34;47m,\u001b[0m\n",
       "\u001b[1;34;47m    \u001b[0m\u001b[32;47m\"f\u001b[0m\u001b[32;47m)\u001b[0m\u001b[32;47m SM REACTION CONTROL \\nENGINES \u001b[0m\u001b[32;47m(\u001b[0m\u001b[32;47m-X\u001b[0m\u001b[32;47m)\u001b[0m\u001b[32;47m FIRE FOR \\n5.5 SECONDS\\x02CD AFTER 2 SECONDS \u001b[0m\n",
       "\u001b[32;47m\\nI'I.JG ROLL ENGINES FIRE \\nHrrR :-:----\\n.._ .._ .ï¿½:!...E !!.\"\u001b[0m\u001b[1;34;47m,\u001b[0m\n",
       "\u001b[1;34;47m    \u001b[0m\u001b[32;47m\"!.o R y \\nLOCAL H -- DRiz\u001b[0m\u001b[32;47m(\u001b[0m\u001b[32;47mm'fAL .\"\u001b[0m\u001b[1;34;47m,\u001b[0m\n",
       "\u001b[1;34;47m    \u001b[0m\u001b[32;47m\"45' ,f.: ï¿½ ' ï¿½ï¿½-Â·-\\nSEPARATION \\nATIITUDE 8 \\nSEPARATION \\nATIITUDE A \\nP-72 \u001b[0m\n",
       "\u001b[32;47mAttitude of SM and CM during separation\"\u001b[0m\n",
       "\u001b[1;34;47m]\u001b[0m\n"
      ]
     },
     "metadata": {},
     "output_type": "display_data"
    }
   ],
   "source": [
    "sentences=sent_tokenize(text)\n",
    "console.print(f'Number of sentences:{len(sentences)}')\n",
    "\n",
    "console.print(sentences,style=\"bold blue on white\")"
   ]
  },
  {
   "cell_type": "markdown",
   "metadata": {},
   "source": [
    "### Word tokenizing"
   ]
  },
  {
   "cell_type": "code",
   "execution_count": 9,
   "metadata": {},
   "outputs": [
    {
     "data": {
      "text/html": [
       "<pre style=\"white-space:pre;overflow-x:auto;line-height:normal;font-family:Menlo,'DejaVu Sans Mono',consolas,'Courier New',monospace\">Number of words: <span style=\"color: #008080; text-decoration-color: #008080; font-weight: bold\">3027</span>\n",
       "</pre>\n"
      ],
      "text/plain": [
       "Number of words: \u001b[1;36m3027\u001b[0m\n"
      ]
     },
     "metadata": {},
     "output_type": "display_data"
    },
    {
     "name": "stdout",
     "output_type": "stream",
     "text": [
      "['OXYGEN', 'TANKS', ',', 'HYDROGEN', 'TANKS', ',', 'FUEL', 'CELLS', 'SERVICE', 'PROPULSION', 'SUBSYSTEM', 'SECTOR', '6', 'FUEL', 'TANKS', 'CENTER', 'SECTIONÂ·', 'SERVICE', 'PROPULSION', 'ENGINE', 'ANO', 'HELIUM', 'TANKS', 'Function', 'The', 'service', 'module', 'contains', 'the', 'main', 'spacecraft', 'propulsion', 'system', 'and', 'supplies', 'most', 'of', 'the', 'space\\x02craft', \"'s\", 'consumables', '(', 'oxygen', ',', 'water', ',', 'propellant', ',', 'hydrogen', ')', '.', 'It', 'is', 'not', 'manned', '.', 'The', 'service', 'module', 'remains', 'attached', 'to', 'the', 'command', 'module', 'until', 'just', 'before', 'entry', ',', 'when', 'it', 'is', 'jettisoned', 'and', 'is', 'destroyed', 'during', 'entry', '.', 'Major', 'Subsystems', 'Electrical', 'power', 'Environmental', 'control', 'Reaction', 'control', 'Service', 'propulsion', 'Telecommunications', 'Service', 'module', 'mated', 'to', 'command', 'module', 'at', 'Kennedy', 'Space', 'Center', ')', '.-', '\\\\lt', '--', \"'\", ':', '.', 'The', 'service', 'module', 'is', 'a', 'cylindrical', 'structure', 'which', 'serves', 'as', 'a', 'storehouse', 'of', 'critical', 'subsystems', 'and', 'supplies', 'for', 'almost', 'the', 'entire', 'lunar', 'mission', '.', 'It', 'is', 'attached', 'to', 'the', 'command', 'module', 'from', 'launch', 'until', 'just', 'before', 'earth', 'atmosphere', 'entry', '.', 'The', 'service', 'module', 'contains', 'the', 'spacecraft', \"'s\", 'main', 'propulsion', 'engine', ',', 'which', 'is', 'used', 'to', 'brake', 'the', 'space\\x02craft', 'and', 'put', 'it', 'into', 'orbit', 'around', 'the', 'moon', 'and', 'to', 'send', 'it', 'on', 'the', 'homeward', 'journey', 'from', 'the', 'moon', '.', 'The', 'engine', 'also', 'is', 'used', 'to', 'correct', 'the', 'spacecraft', \"'s\", 'course', 'on', 'both', 'the', 'trips', 'to', 'and', 'from', 'the', 'moon', '.', 'Besides', 'the', 'service', 'propulsion', 'engine', 'and', 'its', 'pro\\x02pellant', 'and', 'helium', 'tanks', ',', 'the', 'service', 'module', 'con\\x02tains', 'a', 'major', 'portion', 'of', 'the', 'electrical', 'power', ',', 'environmental', 'control', ',', 'and', 'reaction', 'control', 'sub\\x02systems', ',', 'and', 'a', 'small', 'portion', 'of', 'the', 'communica\\x02tions', 'subsystem', '.', 'It', 'is', 'strictly', 'a', 'servicing', 'unit', 'of', 'the', 'spacecraft', ',', 'but', 'it', 'is', 'more', 'than', 'twice', 'as', 'long', 'and', 'more', 'than', 'four', 'times', 'as', 'heavy', 'as', 'the', 'manned', 'command', 'module', '.', 'About', '75', 'percent', 'of', 'the', 'service', 'module', \"'s\", 'weight', 'is', 'in', 'propellant', 'for', 'the', 'service', 'propulsion', 'engine', '.', 'STRUCTURE', 'The', 'service', 'module', 'is', 'a', 'relatively', 'simple', 'structure', 'consisting', 'of', 'a', 'center', 'section', 'or', 'tunnel', 'surrounded', 'by', 'six', 'pie-shaped', 'sectors', '.', 'The', 'basic', 'structural', 'components', 'are', 'forward', 'and', 'aft', '(', 'upper', 'and', 'lower', ')', 'bulkheads', ',', 'six', 'radial', 'beams', ',', 'four', 'sector', 'honeycomb', 'panels', ',', 'four', 'reaction', 'con\\x02trol', 'system', 'honeycomb', 'panels', ',', 'an', 'aft', 'heat', 'shield', ',', 'and', 'a', 'fairing', '.', 'The', 'radial', 'beams', 'are', 'made', 'of', 'solid', 'aluminum', 'alloy', 'which', 'has', 'been', 'machined', 'and', 'chem-milled', '(', 'metal', 'removed', 'by', 'chemical', 'action', ')', 'to', 'thicknesses', 'varying', 'between', '2', 'inches', 'and', '0.018', 'inch', ',', 'thus', 'mak\\x02ing', 'a', 'lightweight', ',', 'efficient', 'structure', '.', 'The', 'forward', 'and', 'aft', 'bulkheads', 'cover', 'the', 'top', 'and', 'bottom', 'of', 'the', 'module', '.', 'Radial', 'beam', 'trusses', 'ex\\x02tending', 'above', 'the', 'forward', 'bulkhead', 'support', 'and', 'secure', 'the', 'command', 'module', '.', 'Three', 'of', 'these', 'beams', 'have', 'compression', 'pads', 'and', 'the', 'other', 'three', 'have', 'shear-compression', 'pads', 'and', 'tension', 'ties', '.', 'Explosive', 'charges', 'in', 'the', 'center', 'sections', 'of', 'these', 'tension', 'ties', 'are', 'used', 'to', 'separate', 'the', 'two', 'modules', '.', 'An', 'aft', 'heat', 'shield', 'surrounds', 'the', 'service', 'propulsion', 'W', 'HELIUMTANKS', 'FUEL', 'TANKS', 'FORWARO', 'BULKHEAD', 'INSTALL', 'SERVICE', 'PROPULSION', 'ENGINE', 'P-66', 'Main', 'components', 'o', '[', 'SM', 'OXIOIZER', 'TANKS', 'REACTION', 'CONTROL', 'SUBSYSTEM', 'OUAOS', '(', '4', ')', 'AFT', 'BULKHEAD', 'engine', 'to', 'protect', 'the', 'service', 'module', 'from', 'the', 'engine', \"'s\", 'heat', 'during', 'thrusting', '.', 'The', 'gap', 'between', 'the', 'command', 'module', 'and', 'the', 'forward', 'bulkhead', 'of', 'the', 'service', 'module', 'is', 'closed', 'off', 'with', 'a', 'fairing', 'which', 'is', \"'\", 'Y', ':', '!', '-inch', 'thick', 'and', '22', 'inches', 'high', '.', 'The', 'fairing', 'is', 'com\\x02posed', 'of', '16', 'pieces', ';', 'eight', 'electrical', 'power', 'subsystem', 'radiators', 'alternated', 'with', 'eight', 'aluminum', 'honey\\x02comb', 'panels', '.', 'The', 'center', 'section', 'is', 'circular', 'and', 'is', '44', 'inches', 'in', 'diameter', '.', 'Maintenance', 'doors', 'around', 'the', 'exterior', 'of', 'the', 'module', 'provide', 'access', 'to', 'equipment', 'within', 'each', 'sector', '.', 'These', 'doors', 'are', 'designed', 'for', 'installation', 'and', 'checkout', 'operations', 'and', 'are', 'not', 'used', 'during', 'space', 'operations', '..', 'The', 'sector', 'and', 'reaction', 'control', 'system', 'panels', 'are', '1-inch', 'thick', 'and', 'are', 'made', 'of', 'aluminum', 'honeycomb', 'core', 'between', 'two', 'aluminum', 'face', 'sheets', '.', 'The', 'sector', 'panels', 'are', 'bolted', 'to', 'the', 'radial', 'beams', '.', 'Radiators', 'used', 'to', 'dissipate', 'heat', 'from', 'the', 'environmental', 'control', 'subsystem', 'are', 'bonded', 'to', 'the', 'sector', 'panels', 'on', 'oppo\\x02site', 'sides', 'of', 'the', 'module', '.', 'These', 'radiators', 'are', 'each', 'about', '30', 'square', 'feet', 'in', 'area', '.', '55', 'P-67', 'Technicians', 'work', 'on', 'wiring', 'and', 'plumbing', 'on', '``', 'top', 'deck', \"''\", 'of', 'service', 'module', 'SECTORS', 'The', 'service', 'module', \"'s\", 'six', 'sectors', 'are', 'of', 'three', 'sizes', ',', 'with', 'two', 'sectors', 'each', 'of', 'the', 'same', 'size', '.', 'The', '360', 'degrees', 'around', 'the', 'center', 'section', 'is', 'divided', 'among', 'two', '50-degree', '(', 'Sectors', '1', 'and', '4', ')', ',', 'two', '60-degree', '(', 'Sectors', '3', 'and', '6', ')', ',', 'and', 'two', '70-degree', '(', 'Sectors', '2', 'and', '5', ')', 'compartments', '.', 'SECTOR', '1', 'It', 'is', 'not', 'currently', 'planned', 'to', 'install', 'any', 'equipment', 'in', 'this', 'sector', '.', 'The', 'space', 'is', 'thus', 'available', 'if', 'any', 'additional', 'equipment', 'needs', 'to', 'be', 'added', 'to', 'the', 'spacecraft', 'for', 'the', 'lunar', 'mission', 'or', 'if', 'equipment', 'is', 'added', 'for', 'scientific', 'experiments', '.', 'Ballast', 'may', 'be', 'stowed', 'in', 'the', 'sector', 'to', 'maintain', 'the', 'service', 'module', \"'s\", 'center', 'of', 'gravity', 'if', 'no', 'equipment', 'is', 'added', '.', '56', 'SECTOR', '2', 'One', 'of', 'the', 'two', '70-degree', 'sectors', ',', 'contains', 'part', 'of', 'a', 'space', 'radiator', 'and', 'a', 'reaction', 'control', 'subsystem', 'engine', 'quad', 'on', 'its', 'exterior', 'panel', ',', 'and', 'the', 'oxidizer', 'sump', 'tank', ',', 'its', 'plumbing', ',', 'and', 'the', 'reaction', 'control', 'engine', 'tanks', 'and', 'plumbing', 'within', 'the', 'sector', '.', 'The', 'oxidizer', 'sump', 'tank', 'is', 'the', 'larger', 'of', 'the', 'two', 'tanks', 'that', 'hold', 'the', 'oxidizer', '(', 'nitrogen', 'tetroxide', ')', 'for', 'the', 'service', 'propulsion', 'engine', '.', 'A', 'cylindrical', 'tank', 'made', 'of', 'titanium', ',', 'it', 'is', '153.8', 'inches', 'high', '(', 'about', '12', 'feet', '9-', '%', 'inches', ')', 'and', 'has', 'a', 'diameter', 'of', '51', 'inches', '(', '4', 'feet', '3', 'inches', ')', '.', 'It', 'holds', '13,923', 'pounds', 'of', 'oxidizer', '.', 'It', 'is', 'the', 'tank', 'from', 'which', 'oxidizer', 'is', 'fed', 'to', 'the', 'engine', '.', 'Feed', 'lines', 'connect', 'the', 'sump', 'tank', 'to', 'the', 'service', 'propulsion', 'engine', 'and', 'to', 'the', 'oxidizer', 'storage', 'tank', '.', 'SECTOR', '3', 'Sector', '3', 'is', 'one', 'of', 'the', '60-degree', 'sectors', ',', 'and', 'con\\x02tains', 'the', 'rest', 'of', 'the', 'space', 'radiator', 'and', 'a', 'reaction', 'control', 'engine', 'quad', 'on', 'its', 'exterior', 'panel', ',', 'and', 'the', 'oxidizer', 'storage', 'tank', 'and', 'its', 'plumbing', 'within', 'the', 'sector', '.', 'The', 'oxidizer', 'storage', 'tank', 'is', 'similar', 'to', 'the', 'sump', 'tank', 'but', 'not', 'quite', 'as', 'large', '.', 'It', 'is', '154.47', 'inches', 'high', '(', 'about', '12', 'feet', '10-', '%', 'inches', ')', 'and', 'has', 'a', 'diameter', 'of', '45', 'inches', '.', 'It', 'holds', '1', '1,284', 'pounds', 'of', 'oxidizer', '.', 'Oxidizer', 'is', 'fed', 'from', 'it', 'to', 'the', 'oxidizer', 'sump', 'tank', 'in', 'Sector', '2', '.', 'SECTO', 'R', '4', 'Sector', '4', 'is', 'one', 'of', 'the', '50-degree', 'sectors', 'and', 'con\\x02tains', 'most', 'of', 'the', 'electrical', 'power', 'subsystem', 'equip\\x02ment', 'in', 'the', 'service', 'module', ',', 'including', 'three', 'fuel', 'cell', 'powerplants', ',', 'two', 'cryogenic', 'oxygen', 'and', 'two', 'cryogenic', 'hydrogen', 'tanks', ',', 'and', 'a', 'power', 'control', 'relay', 'box', '.', 'A', 'helium', 'servicing', 'panel', 'also', 'is', 'located', 'in', 'this', 'sector', '.', 'The', 'three', 'fuel', 'cell', 'powerplants', 'are', 'mounted', 'on', 'a', 'shelf', 'in', 'the', 'upper', 'third', 'of', 'the', 'sector', '.', 'Each', 'power\\x02plant', 'is', '44', 'inches', 'high', ',', '22', 'inches', 'in', 'diameter', ',', 'and', 'weighs', 'about', '245', 'pounds', '.', 'They', 'supply', 'most', 'of', 'the', 'electrical', 'power', 'for', 'the', 'spacecraft', 'as', 'well', 'as', 'some', 'of', 'the', 'drinking', 'water', '.', 'The', 'cryogenic', '(', 'ultra', 'low', 'temperature', ')', 'tanks', 'supply', 'oxygen', 'to', 'the', 'environmental', 'control', 'subsystem', 'and', 'oxygen', 'and', 'hydrogen', 'to', 'the', 'fuel', 'cell', 'powerplants', '.', 'The', 'tanks', 'are', 'spheres', ',', 'with', 'the', 'oxygen', 'tanks', 'mounted', 'side', 'by', 'side', 'in', 'the', 'center', 'of', 'the', 'sector', 'and', 'the', 'hydrogen', 'tanks', 'mounted', 'below', 'them', 'one', 'on', 'top', 'of', 'the', 'other', '.', 'The', 'oxygen', 'tanks', 'are', 'made', 'of', 'lnconel', '(', 'a', 'nickel\\x02steel', 'alloy', ')', 'and', 'are', 'a', 'little', 'over', '26', 'inches', 'in', 'diam\\x02eter', '.', 'Each', 'holds', '326', 'pounds', 'of', 'oxygen', 'in', 'a', 'semi\\x02liquid', ',', 'semi-gas', 'state', '.', 'Operating', 'temperature', 'of', 'the', 'tanks', 'ranges', 'from', '300', 'degrees', 'below', 'zero', 'to', '80', 'above', '.', 'Oxygen', 'must', 'be', 'maintained', 'at', '297', 'degrees', 'below', 'zero', 'to', 'remain', 'liquid', '.', 'The', 'hydrogen', 'tanks', 'are', 'made', 'of', 'titanium', 'and', 'are', 'about', '31-', '%', 'inches', 'in', 'diameter', '.', 'Each', 'holds', 'a', 'little', 'over', '29', 'pounds', 'of', 'hydrogen', '.', '(', 'Hydrogen', 'is', 'much', 'lighter', 'than', 'oxygen', ',', 'so', 'that', 'in', 'vessels', 'of', 'the', 'same', 'volume', 'the', 'weight', 'of', 'the', 'oxygen', 'would', 'be', 'far', 'greater', '.', ')', 'The', 'hydrogen', 'also', 'is', 'in', 'a', 'semi-gas', ',', 'semi\\x02SECTOR', '3', '(', 'Gin', 'OXIDIZER', 'STORAGE', 'SM', 'TO', 'CM', 'FAIRING', 'SECTOR', '4', '(', '50', ',', 'EUUIP', 'AFT', 'BULKHEAD', 'P-68', 'SM', 'general', 'arrangement', 'liquid', 'stage', ',', 'and', 'its', 'operating', 'temperature', 'ranges', 'from', '425', 'degrees', 'below', 'zero', 'to', '80', 'above', '.', 'To', 're\\x02main', 'liquid', ',', 'hydrogen', 'must', 'be', 'maintained', 'at', '423', 'degrees', 'below', 'zero', '.', 'The', 'power', 'control', 'relay', 'box', 'operates', 'in', 'con\\x02junction', 'with', 'the', 'fuel', 'cell', 'powerplants', 'to', 'control', 'the', 'generation', 'and', 'distribution', 'of', 'electrical', 'power', '.', 'SECTOR', '5', 'This', 'is', 'the', 'other', '70-degree', 'sector', ';', 'it', 'contains', 'part', 'of', 'an', 'environmental', 'control', 'radiator', 'and', 'a', 'reaction', 'control', 'engine', 'quad', 'on', 'the', 'exterior', 'panel', ',', 'and', 'the', 'fuel', 'sump', 'tank', 'within', 'the', 'sector', '.', 'The', 'fuel', 'sump', 'tank', 'occupies', 'almost', 'all', 'of', 'the', 'space', 'with', 'the', 'sector', '.', 'It', 'is', 'a', 'cylindrical', 'titanium', 'tank', 'the', 'sameÂ·', 'size', 'as', 'the', 'oxidizer', 'sump', 'tank', ':', '153.8', 'inches', 'high', '(', '12', 'feet', '9-', '%', 'inches', ')', 'and', '51', 'inches', 'in', 'diameter', '.', 'It', 'holds', '8,708', 'pounds', 'of', 'propellant', '(', 'a', '50-50', 'mixture', 'of', 'hydrazine', 'and', 'unsymmetrical', 'dimethylhydrazine', ')', 'for', 'the', 'service', 'propulsion', 'engine', '.', 'It', 'is', 'the', 'tank', 'from', 'which', 'the', 'fuel', 'is', 'fed', 'to', 'the', 'engine', ';', 'feed', 'lines', 'also', 'connect', 'it', 'to', 'the', 'fuel', 'storage', 'tank', '.', 'SECTO', 'R', '6', 'The', 'other', '60-degree', 'sector', 'contains', 'the', 'rest', 'of', 'the', 'space', 'radiator', 'and', 'a', 'reaction', 'control', 'engine', '57', 'P-69', 'Technician', 'finishes', 'installation', 'of', 'cryogenic', 'oxygen', 'tank', 'quad', 'on', 'its', 'exterior', ',', 'and', 'the', 'fuel', 'storage', 'tank', 'within', 'the', 'sector', '.', 'The', 'fuel', 'storage', 'tank', 'is', 'the', 'same', 'size', 'as', 'the', 'oxi\\x02dizer', 'storage', 'tank', ':', '154.47', 'inches', 'high', '(', 'about', '12', 'feet', '1', '0-', '%', 'inches', ')', 'and', '45', 'inches', 'in', 'diameter', '.', 'It', 'holds', '7,058', 'pounds', 'of', 'fuel', '.', 'Fuel', 'is', 'fed', 'from', 'it', 'to', 'the', 'fuel', 'sump', 'tank', 'in', 'Sector', '5', '.', 'The', 'sump', 'tanks', 'and', 'the', 'storage', 'tanks', 'for', 'fuel', 'and', 'oxidizer', 'are', 'the', 'same', 'size', ';', 'the', 'difference', 'in', 'weight', 'each', 'contains', 'is', 'that', 'the', 'oxidizer', 'is', 'more', 'than', '50-', 'percent', 'heavier', 'than', 'the', 'fuel', '.', 'CENTER', 'SECTION', 'The', 'center', 'section', 'or', 'tunnel', 'contains', 'two', 'helium', 'tanks', 'and', 'the', 'service', 'propulsion', 'engine', '.', 'The', 'helium', 'tanks', 'are', 'spherical', 'vessels', 'about', '40', 'inches', 'in', 'diameter', 'located', 'one', 'on', 'top', 'of', 'the', 'other', 'in', 'the', 'upper', 'half', 'of', 'the', 'center', 'section', '.', 'Each', 'con\\x02tains', '19.6', 'cubic', 'feet', 'of', 'helium', 'gas', 'under', 'a', 'pressure', 'of', '3600', 'psi', '.', 'This', 'gas', 'is', 'used', 'to', 'pressurize', 'the', 'oxi\\x0258', 'dizer', 'and', 'fuel', 'tanks', 'of', 'the', 'service', 'propulsion', 'sub\\x02system', '.', 'The', 'pressure', 'forces', 'the', 'propellant', 'from', 'one', 'tank', 'to', 'another', 'and', 'through', 'the', 'feed', 'lines', 'to', 'the', 'engine', '.', 'The', 'service', 'propulsion', 'engine', 'is', 'located', 'in', 'the', 'lower', 'half', 'of', 'the', 'center', 'section', ',', 'with', 'its', 'nozzle', 'extension', 'skirt', 'protruding', 'more', 'than', '9', 'feet', 'below', 'the', 'aft', 'bulkhead', 'of', 'the', 'module', '.', 'The', 'length', 'of', 'the', 'engine', 'including', 'the', 'skirt', 'is', '152.82', 'inches', '(', 'about', '12', 'feet', '8', 'inches', ')', 'and', 'its', 'weight', 'is', '650', 'pounds', '.', 'This', 'engine', 'is', 'used', 'as', 'a', 'retrorocket', 'to', 'brake', 'the', 'space\\x02craft', 'and', 'put', 'it', 'into', 'orbit', 'around', 'the', 'moon', ',', 'to', 'supply', 'the', 'thrust', 'for', 'the', 'return', 'to', 'earth', 'from', 'the', 'moon', ',', 'and', 'for', 'course', 'corrections', 'on', 'the', 'trips', 'to', 'and', 'from', 'the', 'moon', '.', 'EXTERIOR', 'Located', 'on', 'the', 'exterior', 'of', 'the', 'service', 'module', 'are', 'space', 'radiators', 'for', 'both', 'the', 'environmental', 'control', 'and', 'electrical', 'power', 'subsystems', ',', 'reaction', 'control', 'subsystem', 'engines', ',', 'three', 'antennas', ',', 'um\\x02bilical', 'connections', ',', 'and', 'several', 'lights', '.', 'The', 'environmental', 'control', 'subsystem', 'space', 'radi\\x02ators', 'are', 'the', 'larger', 'ones', 'and', 'are', 'located', 'on', 'the', 'lower', 'half', 'of', 'the', 'service', 'module', 'on', 'opposite', 'sides', '.', 'One', 'is', 'part', 'of', 'the', 'panel', 'covers', 'for', 'Sectors', '2', 'and', '3', 'and', 'the', 'other', 'is', 'part', 'of', 'the', 'panel', 'covers', 'for', 'Sectors', '5', 'and', '6', '.', 'The', 'radiators', ',', 'each', 'about', '30', 'square', 'feet', ',', 'consist', 'of', 'five', 'parallel', 'primary', 'tubes', 'and', 'four', 'secondary', 'tubes', 'mounted', 'horizontally', 'and', 'one', 'series', 'tube', 'mounted', 'vertically', '.', 'The', 'water-glycol', 'coolant', 'flows', 'through', 'these', 'tubes', 'to', 'radiate', 'to', 'the', 'cold', 'of', 'space', 'the', 'heat', 'it', 'has', 'absorbed', 'from', 'the', 'command', 'module', 'cabin', 'and', 'from', 'operating', 'elec\\x02tronic', 'equipment', '.', 'The', 'electrical', 'power', 'subsystem', 'space', 'radiators', 'are', 'located', 'on', 'the', 'fairing', 'at', 'the', 'top', 'of', 'the', 'service', 'module', '.', 'Each', 'of', 'the', 'eight', 'radiator', 'panels', '(', 'which', 'are', 'alternated', 'with', 'eight', 'aluminum', 'honeycomb', 'panels', ')', 'contains', 'three', 'tubes', 'which', 'are', 'used', 'to', 'radiate', 'to', 'space', 'excess', 'heat', 'produced', 'by', 'the', 'fuel', 'cell', 'powerplants', '.', 'A', 'separate', 'radiation', 'loop', 'is', 'used', 'for', 'each', 'powerplant', ';', 'that', 'is', ',', 'one', 'of', 'the', 'tubes', 'on', 'each', 'panel', 'is', 'connected', 'to', 'a', 'specific', 'powerplant', '.', 'The', 'reaction', 'control', 'subsystem', 'engines', 'are', 'located', 'in', 'four', 'clusters', 'of', '90', 'degrees', 'apart', 'around', 'the', 'upper', 'portion', 'of', 'service', 'module', '.', 'The', 'clusters', 'or', 'quads', 'are', 'arranged', 'in', 'such', 'a', 'manner', 'that', 'the', 'engines', 'are', 'on', 'the', 'outside', 'of', 'the', 'panels', 'and', 'all', 'the', 'other', 'P-70', 'Technician', 'prepares', 'service', 'propulsion', 'engine', 'for', 'installation', 'in', 'service', 'module', 'components', 'are', 'on', 'the', 'inside', '.', 'The', 'engines', 'are', 'mounted', 'with', 'two', 'pointed', 'up', 'and', 'down', 'and', 'two', 'pointed', 'to', 'the', 'sides', 'in', 'opposite', 'directions', '.', 'Com\\x02ponents', 'of', 'the', 'quad', 'panels', 'on', 'the', 'inside', 'of', 'the', 'sectors', 'include', 'two', 'oxidizer', 'and', 'two', 'fuel', 'tanks', ',', 'a', 'helium', 'tank', ',', 'and', 'associated', 'valves', ',', 'regulators', ',', 'and', 'plumbing', '.', 'Each', 'quad', 'package', 'is', 'eight', 'feet', 'long', 'and', 'nearly', 'three', 'feet', 'wide', '.', 'The', 'four', 'antennas', 'on', 'the', 'outside', 'of', 'the', 'service', 'module', 'are', 'the', 'S-band', 'high-gain', 'antenna', ',', 'mounted', 'on', 'the', 'aft', 'bulkhead', ';', 'two', 'VHF', 'omni-directional', 'antennas', ',', 'mounted', 'on', 'opposite', 'sides', 'of', 'the', 'module', 'near', 'the', 'top', ';', 'and', 'the', 'rendezvous', 'radar', 'transponder', 'antenna', ',', 'mounted', 'in', 'the', 'SM', 'fairing', '.', 'The', 'S-band', 'high-gain', 'antenna', ',', 'used', 'for', 'deep', 'space', 'communi\\x02cations', ',', 'is', 'composed', 'of', 'four', '31-inch', 'diameter', 'reflectors', 'surrounding', 'an', '11-inch', 'square', 'reflector', '.', 'At', 'launch', 'it', 'is', 'folded', 'down', 'parallel', 'to', 'the', 'service', 'propulsion', 'engine', 'nozzle', 'so', 'that', 'it', 'fits', 'within', 'the', 'spacecraft-', 'LM', 'adapter', '.', 'After', 'the', 'CSM', 'separates', 'from', 'the', 'adapter', 'the', 'antenna', 'is', 'deployed', 'at', 'a', 'right', 'angle', 'to', 'the', 'service', 'module', '.', 'The', 'omni\\x02directional', 'antennas', ',', 'called', 'scimitars', 'because', 'of', 'their', 'shape', ',', 'are', 'made', 'of', 'stainless', 'steel', 'and', 'are', 'approximately', '13-', '%', 'inches', 'long', 'and', 'only', 'a', 'hun\\x02dredth', 'of', 'an', 'inch', 'thick', '.', '59', 'P-71', 'CM-SM', 'umbilical', 'assembly', 'The', 'umbilicals', 'consist', 'of', 'the', 'main', 'plumbing', 'and', 'wiring', 'connections', 'between', 'the', 'command', 'module', 'and', 'service', 'module', ',', 'which', 'are', 'enclosed', 'in', 'a', 'fairing', '(', 'aluminum', 'covering', ')', ',', 'and', 'a', '``', 'flyaway', \"''\", 'umbilical', 'which', 'is', 'connected', 'to', 'the', 'launch', 'tower', '.', 'The', 'latter', 'sï¿½pplies', 'oxygen', 'and', 'nitrogen', 'for', 'cabin', 'pressuriza\\x02tion', '.', \"'\", 'water-glycol', ',', 'electrical', 'power', 'from', 'ground', 'equ1pment', ',', 'and', 'purge', 'gas', '.', 'Seven', 'lights', 'are', 'mounted', 'in', 'the', 'aluminum', 'panels', 'of', 'the', 'fairing', '.', 'Four', '(', 'one', 'red', ',', 'one', 'green', ',', 'and', 'two', 'amber', ')', 'are', 'used', 'to', 'aid', 'the', 'astronauts', 'in', 'docking', ',', 'one', 'is', 'a', 'floodlight', 'which', 'can', 'be', 'turned', 'on', 'to', 'give', 'astronauts', 'visibility', 'during', 'extravehicular', 'activities', 'one', 'is', 'a', 'flashing', 'beacon', 'used', 'to', 'aid', 'in', 'rendezvous', \"'\", 'and', 'one', 'is', 'a', 'spotlight', 'used', 'in', 'rendezvous', 'from', '500', 'feet', 'to', 'docking', 'with', 'the', 'lunar', 'module', '.', 'SM-CM', 'SEPARATION', 'Separation', 'of', 'the', 'SM', 'from', 'the', 'CM', 'occurs', 'shortly', 'before', 'entry', '.', 'The', 'sequence', 'of', 'events', 'during', 'separa\\x02tion', 'is', 'controlled', 'automatically', 'by', 'two', 'redundant', 'service', 'module', 'jettison', 'controllers', ',', 'located', 'on', 'the', 'forward', 'bulkhead', 'of', 'the', 'SM', '.', 'A', 'number', 'of', 'events', 'must', 'occur', 'in', 'rapid', 'sequence', 'or', 'at', 'the', 'same', 'time', 'for', 'proper', 'separation', '.', 'These', 'include', 'physical', 'separation', 'of', 'all', 'the', 'connections', 'between', 'the', 'modules', ',', 'transfer', 'of', 'electrical', 'con\\x02trol', ',', 'and', 'firing', 'of', 'the', 'service', 'module', \"'s\", 'reaction', 'control', 'engines', 'to', 'increase', 'the', 'distance', 'between', 'the', 'modules', '.', 'Before', 'separation', ',', 'the', 'crewmen', 'in', 'the', 'CM', 'transfer', '60', 'electrical', 'control', 'to', 'the', 'CM', 'reaction', 'control', 'sub\\x02system', '(', 'the', 'SM', 'reaction', 'control', 'subsystem', 'is', 'used', 'for', 'attitude', 'maneuvers', 'throughout', 'the', 'mission', 'up', 'to', 'entry', ')', 'so', 'that', 'they', 'can', 'pressurize', 'it', 'and', 'check', 'it', 'out', 'for', 'the', 'entry', 'maneuvers', '.', 'Electrical', 'control', 'is', 'then', 'transferred', 'back', 'to', 'the', 'SM', 'subsystem', '.', 'Separation', 'is', 'started', 'manually', ',', 'by', 'activation', 'of', 'either', 'of', 'two', 'redundant', 'switches', 'on', 'the', 'main', 'display', 'console', '.', 'These', 'switches', 'send', 'sig\\x02nals', 'to', 'the', 'SM', 'jettison', 'controllers', '.', 'The', 'controllers', 'first', 'send', 'a', 'signal', 'to', 'fire', 'ordnance', 'devices', 'which', 'activatï¿½', 'the', 'CM-SM', 'electrical', 'circuit', 'interrupters', ';', 'these', 'mterrupters', 'deadface', '(', 'cut', 'off', 'all', 'power', 'to', ')', 'the', 'electrical', 'wires', 'in', 'the', 'CM-SM', 'umbilical', '.', 'A', 'tenth', 'of', 'a', 'second', 'after', 'the', 'wires', 'are', 'deadfaced', 'the', 'controllers', 'send', 'signals', 'which', 'fire', 'ordnancï¿½', 'devices', 'to', 'sever', 'the', 'physical', 'connections', 'between', 'the', 'modules', '.', 'These', 'connections', 'are', 'three', 'tension', 'tieï¿½', 'and', 'the', 'umbilical', '.', 'The', 'tension', 'ties', 'are', 'straps', 'wh1ch', 'hold', 'the', 'CM', 'on', 'three', 'of', 'the', 'compression', 'pads', 'on', 'the', 'SM', '.', 'Linear-shaped', 'charges', 'in', 'each', 'tension-tie', 'assembly', 'sever', 'the', 'tension', 'ties', 'to', 'separate', 'the', 'modules', '.', 'At', 'the', 'same', 'time', ',', 'explosive', 'charges', 'drive', 'guillotines', 'through', 'the', 'wiring', 'and', 'tubing', 'in', 'the', 'umbilical', '.', 'Simultaneously', 'with', 'the', 'firing', 'of', 'the', 'ordnance', 'devices', ',', 'the', 'controllers', 'send', 'signals', 'which', 'fire', 'the', 'SM', 'reaction', 'control', 'engines', '.', 'Roll', 'engines', 'are', 'fired', 'for', '5', 'seconds', 'to', 'alter', 'the', 'SM', \"'s\", 'course', 'from', 'that', 'of', 'the', 'CM', ',', 'and', 'the', 'translation', '(', 'thrust', ')', 'engines', 'are', 'fired', 'continuously', 'until', 'the', 'propellant', 'is', 'depleted', 'or', 'fuel', 'cell', 'power', 'is', 'expended', '.', 'These', 'maneuvers', 'carry', 'the', 'SM', 'well', 'away', 'from', 'the', 'entry', 'path', 'of', 'the', 'CM', '.', 'The', 'service', 'module', 'will', 'enter', 'the', 'earth', \"'s\", 'atmos\\x02phere', 'after', 'separation', 'and', 'burn', 'up', '.', 'f', ')', 'SM', 'REACTION', 'CONTROL', 'ENGINES', '(', '-X', ')', 'FIRE', 'FOR', '5.5', 'SECONDS\\x02CD', 'AFTER', '2', 'SECONDS', 'I', \"'\", 'I.JG', 'ROLL', 'ENGINES', 'FIRE', 'HrrR', ':', '-', ':', '--', '--', '..', '_', '..', '_', '.ï¿½', ':', '!', '...', 'E', '!', '!', '.', '!', '.o', 'R', 'y', 'LOCAL', 'H', '--', 'DRiz', '(', \"m'fAL\", '.', '45', \"'\", ',', 'f.', ':', 'ï¿½', \"'\", 'ï¿½ï¿½-Â·-', 'SEPARATION', 'ATIITUDE', '8', 'SEPARATION', 'ATIITUDE', 'A', 'P-72', 'Attitude', 'of', 'SM', 'and', 'CM', 'during', 'separation']\n"
     ]
    }
   ],
   "source": [
    "words=word_tokenize(text)\n",
    "console.print(f'Number of words: {len(words)}')\n",
    "\n",
    "print(words)"
   ]
  },
  {
   "cell_type": "markdown",
   "metadata": {},
   "source": [
    "### Find the frequency distribution"
   ]
  },
  {
   "cell_type": "code",
   "execution_count": null,
   "metadata": {},
   "outputs": [],
   "source": [
    "from nltk import FreqDist\n",
    "\n",
    "# Find the frequency\n",
    "fdist= FreqDist(words)\n",
    "\n",
    "fdist.most_common(10)"
   ]
  },
  {
   "cell_type": "code",
   "execution_count": null,
   "metadata": {},
   "outputs": [],
   "source": []
  },
  {
   "cell_type": "markdown",
   "metadata": {},
   "source": [
    "### Plot the frequency graph"
   ]
  },
  {
   "cell_type": "code",
   "execution_count": null,
   "metadata": {},
   "outputs": [],
   "source": [
    "import matplotlib.pyplot as plt\n",
    "\n",
    "fdist.plot(10)"
   ]
  },
  {
   "cell_type": "markdown",
   "metadata": {},
   "source": [
    "### Remove punctuation marks"
   ]
  },
  {
   "cell_type": "code",
   "execution_count": null,
   "metadata": {},
   "outputs": [],
   "source": [
    "\n",
    "words_no_punc=[w for w in words if w.isalpha()==True]\n",
    "print(words_no_punc[:50])\n",
    "print(len(words_no_punc))"
   ]
  },
  {
   "cell_type": "markdown",
   "metadata": {},
   "source": [
    "### Plotting graph without punctuation marks"
   ]
  },
  {
   "cell_type": "code",
   "execution_count": null,
   "metadata": {},
   "outputs": [],
   "source": [
    "fdist=FreqDist(words_no_punc)\n",
    "fdist.most_common(10)"
   ]
  },
  {
   "cell_type": "code",
   "execution_count": null,
   "metadata": {},
   "outputs": [],
   "source": [
    "fdist.plot(10)"
   ]
  },
  {
   "cell_type": "markdown",
   "metadata": {},
   "source": [
    "### List of stopwords"
   ]
  },
  {
   "cell_type": "code",
   "execution_count": null,
   "metadata": {},
   "outputs": [],
   "source": [
    "from nltk.corpus import stopwords\n",
    "\n",
    "list_of_stopwords=stopwords.words(\"english\")\n",
    "\n",
    "print(list_of_stopwords)"
   ]
  },
  {
   "cell_type": "markdown",
   "metadata": {},
   "source": [
    "### Removing stopwords"
   ]
  },
  {
   "cell_type": "code",
   "execution_count": null,
   "metadata": {},
   "outputs": [],
   "source": [
    "clean_words=[w for w in words_no_punc if w not in list_of_stopwords]\n",
    "\n",
    "print(clean_words)\n",
    "\n",
    "print(len(clean_words))\n",
    "\n"
   ]
  },
  {
   "cell_type": "markdown",
   "metadata": {},
   "source": [
    "### Final frequency distribution"
   ]
  },
  {
   "cell_type": "code",
   "execution_count": null,
   "metadata": {},
   "outputs": [],
   "source": [
    "fdist=FreqDist(clean_words)\n",
    "\n",
    "fdist.most_common(10)"
   ]
  },
  {
   "cell_type": "code",
   "execution_count": null,
   "metadata": {},
   "outputs": [],
   "source": [
    "fdist.plot(10)"
   ]
  },
  {
   "cell_type": "markdown",
   "metadata": {},
   "source": [
    "## Word Cloud"
   ]
  },
  {
   "cell_type": "code",
   "execution_count": null,
   "metadata": {},
   "outputs": [],
   "source": [
    "from wordcloud import WordCloud\n",
    "\n",
    "wordcloud=WordCloud().generate(text)\n",
    "\n",
    "\n",
    "plt.figure(figsize=(12,12))\n",
    "plt.imshow(wordcloud)\n",
    "\n",
    "plt.axis('off')\n",
    "plt.show()"
   ]
  },
  {
   "cell_type": "code",
   "execution_count": null,
   "metadata": {},
   "outputs": [],
   "source": [
    "clean_words_joined=' '.join(clean_words)"
   ]
  },
  {
   "cell_type": "code",
   "execution_count": null,
   "metadata": {},
   "outputs": [],
   "source": [
    "wordcloud=WordCloud().generate(clean_words_joined)\n",
    "\n",
    "\n",
    "plt.figure(figsize=(12,12))\n",
    "plt.imshow(wordcloud)\n",
    "\n",
    "plt.axis('off')\n",
    "plt.show()"
   ]
  },
  {
   "cell_type": "code",
   "execution_count": null,
   "metadata": {},
   "outputs": [],
   "source": [
    "wordcloud.words_"
   ]
  },
  {
   "cell_type": "code",
   "execution_count": null,
   "metadata": {},
   "outputs": [],
   "source": []
  },
  {
   "cell_type": "markdown",
   "metadata": {},
   "source": [
    "## Stemming"
   ]
  },
  {
   "cell_type": "code",
   "execution_count": null,
   "metadata": {},
   "outputs": [],
   "source": [
    "from nltk.stem import PorterStemmer\n",
    "\n",
    "porter=PorterStemmer()\n",
    "\n",
    "# word_list=['Programming','Programmers','Programmable','orbiter','electrical','studies','leaves','plays','am','is','were']\n",
    "word_list=words\n",
    "\n",
    "stemmed_words=[porter.stem(w) for w in word_list]\n",
    "\n",
    "print(stemmed_words)"
   ]
  },
  {
   "cell_type": "markdown",
   "metadata": {},
   "source": [
    "## Lemmatization"
   ]
  },
  {
   "cell_type": "code",
   "execution_count": null,
   "metadata": {},
   "outputs": [],
   "source": [
    "from nltk.stem import WordNetLemmatizer\n",
    "\n",
    "lemmatizer=WordNetLemmatizer()\n",
    "\n",
    "pos_list=['v','n','a','r']\n",
    "print(f'word_list--->{word_list}')\n",
    "for i in pos_list: \n",
    "    lemmatized_words=[lemmatizer.lemmatize(w,pos=i) for w in word_list]\n",
    "\n",
    "    print(f' POS:{i}\\n{lemmatized_words}')"
   ]
  },
  {
   "cell_type": "markdown",
   "metadata": {},
   "source": [
    "## Part of Speech Tagging (PoS tagging)"
   ]
  },
  {
   "cell_type": "code",
   "execution_count": null,
   "metadata": {},
   "outputs": [],
   "source": [
    "tagged_words=nltk.pos_tag(word_list)\n",
    "print(tagged_words)"
   ]
  },
  {
   "cell_type": "code",
   "execution_count": null,
   "metadata": {},
   "outputs": [],
   "source": [
    "# sentence='The three-person EO-3 crew docked with Salyut 7 on 9 February, 1984, and entered the darkened station carrying flashlights.'\n",
    "# sentence=text\n",
    "\n",
    "# tokenized_words=word_tokenize(sentence)\n",
    "\n",
    "# tagged_words=nltk.pos_tag(tokenized_words)\n",
    "\n",
    "# tagged_words"
   ]
  },
  {
   "cell_type": "markdown",
   "metadata": {},
   "source": [
    "## Chunking"
   ]
  },
  {
   "cell_type": "code",
   "execution_count": null,
   "metadata": {},
   "outputs": [],
   "source": [
    "grammar=\"NP : {<DT>?<JJ>*<NN>} \"\n",
    "\n",
    "parser=nltk.RegexpParser(grammar)\n",
    "\n",
    "output= parser.parse(tagged_words)\n",
    "\n",
    "print(output)\n",
    "# output.draw()"
   ]
  },
  {
   "cell_type": "code",
   "execution_count": null,
   "metadata": {},
   "outputs": [],
   "source": []
  },
  {
   "cell_type": "markdown",
   "metadata": {},
   "source": [
    "## Chinking"
   ]
  },
  {
   "cell_type": "code",
   "execution_count": null,
   "metadata": {},
   "outputs": [],
   "source": [
    "grammar=r\"\"\"NP : {<.*>+} \n",
    "}<JJ>+{\"\"\"\n",
    "\n",
    "\n",
    "output= parser.parse(tagged_words)\n",
    "\n",
    "print(output)\n",
    "# output.draw()"
   ]
  },
  {
   "cell_type": "markdown",
   "metadata": {},
   "source": [
    "## Named Entity Recognition (NER)"
   ]
  },
  {
   "cell_type": "code",
   "execution_count": null,
   "metadata": {},
   "outputs": [],
   "source": [
    "sentence=text\n",
    "\n",
    "tokenized_words=word_tokenize(sentence)\n",
    "\n",
    "tagged_words=nltk.pos_tag(tokenized_words)\n",
    "N_E_R=nltk.ne_chunk(tagged_words,binary=False)\n",
    "\n",
    "print(N_E_R)"
   ]
  },
  {
   "cell_type": "code",
   "execution_count": null,
   "metadata": {},
   "outputs": [],
   "source": [
    "# N_E_R.draw()\n"
   ]
  },
  {
   "cell_type": "markdown",
   "metadata": {},
   "source": [
    "## WordNet"
   ]
  },
  {
   "cell_type": "code",
   "execution_count": null,
   "metadata": {},
   "outputs": [],
   "source": [
    "from nltk.corpus import wordnet\n",
    "\n"
   ]
  },
  {
   "cell_type": "code",
   "execution_count": null,
   "metadata": {},
   "outputs": [],
   "source": [
    "for words in wordnet.synsets('Mars'):\n",
    "    print(f'{words.name()}\\n{words.definition()}\\n{words.examples()}\\n')\n",
    "\n",
    "    for lemma in words.lemmas():\n",
    "        print(lemma)\n",
    "    print('\\n')"
   ]
  },
  {
   "cell_type": "markdown",
   "metadata": {},
   "source": [
    "###  Hypernyms: Hypernyms gives us a more abstract term for a word."
   ]
  },
  {
   "cell_type": "code",
   "execution_count": null,
   "metadata": {},
   "outputs": [],
   "source": [
    "word=wordnet.synsets('rocket')[0]\n",
    "\n",
    "print(word.hypernyms())"
   ]
  },
  {
   "cell_type": "markdown",
   "metadata": {},
   "source": [
    "### Hyponyms: Hyponyms gives us a more specific term for a word."
   ]
  },
  {
   "cell_type": "code",
   "execution_count": null,
   "metadata": {},
   "outputs": [],
   "source": [
    "word=wordnet.synsets('rocket')[0]\n",
    "\n",
    "print(word.hyponyms())"
   ]
  },
  {
   "cell_type": "code",
   "execution_count": null,
   "metadata": {},
   "outputs": [],
   "source": [
    "[word.hyponyms()[i].name() for i in range(len(word.hyponyms()))]"
   ]
  },
  {
   "cell_type": "markdown",
   "metadata": {},
   "source": [
    "### Get a name only"
   ]
  },
  {
   "cell_type": "code",
   "execution_count": null,
   "metadata": {},
   "outputs": [],
   "source": [
    "word=wordnet.synsets('rocket')[0]\n",
    "print(word.lemmas()[0].name())"
   ]
  },
  {
   "cell_type": "markdown",
   "metadata": {},
   "source": [
    "### Synonyms."
   ]
  },
  {
   "cell_type": "code",
   "execution_count": null,
   "metadata": {},
   "outputs": [],
   "source": [
    "synonyms=[]\n",
    "\n",
    "for words in wordnet.synsets('rocket'):\n",
    "    for lemma in words.lemmas():\n",
    "        synonyms.append(lemma.name())\n",
    "synonyms"
   ]
  },
  {
   "cell_type": "markdown",
   "metadata": {},
   "source": [
    "### Antonyms"
   ]
  },
  {
   "cell_type": "code",
   "execution_count": null,
   "metadata": {},
   "outputs": [],
   "source": [
    "antonyms=[]\n",
    "\n",
    "for words in wordnet.synsets('Natural'):\n",
    "    for lemma in words.lemmas():\n",
    "        if lemma.antonyms():\n",
    "            antonyms.append(lemma.antonyms()[0].name())\n",
    "antonyms"
   ]
  },
  {
   "cell_type": "code",
   "execution_count": null,
   "metadata": {},
   "outputs": [],
   "source": []
  },
  {
   "cell_type": "markdown",
   "metadata": {},
   "source": [
    "### Synonyms and antonyms"
   ]
  },
  {
   "cell_type": "code",
   "execution_count": null,
   "metadata": {},
   "outputs": [],
   "source": [
    "synonyms=[]\n",
    "antonyms=[]\n",
    "for words in wordnet.synsets('Natural'):\n",
    "    for lemma in words.lemmas():\n",
    "        synonyms.append(lemma.name())\n",
    "        if lemma.antonyms():\n",
    "            antonyms.append(lemma.antonyms()[0].name())\n",
    "\n",
    "\n",
    "print(f'synonyms:\\n{synonyms}\\n')\n",
    "print(f'antonyms:\\n{antonyms}\\n')"
   ]
  },
  {
   "cell_type": "code",
   "execution_count": null,
   "metadata": {},
   "outputs": [],
   "source": []
  },
  {
   "cell_type": "markdown",
   "metadata": {},
   "source": [
    "###  Finding the similarity between words"
   ]
  },
  {
   "cell_type": "code",
   "execution_count": null,
   "metadata": {},
   "outputs": [],
   "source": [
    "word1=wordnet.synsets('ship','n')[0]\n",
    "\n",
    "word2=wordnet.synsets('dog','n')[0]\n",
    "\n",
    "word1.wup_similarity(word2)\n"
   ]
  },
  {
   "cell_type": "code",
   "execution_count": null,
   "metadata": {},
   "outputs": [],
   "source": []
  },
  {
   "cell_type": "markdown",
   "metadata": {},
   "source": [
    "# Bag-of-Words"
   ]
  },
  {
   "cell_type": "code",
   "execution_count": null,
   "metadata": {},
   "outputs": [],
   "source": [
    "# from collections import Counter\n",
    "\n",
    "# text=text.lower()\n",
    "# Counter(word_tokenize(text))\n",
    "\n",
    "# Counter(text).most_common(2)\n",
    "# Counter(word_tokenize(text)).most_common(2)"
   ]
  },
  {
   "cell_type": "code",
   "execution_count": null,
   "metadata": {},
   "outputs": [],
   "source": [
    "from sklearn.feature_extraction.text import CountVectorizer\n",
    "\n",
    "# sentences=['Jim is a person', 'Jim likes to fly.', 'Jim wants to walk his dog.']\n",
    "\n",
    "ngrams=1\n",
    "cv=CountVectorizer(stop_words='english',ngram_range=(ngrams,ngrams))\n",
    "\n",
    "B_O_W= cv.fit_transform(sentences).toarray()\n",
    "sum_words = B_O_W.sum(axis=0)\n",
    "words_freq = [(word, sum_words[idx]) for word, idx in cv.vocabulary_.items()]\n",
    "words_freq =sorted(words_freq, key = lambda x: x[1],reverse=True)\n",
    "\n",
    "\n",
    "print(cv.vocabulary_)\n",
    "print(cv.get_feature_names())\n",
    "print(B_O_W)\n",
    "print(f'BOW shape: {B_O_W.shape}')\n",
    "print(sum_words)\n",
    "print(words_freq)"
   ]
  },
  {
   "cell_type": "code",
   "execution_count": null,
   "metadata": {},
   "outputs": [],
   "source": [
    "n=20\n",
    "top_words = words_freq[0:n]\n",
    "top_df = pd.DataFrame(top_words)\n",
    "top_df.columns=[\"Word\", \"Freq\"]\n",
    "\n",
    "top_df.head()"
   ]
  },
  {
   "cell_type": "code",
   "execution_count": null,
   "metadata": {},
   "outputs": [],
   "source": [
    "sns.set(rc={'figure.figsize':(15,8)})\n",
    "g = sns.barplot(x=\"Word\", y=\"Freq\", data=top_df)\n",
    "g.set_xticklabels(g.get_xticklabels(), rotation=30)"
   ]
  },
  {
   "cell_type": "code",
   "execution_count": null,
   "metadata": {},
   "outputs": [],
   "source": []
  },
  {
   "cell_type": "code",
   "execution_count": null,
   "metadata": {},
   "outputs": [],
   "source": [
    "sentence=text\n",
    "\n",
    "tokenized_words=word_tokenize(sentence)\n",
    "\n",
    "tagged_words=nltk.pos_tag(tokenized_words)\n",
    "\n",
    "\n",
    "\n",
    "tagged_words"
   ]
  },
  {
   "cell_type": "code",
   "execution_count": null,
   "metadata": {},
   "outputs": [],
   "source": []
  },
  {
   "cell_type": "markdown",
   "metadata": {},
   "source": [
    "## TF-IDF"
   ]
  },
  {
   "cell_type": "code",
   "execution_count": null,
   "metadata": {},
   "outputs": [],
   "source": [
    "# num_of_words=sum(sum_words.tolist())\n",
    "# num_of_words\n",
    "\n",
    "\n",
    "# doc_words=cv.get_feature_names_out()\n",
    "\n",
    "# freq=[round((i/4),3) for i in sum_words]\n",
    "\n",
    "# len(doc_words)\n",
    "# print(f'features: {doc_words}\\nword counts: {sum_words}\\nword frequency: {freq}')\n",
    "# N=2\n",
    "# num_docs_contain_word=1\n",
    "# freq[0]*math.log(N/num_docs_contain_word)"
   ]
  },
  {
   "cell_type": "code",
   "execution_count": null,
   "metadata": {},
   "outputs": [],
   "source": []
  },
  {
   "cell_type": "code",
   "execution_count": null,
   "metadata": {},
   "outputs": [],
   "source": [
    "from sklearn.feature_extraction.text import TfidfVectorizer\n",
    "\n",
    "vectorizer=TfidfVectorizer(norm='l2',stop_words='english')\n",
    "\n",
    "X=vectorizer.fit_transform(sentences).toarray()\n",
    "\n",
    "print(vectorizer.vocabulary_)\n",
    "print(vectorizer.get_feature_names())\n",
    "print(X)"
   ]
  },
  {
   "cell_type": "code",
   "execution_count": null,
   "metadata": {},
   "outputs": [],
   "source": [
    "X.shape"
   ]
  },
  {
   "cell_type": "markdown",
   "metadata": {},
   "source": [
    "## Sidebar"
   ]
  },
  {
   "cell_type": "code",
   "execution_count": null,
   "metadata": {},
   "outputs": [],
   "source": []
  },
  {
   "cell_type": "code",
   "execution_count": null,
   "metadata": {},
   "outputs": [],
   "source": []
  }
 ],
 "metadata": {
  "interpreter": {
   "hash": "6a7267efbf6fadf323e6919ae49483da79d63800eb323ed7cd34ea2e36e2688e"
  },
  "kernelspec": {
   "display_name": "Python 3.8.6 64-bit ('venv': venv)",
   "name": "python3"
  },
  "language_info": {
   "codemirror_mode": {
    "name": "ipython",
    "version": 3
   },
   "file_extension": ".py",
   "mimetype": "text/x-python",
   "name": "python",
   "nbconvert_exporter": "python",
   "pygments_lexer": "ipython3",
   "version": "3.8.6"
  },
  "orig_nbformat": 4
 },
 "nbformat": 4,
 "nbformat_minor": 2
}
