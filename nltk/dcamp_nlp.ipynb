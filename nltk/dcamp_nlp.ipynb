{
 "cells": [
  {
   "cell_type": "markdown",
   "metadata": {},
   "source": [
    "# NLTK PROCESS"
   ]
  },
  {
   "cell_type": "markdown",
   "metadata": {},
   "source": [
    "## Dependances"
   ]
  },
  {
   "cell_type": "code",
   "execution_count": 243,
   "metadata": {},
   "outputs": [],
   "source": [
    "import re\n",
    "import os \n",
    "import sys\n",
    "from urllib.request import urlopen\n",
    "import requests\n",
    "import pprint\n",
    "import math\n"
   ]
  },
  {
   "cell_type": "code",
   "execution_count": 244,
   "metadata": {},
   "outputs": [],
   "source": [
    "import nltk\n",
    "from nltk import sent_tokenize\n",
    "from nltk import word_tokenize\n",
    "from nltk.grammar import DependencyGrammar\n",
    "from nltk.parse import CoreNLPParser\n",
    "\n"
   ]
  },
  {
   "cell_type": "code",
   "execution_count": 245,
   "metadata": {},
   "outputs": [],
   "source": [
    "from bs4 import BeautifulSoup\n",
    "import pandas as pd\n",
    "import seaborn as sns"
   ]
  },
  {
   "cell_type": "code",
   "execution_count": 246,
   "metadata": {},
   "outputs": [],
   "source": [
    "# from rich import print\n",
    "from rich.console import Console\n",
    "console=Console(record=True)"
   ]
  },
  {
   "cell_type": "code",
   "execution_count": 247,
   "metadata": {},
   "outputs": [
    {
     "data": {
      "text/html": [
       "<pre style=\"white-space:pre;overflow-x:auto;line-height:normal;font-family:Menlo,'DejaVu Sans Mono',consolas,'Courier New',monospace\"><span style=\"color: #000000; text-decoration-color: #000000; background-color: #c0c0c0; font-weight: bold\">&lt;</span><span style=\"color: #ff00ff; text-decoration-color: #ff00ff; background-color: #c0c0c0; font-weight: bold\">re.Match</span><span style=\"color: #000000; text-decoration-color: #000000; background-color: #c0c0c0; font-weight: bold\"> object; </span><span style=\"color: #808000; text-decoration-color: #808000; background-color: #c0c0c0; font-weight: bold\">span</span><span style=\"color: #000000; text-decoration-color: #000000; background-color: #c0c0c0; font-weight: bold\">=(</span><span style=\"color: #008080; text-decoration-color: #008080; background-color: #c0c0c0; font-weight: bold\">0</span><span style=\"color: #000000; text-decoration-color: #000000; background-color: #c0c0c0; font-weight: bold\">, </span><span style=\"color: #008080; text-decoration-color: #008080; background-color: #c0c0c0; font-weight: bold\">3</span><span style=\"color: #000000; text-decoration-color: #000000; background-color: #c0c0c0; font-weight: bold\">), </span><span style=\"color: #808000; text-decoration-color: #808000; background-color: #c0c0c0; font-weight: bold\">match</span><span style=\"color: #000000; text-decoration-color: #000000; background-color: #c0c0c0; font-weight: bold\">=</span><span style=\"color: #008000; text-decoration-color: #008000; background-color: #c0c0c0\">'Jim'</span><span style=\"color: #000000; text-decoration-color: #000000; background-color: #c0c0c0; font-weight: bold\">&gt;</span>\n",
       "</pre>\n"
      ],
      "text/plain": [
       "\u001b[1;30;47m<\u001b[0m\u001b[1;95;47mre.Match\u001b[0m\u001b[1;39;47m object; \u001b[0m\u001b[1;33;47mspan\u001b[0m\u001b[1;39;47m=\u001b[0m\u001b[1;39;47m(\u001b[0m\u001b[1;36;47m0\u001b[0m\u001b[1;39;47m, \u001b[0m\u001b[1;36;47m3\u001b[0m\u001b[1;39;47m)\u001b[0m\u001b[1;39;47m, \u001b[0m\u001b[1;33;47mmatch\u001b[0m\u001b[1;39;47m=\u001b[0m\u001b[32;47m'Jim'\u001b[0m\u001b[1;30;47m>\u001b[0m\n"
      ]
     },
     "metadata": {},
     "output_type": "display_data"
    }
   ],
   "source": [
    "console.print(re.match('Jim','JimDowd'),style=\"bold black on white\")"
   ]
  },
  {
   "cell_type": "markdown",
   "metadata": {},
   "source": [
    "## Get Data"
   ]
  },
  {
   "cell_type": "markdown",
   "metadata": {},
   "source": [
    "### from file"
   ]
  },
  {
   "cell_type": "code",
   "execution_count": 248,
   "metadata": {},
   "outputs": [
    {
     "data": {
      "text/plain": [
       "'what is pressure of nitrogen tank?\\nwhat is max pressure in the hydrogen tank?\\nwhat is max pressure of pump H-6?\\ncurrent pressure of nitrogen tank.\\ncurrent pressure of hydrogen tank.\\n\\n'"
      ]
     },
     "execution_count": 248,
     "metadata": {},
     "output_type": "execute_result"
    }
   ],
   "source": [
    "with open(\"../data/t1.txt\") as f:   \n",
    "    text = f.read()\n",
    "text"
   ]
  },
  {
   "cell_type": "markdown",
   "metadata": {},
   "source": [
    "### from url"
   ]
  },
  {
   "cell_type": "code",
   "execution_count": 249,
   "metadata": {},
   "outputs": [],
   "source": [
    "# url = \"https://www.hq.nasa.gov/alsj/LM03_Apollo_Spacecraft_AS1-6.pdf\"\n",
    "# # html = urlopen(url).read()\n",
    "\n",
    "# html= requests.get(url)\n",
    "\n",
    "\n",
    "# text = BeautifulSoup(html.text, 'html.parser').get_text()\n",
    "# text[:200]"
   ]
  },
  {
   "cell_type": "markdown",
   "metadata": {},
   "source": [
    "## Text Pre-processing"
   ]
  },
  {
   "cell_type": "code",
   "execution_count": null,
   "metadata": {},
   "outputs": [],
   "source": []
  },
  {
   "cell_type": "markdown",
   "metadata": {},
   "source": [
    "### Sentence tokenizing:"
   ]
  },
  {
   "cell_type": "code",
   "execution_count": 250,
   "metadata": {},
   "outputs": [
    {
     "data": {
      "text/html": [
       "<pre style=\"white-space:pre;overflow-x:auto;line-height:normal;font-family:Menlo,'DejaVu Sans Mono',consolas,'Courier New',monospace\">Number of sentences:<span style=\"color: #008080; text-decoration-color: #008080; font-weight: bold\">5</span>\n",
       "</pre>\n"
      ],
      "text/plain": [
       "Number of sentences:\u001b[1;36m5\u001b[0m\n"
      ]
     },
     "metadata": {},
     "output_type": "display_data"
    },
    {
     "data": {
      "text/html": [
       "<pre style=\"white-space:pre;overflow-x:auto;line-height:normal;font-family:Menlo,'DejaVu Sans Mono',consolas,'Courier New',monospace\"><span style=\"color: #000080; text-decoration-color: #000080; background-color: #c0c0c0; font-weight: bold\">[</span>\n",
       "<span style=\"color: #000080; text-decoration-color: #000080; background-color: #c0c0c0; font-weight: bold\">    </span><span style=\"color: #008000; text-decoration-color: #008000; background-color: #c0c0c0\">'what is pressure of nitrogen tank?'</span><span style=\"color: #000080; text-decoration-color: #000080; background-color: #c0c0c0; font-weight: bold\">,</span>\n",
       "<span style=\"color: #000080; text-decoration-color: #000080; background-color: #c0c0c0; font-weight: bold\">    </span><span style=\"color: #008000; text-decoration-color: #008000; background-color: #c0c0c0\">'what is max pressure in the hydrogen tank?'</span><span style=\"color: #000080; text-decoration-color: #000080; background-color: #c0c0c0; font-weight: bold\">,</span>\n",
       "<span style=\"color: #000080; text-decoration-color: #000080; background-color: #c0c0c0; font-weight: bold\">    </span><span style=\"color: #008000; text-decoration-color: #008000; background-color: #c0c0c0\">'what is max pressure of pump H-6?'</span><span style=\"color: #000080; text-decoration-color: #000080; background-color: #c0c0c0; font-weight: bold\">,</span>\n",
       "<span style=\"color: #000080; text-decoration-color: #000080; background-color: #c0c0c0; font-weight: bold\">    </span><span style=\"color: #008000; text-decoration-color: #008000; background-color: #c0c0c0\">'current pressure of nitrogen tank.'</span><span style=\"color: #000080; text-decoration-color: #000080; background-color: #c0c0c0; font-weight: bold\">,</span>\n",
       "<span style=\"color: #000080; text-decoration-color: #000080; background-color: #c0c0c0; font-weight: bold\">    </span><span style=\"color: #008000; text-decoration-color: #008000; background-color: #c0c0c0\">'current pressure of hydrogen tank.'</span>\n",
       "<span style=\"color: #000080; text-decoration-color: #000080; background-color: #c0c0c0; font-weight: bold\">]</span>\n",
       "</pre>\n"
      ],
      "text/plain": [
       "\u001b[1;34;47m[\u001b[0m\n",
       "\u001b[1;34;47m    \u001b[0m\u001b[32;47m'what is pressure of nitrogen tank?'\u001b[0m\u001b[1;34;47m,\u001b[0m\n",
       "\u001b[1;34;47m    \u001b[0m\u001b[32;47m'what is max pressure in the hydrogen tank?'\u001b[0m\u001b[1;34;47m,\u001b[0m\n",
       "\u001b[1;34;47m    \u001b[0m\u001b[32;47m'what is max pressure of pump H-6?'\u001b[0m\u001b[1;34;47m,\u001b[0m\n",
       "\u001b[1;34;47m    \u001b[0m\u001b[32;47m'current pressure of nitrogen tank.'\u001b[0m\u001b[1;34;47m,\u001b[0m\n",
       "\u001b[1;34;47m    \u001b[0m\u001b[32;47m'current pressure of hydrogen tank.'\u001b[0m\n",
       "\u001b[1;34;47m]\u001b[0m\n"
      ]
     },
     "metadata": {},
     "output_type": "display_data"
    }
   ],
   "source": [
    "sentences=sent_tokenize(text)\n",
    "console.print(f'Number of sentences:{len(sentences)}')\n",
    "\n",
    "console.print(sentences,style=\"bold blue on white\")"
   ]
  },
  {
   "cell_type": "markdown",
   "metadata": {},
   "source": [
    "### Word tokenizing"
   ]
  },
  {
   "cell_type": "code",
   "execution_count": 251,
   "metadata": {},
   "outputs": [
    {
     "data": {
      "text/html": [
       "<pre style=\"white-space:pre;overflow-x:auto;line-height:normal;font-family:Menlo,'DejaVu Sans Mono',consolas,'Courier New',monospace\">Number of words: <span style=\"color: #008080; text-decoration-color: #008080; font-weight: bold\">36</span>\n",
       "</pre>\n"
      ],
      "text/plain": [
       "Number of words: \u001b[1;36m36\u001b[0m\n"
      ]
     },
     "metadata": {},
     "output_type": "display_data"
    },
    {
     "name": "stdout",
     "output_type": "stream",
     "text": [
      "['what', 'is', 'pressure', 'of', 'nitrogen', 'tank', '?', 'what', 'is', 'max', 'pressure', 'in', 'the', 'hydrogen', 'tank', '?', 'what', 'is', 'max', 'pressure', 'of', 'pump', 'H-6', '?', 'current', 'pressure', 'of', 'nitrogen', 'tank', '.', 'current', 'pressure', 'of', 'hydrogen', 'tank', '.']\n"
     ]
    }
   ],
   "source": [
    "words=word_tokenize(text)\n",
    "console.print(f'Number of words: {len(words)}')\n",
    "\n",
    "print(words)"
   ]
  },
  {
   "cell_type": "markdown",
   "metadata": {},
   "source": [
    "### Find the frequency distribution"
   ]
  },
  {
   "cell_type": "code",
   "execution_count": 252,
   "metadata": {},
   "outputs": [
    {
     "data": {
      "text/plain": [
       "[('pressure', 5),\n",
       " ('of', 4),\n",
       " ('tank', 4),\n",
       " ('what', 3),\n",
       " ('is', 3),\n",
       " ('?', 3),\n",
       " ('nitrogen', 2),\n",
       " ('max', 2),\n",
       " ('hydrogen', 2),\n",
       " ('current', 2)]"
      ]
     },
     "execution_count": 252,
     "metadata": {},
     "output_type": "execute_result"
    }
   ],
   "source": [
    "from nltk import FreqDist\n",
    "\n",
    "# Find the frequency\n",
    "fdist= FreqDist(words)\n",
    "\n",
    "fdist.most_common(10)"
   ]
  },
  {
   "cell_type": "code",
   "execution_count": null,
   "metadata": {},
   "outputs": [],
   "source": []
  },
  {
   "cell_type": "markdown",
   "metadata": {},
   "source": [
    "### Plot the frequency graph"
   ]
  },
  {
   "cell_type": "code",
   "execution_count": 253,
   "metadata": {},
   "outputs": [
    {
     "data": {
      "image/png": "[encoded data removed]",
      "text/plain": [
       "<Figure size 1080x576 with 1 Axes>"
      ]
     },
     "metadata": {},
     "output_type": "display_data"
    },
    {
     "data": {
      "text/plain": [
       "<AxesSubplot:xlabel='Samples', ylabel='Counts'>"
      ]
     },
     "execution_count": 253,
     "metadata": {},
     "output_type": "execute_result"
    }
   ],
   "source": [
    "import matplotlib.pyplot as plt\n",
    "\n",
    "fdist.plot(10)"
   ]
  },
  {
   "cell_type": "markdown",
   "metadata": {},
   "source": [
    "### Remove punctuation marks"
   ]
  },
  {
   "cell_type": "code",
   "execution_count": 254,
   "metadata": {},
   "outputs": [
    {
     "name": "stdout",
     "output_type": "stream",
     "text": [
      "['what', 'is', 'pressure', 'of', 'nitrogen', 'tank', 'what', 'is', 'max', 'pressure', 'in', 'the', 'hydrogen', 'tank', 'what', 'is', 'max', 'pressure', 'of', 'pump', 'current', 'pressure', 'of', 'nitrogen', 'tank', 'current', 'pressure', 'of', 'hydrogen', 'tank']\n",
      "30\n"
     ]
    }
   ],
   "source": [
    "\n",
    "words_no_punc=[w for w in words if w.isalpha()==True]\n",
    "print(words_no_punc[:50])\n",
    "print(len(words_no_punc))"
   ]
  },
  {
   "cell_type": "markdown",
   "metadata": {},
   "source": [
    "### Plotting graph without punctuation marks"
   ]
  },
  {
   "cell_type": "code",
   "execution_count": 255,
   "metadata": {},
   "outputs": [
    {
     "data": {
      "text/plain": [
       "[('pressure', 5),\n",
       " ('of', 4),\n",
       " ('tank', 4),\n",
       " ('what', 3),\n",
       " ('is', 3),\n",
       " ('nitrogen', 2),\n",
       " ('max', 2),\n",
       " ('hydrogen', 2),\n",
       " ('current', 2),\n",
       " ('in', 1)]"
      ]
     },
     "execution_count": 255,
     "metadata": {},
     "output_type": "execute_result"
    }
   ],
   "source": [
    "fdist=FreqDist(words_no_punc)\n",
    "fdist.most_common(10)"
   ]
  },
  {
   "cell_type": "code",
   "execution_count": 256,
   "metadata": {},
   "outputs": [
    {
     "data": {
      "image/png": "[encoded data removed]",
      "text/plain": [
       "<Figure size 1080x576 with 1 Axes>"
      ]
     },
     "metadata": {},
     "output_type": "display_data"
    },
    {
     "data": {
      "text/plain": [
       "<AxesSubplot:xlabel='Samples', ylabel='Counts'>"
      ]
     },
     "execution_count": 256,
     "metadata": {},
     "output_type": "execute_result"
    }
   ],
   "source": [
    "fdist.plot(10)"
   ]
  },
  {
   "cell_type": "markdown",
   "metadata": {},
   "source": [
    "### List of stopwords"
   ]
  },
  {
   "cell_type": "code",
   "execution_count": 257,
   "metadata": {},
   "outputs": [
    {
     "name": "stdout",
     "output_type": "stream",
     "text": [
      "['i', 'me', 'my', 'myself', 'we', 'our', 'ours', 'ourselves', 'you', \"you're\", \"you've\", \"you'll\", \"you'd\", 'your', 'yours', 'yourself', 'yourselves', 'he', 'him', 'his', 'himself', 'she', \"she's\", 'her', 'hers', 'herself', 'it', \"it's\", 'its', 'itself', 'they', 'them', 'their', 'theirs', 'themselves', 'what', 'which', 'who', 'whom', 'this', 'that', \"that'll\", 'these', 'those', 'am', 'is', 'are', 'was', 'were', 'be', 'been', 'being', 'have', 'has', 'had', 'having', 'do', 'does', 'did', 'doing', 'a', 'an', 'the', 'and', 'but', 'if', 'or', 'because', 'as', 'until', 'while', 'of', 'at', 'by', 'for', 'with', 'about', 'against', 'between', 'into', 'through', 'during', 'before', 'after', 'above', 'below', 'to', 'from', 'up', 'down', 'in', 'out', 'on', 'off', 'over', 'under', 'again', 'further', 'then', 'once', 'here', 'there', 'when', 'where', 'why', 'how', 'all', 'any', 'both', 'each', 'few', 'more', 'most', 'other', 'some', 'such', 'no', 'nor', 'not', 'only', 'own', 'same', 'so', 'than', 'too', 'very', 's', 't', 'can', 'will', 'just', 'don', \"don't\", 'should', \"should've\", 'now', 'd', 'll', 'm', 'o', 're', 've', 'y', 'ain', 'aren', \"aren't\", 'couldn', \"couldn't\", 'didn', \"didn't\", 'doesn', \"doesn't\", 'hadn', \"hadn't\", 'hasn', \"hasn't\", 'haven', \"haven't\", 'isn', \"isn't\", 'ma', 'mightn', \"mightn't\", 'mustn', \"mustn't\", 'needn', \"needn't\", 'shan', \"shan't\", 'shouldn', \"shouldn't\", 'wasn', \"wasn't\", 'weren', \"weren't\", 'won', \"won't\", 'wouldn', \"wouldn't\"]\n"
     ]
    }
   ],
   "source": [
    "from nltk.corpus import stopwords\n",
    "\n",
    "list_of_stopwords=stopwords.words(\"english\")\n",
    "\n",
    "print(list_of_stopwords)"
   ]
  },
  {
   "cell_type": "markdown",
   "metadata": {},
   "source": [
    "### Removing stopwords"
   ]
  },
  {
   "cell_type": "code",
   "execution_count": 258,
   "metadata": {},
   "outputs": [
    {
     "name": "stdout",
     "output_type": "stream",
     "text": [
      "['pressure', 'nitrogen', 'tank', 'max', 'pressure', 'hydrogen', 'tank', 'max', 'pressure', 'pump', 'current', 'pressure', 'nitrogen', 'tank', 'current', 'pressure', 'hydrogen', 'tank']\n",
      "18\n"
     ]
    }
   ],
   "source": [
    "clean_words=[w for w in words_no_punc if w not in list_of_stopwords]\n",
    "\n",
    "print(clean_words)\n",
    "\n",
    "print(len(clean_words))\n",
    "\n"
   ]
  },
  {
   "cell_type": "markdown",
   "metadata": {},
   "source": [
    "### Final frequency distribution"
   ]
  },
  {
   "cell_type": "code",
   "execution_count": 259,
   "metadata": {},
   "outputs": [
    {
     "data": {
      "text/plain": [
       "[('pressure', 5),\n",
       " ('tank', 4),\n",
       " ('nitrogen', 2),\n",
       " ('max', 2),\n",
       " ('hydrogen', 2),\n",
       " ('current', 2),\n",
       " ('pump', 1)]"
      ]
     },
     "execution_count": 259,
     "metadata": {},
     "output_type": "execute_result"
    }
   ],
   "source": [
    "fdist=FreqDist(clean_words)\n",
    "\n",
    "fdist.most_common(10)"
   ]
  },
  {
   "cell_type": "code",
   "execution_count": 260,
   "metadata": {},
   "outputs": [
    {
     "data": {
      "image/png": "[encoded data removed]",
      "text/plain": [
       "<Figure size 1080x576 with 1 Axes>"
      ]
     },
     "metadata": {},
     "output_type": "display_data"
    },
    {
     "data": {
      "text/plain": [
       "<AxesSubplot:xlabel='Samples', ylabel='Counts'>"
      ]
     },
     "execution_count": 260,
     "metadata": {},
     "output_type": "execute_result"
    }
   ],
   "source": [
    "fdist.plot(10)"
   ]
  },
  {
   "cell_type": "markdown",
   "metadata": {},
   "source": [
    "## Word Cloud"
   ]
  },
  {
   "cell_type": "code",
   "execution_count": 261,
   "metadata": {},
   "outputs": [
    {
     "data": {
      "image/png": "[encoded data removed]",
      "text/plain": [
       "<Figure size 864x864 with 1 Axes>"
      ]
     },
     "metadata": {},
     "output_type": "display_data"
    }
   ],
   "source": [
    "from wordcloud import WordCloud\n",
    "\n",
    "wordcloud=WordCloud().generate(text)\n",
    "\n",
    "\n",
    "plt.figure(figsize=(12,12))\n",
    "plt.imshow(wordcloud)\n",
    "\n",
    "plt.axis('off')\n",
    "plt.show()"
   ]
  },
  {
   "cell_type": "code",
   "execution_count": 262,
   "metadata": {},
   "outputs": [],
   "source": [
    "clean_words_joined=' '.join(clean_words)"
   ]
  },
  {
   "cell_type": "code",
   "execution_count": 263,
   "metadata": {},
   "outputs": [
    {
     "data": {
      "image/png": "[encoded data removed]",
      "text/plain": [
       "<Figure size 864x864 with 1 Axes>"
      ]
     },
     "metadata": {},
     "output_type": "display_data"
    }
   ],
   "source": [
    "wordcloud=WordCloud().generate(clean_words_joined)\n",
    "\n",
    "\n",
    "plt.figure(figsize=(12,12))\n",
    "plt.imshow(wordcloud)\n",
    "\n",
    "plt.axis('off')\n",
    "plt.show()"
   ]
  },
  {
   "cell_type": "code",
   "execution_count": 264,
   "metadata": {},
   "outputs": [
    {
     "data": {
      "text/plain": [
       "{'pressure': 1.0,\n",
       " 'tank': 0.8,\n",
       " 'nitrogen': 0.4,\n",
       " 'max': 0.4,\n",
       " 'hydrogen': 0.4,\n",
       " 'current': 0.4,\n",
       " 'pump': 0.2}"
      ]
     },
     "execution_count": 264,
     "metadata": {},
     "output_type": "execute_result"
    }
   ],
   "source": [
    "wordcloud.words_"
   ]
  },
  {
   "cell_type": "code",
   "execution_count": null,
   "metadata": {},
   "outputs": [],
   "source": []
  },
  {
   "cell_type": "markdown",
   "metadata": {},
   "source": [
    "## Stemming"
   ]
  },
  {
   "cell_type": "code",
   "execution_count": 265,
   "metadata": {},
   "outputs": [
    {
     "name": "stdout",
     "output_type": "stream",
     "text": [
      "['what', 'is', 'pressur', 'of', 'nitrogen', 'tank', '?', 'what', 'is', 'max', 'pressur', 'in', 'the', 'hydrogen', 'tank', '?', 'what', 'is', 'max', 'pressur', 'of', 'pump', 'h-6', '?', 'current', 'pressur', 'of', 'nitrogen', 'tank', '.', 'current', 'pressur', 'of', 'hydrogen', 'tank', '.']\n"
     ]
    }
   ],
   "source": [
    "from nltk.stem import PorterStemmer\n",
    "\n",
    "porter=PorterStemmer()\n",
    "\n",
    "# word_list=['Programming','Programmers','Programmable','orbiter','electrical','studies','leaves','plays','am','is','were']\n",
    "word_list=words\n",
    "\n",
    "stemmed_words=[porter.stem(w) for w in word_list]\n",
    "\n",
    "print(stemmed_words)"
   ]
  },
  {
   "cell_type": "markdown",
   "metadata": {},
   "source": [
    "## Lemmatization"
   ]
  },
  {
   "cell_type": "code",
   "execution_count": 266,
   "metadata": {},
   "outputs": [
    {
     "name": "stdout",
     "output_type": "stream",
     "text": [
      "word_list--->['what', 'is', 'pressure', 'of', 'nitrogen', 'tank', '?', 'what', 'is', 'max', 'pressure', 'in', 'the', 'hydrogen', 'tank', '?', 'what', 'is', 'max', 'pressure', 'of', 'pump', 'H-6', '?', 'current', 'pressure', 'of', 'nitrogen', 'tank', '.', 'current', 'pressure', 'of', 'hydrogen', 'tank', '.']\n",
      " POS:v\n",
      "['what', 'be', 'pressure', 'of', 'nitrogen', 'tank', '?', 'what', 'be', 'max', 'pressure', 'in', 'the', 'hydrogen', 'tank', '?', 'what', 'be', 'max', 'pressure', 'of', 'pump', 'H-6', '?', 'current', 'pressure', 'of', 'nitrogen', 'tank', '.', 'current', 'pressure', 'of', 'hydrogen', 'tank', '.']\n",
      " POS:n\n",
      "['what', 'is', 'pressure', 'of', 'nitrogen', 'tank', '?', 'what', 'is', 'max', 'pressure', 'in', 'the', 'hydrogen', 'tank', '?', 'what', 'is', 'max', 'pressure', 'of', 'pump', 'H-6', '?', 'current', 'pressure', 'of', 'nitrogen', 'tank', '.', 'current', 'pressure', 'of', 'hydrogen', 'tank', '.']\n",
      " POS:a\n",
      "['what', 'is', 'pressure', 'of', 'nitrogen', 'tank', '?', 'what', 'is', 'max', 'pressure', 'in', 'the', 'hydrogen', 'tank', '?', 'what', 'is', 'max', 'pressure', 'of', 'pump', 'H-6', '?', 'current', 'pressure', 'of', 'nitrogen', 'tank', '.', 'current', 'pressure', 'of', 'hydrogen', 'tank', '.']\n",
      " POS:r\n",
      "['what', 'is', 'pressure', 'of', 'nitrogen', 'tank', '?', 'what', 'is', 'max', 'pressure', 'in', 'the', 'hydrogen', 'tank', '?', 'what', 'is', 'max', 'pressure', 'of', 'pump', 'H-6', '?', 'current', 'pressure', 'of', 'nitrogen', 'tank', '.', 'current', 'pressure', 'of', 'hydrogen', 'tank', '.']\n"
     ]
    }
   ],
   "source": [
    "from nltk.stem import WordNetLemmatizer\n",
    "\n",
    "lemmatizer=WordNetLemmatizer()\n",
    "\n",
    "pos_list=['v','n','a','r']\n",
    "print(f'word_list--->{word_list}')\n",
    "for i in pos_list: \n",
    "    lemmatized_words=[lemmatizer.lemmatize(w,pos=i) for w in word_list]\n",
    "\n",
    "    print(f' POS:{i}\\n{lemmatized_words}')"
   ]
  },
  {
   "cell_type": "markdown",
   "metadata": {},
   "source": [
    "## Part of Speech Tagging (PoS tagging)"
   ]
  },
  {
   "cell_type": "code",
   "execution_count": 267,
   "metadata": {},
   "outputs": [
    {
     "name": "stdout",
     "output_type": "stream",
     "text": [
      "[('what', 'WP'), ('is', 'VBZ'), ('pressure', 'NN'), ('of', 'IN'), ('nitrogen', 'NN'), ('tank', 'NN'), ('?', '.'), ('what', 'WP'), ('is', 'VBZ'), ('max', 'JJ'), ('pressure', 'NN'), ('in', 'IN'), ('the', 'DT'), ('hydrogen', 'NN'), ('tank', 'NN'), ('?', '.'), ('what', 'WP'), ('is', 'VBZ'), ('max', 'JJ'), ('pressure', 'NN'), ('of', 'IN'), ('pump', 'NN'), ('H-6', 'NNP'), ('?', '.'), ('current', 'JJ'), ('pressure', 'NN'), ('of', 'IN'), ('nitrogen', 'NN'), ('tank', 'NN'), ('.', '.'), ('current', 'JJ'), ('pressure', 'NN'), ('of', 'IN'), ('hydrogen', 'NN'), ('tank', 'NN'), ('.', '.')]\n"
     ]
    }
   ],
   "source": [
    "tagged_words=nltk.pos_tag(word_list)\n",
    "print(tagged_words)"
   ]
  },
  {
   "cell_type": "code",
   "execution_count": 268,
   "metadata": {},
   "outputs": [],
   "source": [
    "# sentence='The three-person EO-3 crew docked with Salyut 7 on 9 February, 1984, and entered the darkened station carrying flashlights.'\n",
    "# sentence=text\n",
    "\n",
    "# tokenized_words=word_tokenize(sentence)\n",
    "\n",
    "# tagged_words=nltk.pos_tag(tokenized_words)\n",
    "\n",
    "# tagged_words"
   ]
  },
  {
   "cell_type": "markdown",
   "metadata": {},
   "source": [
    "## Chunking"
   ]
  },
  {
   "cell_type": "code",
   "execution_count": 269,
   "metadata": {},
   "outputs": [
    {
     "name": "stdout",
     "output_type": "stream",
     "text": [
      "(S\n",
      "  what/WP\n",
      "  is/VBZ\n",
      "  (NP pressure/NN)\n",
      "  of/IN\n",
      "  (NP nitrogen/NN)\n",
      "  (NP tank/NN)\n",
      "  ?/.\n",
      "  what/WP\n",
      "  is/VBZ\n",
      "  (NP max/JJ pressure/NN)\n",
      "  in/IN\n",
      "  (NP the/DT hydrogen/NN)\n",
      "  (NP tank/NN)\n",
      "  ?/.\n",
      "  what/WP\n",
      "  is/VBZ\n",
      "  (NP max/JJ pressure/NN)\n",
      "  of/IN\n",
      "  (NP pump/NN)\n",
      "  H-6/NNP\n",
      "  ?/.\n",
      "  (NP current/JJ pressure/NN)\n",
      "  of/IN\n",
      "  (NP nitrogen/NN)\n",
      "  (NP tank/NN)\n",
      "  ./.\n",
      "  (NP current/JJ pressure/NN)\n",
      "  of/IN\n",
      "  (NP hydrogen/NN)\n",
      "  (NP tank/NN)\n",
      "  ./.)\n"
     ]
    }
   ],
   "source": [
    "grammar=\"NP : {<DT>?<JJ>*<NN>} \"\n",
    "\n",
    "parser=nltk.RegexpParser(grammar)\n",
    "\n",
    "output= parser.parse(tagged_words)\n",
    "\n",
    "print(output)\n",
    "# output.draw()"
   ]
  },
  {
   "cell_type": "code",
   "execution_count": null,
   "metadata": {},
   "outputs": [],
   "source": []
  },
  {
   "cell_type": "markdown",
   "metadata": {},
   "source": [
    "## Chinking"
   ]
  },
  {
   "cell_type": "code",
   "execution_count": 270,
   "metadata": {},
   "outputs": [
    {
     "name": "stdout",
     "output_type": "stream",
     "text": [
      "(S\n",
      "  (NP\n",
      "    what/WP\n",
      "    is/VBZ\n",
      "    pressure/NN\n",
      "    of/IN\n",
      "    nitrogen/NN\n",
      "    tank/NN\n",
      "    ?/.\n",
      "    what/WP\n",
      "    is/VBZ)\n",
      "  max/JJ\n",
      "  (NP\n",
      "    pressure/NN\n",
      "    in/IN\n",
      "    the/DT\n",
      "    hydrogen/NN\n",
      "    tank/NN\n",
      "    ?/.\n",
      "    what/WP\n",
      "    is/VBZ)\n",
      "  max/JJ\n",
      "  (NP pressure/NN of/IN pump/NN H-6/NNP ?/.)\n",
      "  current/JJ\n",
      "  (NP pressure/NN of/IN nitrogen/NN tank/NN ./.)\n",
      "  current/JJ\n",
      "  (NP pressure/NN of/IN hydrogen/NN tank/NN ./.))\n"
     ]
    }
   ],
   "source": [
    "grammar=r\"\"\"NP : {<.*>+}\n",
    "}<JJ>+{\"\"\"\n",
    "parser=nltk.RegexpParser(grammar)\n",
    "\n",
    "output= parser.parse(tagged_words)\n",
    "\n",
    "print(output)\n",
    "# output.draw()"
   ]
  },
  {
   "cell_type": "markdown",
   "metadata": {},
   "source": [
    "## Named Entity Recognition (NER)"
   ]
  },
  {
   "cell_type": "code",
   "execution_count": 271,
   "metadata": {},
   "outputs": [
    {
     "name": "stdout",
     "output_type": "stream",
     "text": [
      "(S\n",
      "  what/WP\n",
      "  is/VBZ\n",
      "  pressure/NN\n",
      "  of/IN\n",
      "  nitrogen/NN\n",
      "  tank/NN\n",
      "  ?/.\n",
      "  what/WP\n",
      "  is/VBZ\n",
      "  max/JJ\n",
      "  pressure/NN\n",
      "  in/IN\n",
      "  the/DT\n",
      "  hydrogen/NN\n",
      "  tank/NN\n",
      "  ?/.\n",
      "  what/WP\n",
      "  is/VBZ\n",
      "  max/JJ\n",
      "  pressure/NN\n",
      "  of/IN\n",
      "  pump/NN\n",
      "  H-6/NNP\n",
      "  ?/.\n",
      "  current/JJ\n",
      "  pressure/NN\n",
      "  of/IN\n",
      "  nitrogen/NN\n",
      "  tank/NN\n",
      "  ./.\n",
      "  current/JJ\n",
      "  pressure/NN\n",
      "  of/IN\n",
      "  hydrogen/NN\n",
      "  tank/NN\n",
      "  ./.)\n"
     ]
    }
   ],
   "source": [
    "sentence=text\n",
    "\n",
    "tokenized_words=word_tokenize(sentence)\n",
    "\n",
    "tagged_words=nltk.pos_tag(tokenized_words)\n",
    "N_E_R=nltk.ne_chunk(tagged_words,binary=False)\n",
    "\n",
    "print(N_E_R)"
   ]
  },
  {
   "cell_type": "code",
   "execution_count": 272,
   "metadata": {},
   "outputs": [],
   "source": [
    "# N_E_R.draw()\n"
   ]
  },
  {
   "cell_type": "markdown",
   "metadata": {},
   "source": [
    "## WordNet"
   ]
  },
  {
   "cell_type": "code",
   "execution_count": 273,
   "metadata": {},
   "outputs": [],
   "source": [
    "from nltk.corpus import wordnet\n",
    "\n"
   ]
  },
  {
   "cell_type": "code",
   "execution_count": 274,
   "metadata": {},
   "outputs": [
    {
     "name": "stdout",
     "output_type": "stream",
     "text": [
      "mars.n.01\n",
      "a small reddish planet that is the 4th from the sun and is periodically visible to the naked eye; minerals rich in iron cover its surface and are responsible for its characteristic color\n",
      "['Mars has two satellites']\n",
      "\n",
      "Lemma('mars.n.01.Mars')\n",
      "Lemma('mars.n.01.Red_Planet')\n",
      "\n",
      "\n",
      "mars.n.02\n",
      "(Roman mythology) Roman god of war and agriculture; father of Romulus and Remus; counterpart of Greek Ares\n",
      "[]\n",
      "\n",
      "Lemma('mars.n.02.Mars')\n",
      "\n",
      "\n",
      "march.n.01\n",
      "the month following February and preceding April\n",
      "[]\n",
      "\n",
      "Lemma('march.n.01.March')\n",
      "Lemma('march.n.01.Mar')\n",
      "\n",
      "\n",
      "blemish.n.01\n",
      "a mark or flaw that spoils the appearance of something (especially on a person's body)\n",
      "['a facial blemish']\n",
      "\n",
      "Lemma('blemish.n.01.blemish')\n",
      "Lemma('blemish.n.01.defect')\n",
      "Lemma('blemish.n.01.mar')\n",
      "\n",
      "\n",
      "mar.v.01\n",
      "make imperfect\n",
      "['nothing marred her beauty']\n",
      "\n",
      "Lemma('mar.v.01.mar')\n",
      "Lemma('mar.v.01.impair')\n",
      "Lemma('mar.v.01.spoil')\n",
      "Lemma('mar.v.01.deflower')\n",
      "Lemma('mar.v.01.vitiate')\n",
      "\n",
      "\n",
      "mutilate.v.03\n",
      "destroy or injure severely\n",
      "['mutilated bodies']\n",
      "\n",
      "Lemma('mutilate.v.03.mutilate')\n",
      "Lemma('mutilate.v.03.mar')\n",
      "\n",
      "\n"
     ]
    }
   ],
   "source": [
    "for words in wordnet.synsets('Mars'):\n",
    "    print(f'{words.name()}\\n{words.definition()}\\n{words.examples()}\\n')\n",
    "\n",
    "    for lemma in words.lemmas():\n",
    "        print(lemma)\n",
    "    print('\\n')"
   ]
  },
  {
   "cell_type": "markdown",
   "metadata": {},
   "source": [
    "###  Hypernyms: Hypernyms gives us a more abstract term for a word."
   ]
  },
  {
   "cell_type": "code",
   "execution_count": 275,
   "metadata": {},
   "outputs": [
    {
     "name": "stdout",
     "output_type": "stream",
     "text": [
      "[Synset('vehicle.n.01')]\n"
     ]
    }
   ],
   "source": [
    "word=wordnet.synsets('rocket')[0]\n",
    "\n",
    "print(word.hypernyms())"
   ]
  },
  {
   "cell_type": "markdown",
   "metadata": {},
   "source": [
    "### Hyponyms: Hyponyms gives us a more specific term for a word."
   ]
  },
  {
   "cell_type": "code",
   "execution_count": 276,
   "metadata": {},
   "outputs": [
    {
     "name": "stdout",
     "output_type": "stream",
     "text": [
      "[Synset('missile.n.01'), Synset('multistage_rocket.n.01'), Synset('test_rocket.n.01')]\n"
     ]
    }
   ],
   "source": [
    "word=wordnet.synsets('rocket')[0]\n",
    "\n",
    "print(word.hyponyms())"
   ]
  },
  {
   "cell_type": "code",
   "execution_count": 277,
   "metadata": {},
   "outputs": [
    {
     "data": {
      "text/plain": [
       "['missile.n.01', 'multistage_rocket.n.01', 'test_rocket.n.01']"
      ]
     },
     "execution_count": 277,
     "metadata": {},
     "output_type": "execute_result"
    }
   ],
   "source": [
    "[word.hyponyms()[i].name() for i in range(len(word.hyponyms()))]"
   ]
  },
  {
   "cell_type": "markdown",
   "metadata": {},
   "source": [
    "### Get a name only"
   ]
  },
  {
   "cell_type": "code",
   "execution_count": 278,
   "metadata": {},
   "outputs": [
    {
     "name": "stdout",
     "output_type": "stream",
     "text": [
      "rocket\n"
     ]
    }
   ],
   "source": [
    "word=wordnet.synsets('rocket')[0]\n",
    "print(word.lemmas()[0].name())"
   ]
  },
  {
   "cell_type": "markdown",
   "metadata": {},
   "source": [
    "### Synonyms."
   ]
  },
  {
   "cell_type": "code",
   "execution_count": 279,
   "metadata": {},
   "outputs": [
    {
     "data": {
      "text/plain": [
       "['rocket',\n",
       " 'projectile',\n",
       " 'rocket',\n",
       " 'rocket_engine',\n",
       " 'rocket',\n",
       " 'roquette',\n",
       " 'garden_rocket',\n",
       " 'rocket_salad',\n",
       " 'arugula',\n",
       " 'Eruca_sativa',\n",
       " 'Eruca_vesicaria_sativa',\n",
       " 'rocket',\n",
       " 'skyrocket',\n",
       " 'skyrocket',\n",
       " 'rocket',\n",
       " 'rocket',\n",
       " 'skyrocket',\n",
       " 'rocket']"
      ]
     },
     "execution_count": 279,
     "metadata": {},
     "output_type": "execute_result"
    }
   ],
   "source": [
    "synonyms=[]\n",
    "\n",
    "for words in wordnet.synsets('rocket'):\n",
    "    for lemma in words.lemmas():\n",
    "        synonyms.append(lemma.name())\n",
    "synonyms"
   ]
  },
  {
   "cell_type": "markdown",
   "metadata": {},
   "source": [
    "### Antonyms"
   ]
  },
  {
   "cell_type": "code",
   "execution_count": 280,
   "metadata": {},
   "outputs": [
    {
     "data": {
      "text/plain": [
       "['unnatural', 'artificial', 'supernatural', 'sharp']"
      ]
     },
     "execution_count": 280,
     "metadata": {},
     "output_type": "execute_result"
    }
   ],
   "source": [
    "antonyms=[]\n",
    "\n",
    "for words in wordnet.synsets('Natural'):\n",
    "    for lemma in words.lemmas():\n",
    "        if lemma.antonyms():\n",
    "            antonyms.append(lemma.antonyms()[0].name())\n",
    "antonyms"
   ]
  },
  {
   "cell_type": "code",
   "execution_count": null,
   "metadata": {},
   "outputs": [],
   "source": []
  },
  {
   "cell_type": "markdown",
   "metadata": {},
   "source": [
    "### Synonyms and antonyms"
   ]
  },
  {
   "cell_type": "code",
   "execution_count": 281,
   "metadata": {},
   "outputs": [
    {
     "name": "stdout",
     "output_type": "stream",
     "text": [
      "synonyms:\n",
      "['natural', 'natural', 'cancel', 'natural', 'natural', 'natural', 'natural', 'natural', 'natural', 'natural', 'instinctive', 'natural', 'raw', 'rude', 'natural', 'natural', 'born', 'innate', 'lifelike', 'natural']\n",
      "\n",
      "antonyms:\n",
      "['unnatural', 'artificial', 'supernatural', 'sharp']\n",
      "\n"
     ]
    }
   ],
   "source": [
    "synonyms=[]\n",
    "antonyms=[]\n",
    "for words in wordnet.synsets('Natural'):\n",
    "    for lemma in words.lemmas():\n",
    "        synonyms.append(lemma.name())\n",
    "        if lemma.antonyms():\n",
    "            antonyms.append(lemma.antonyms()[0].name())\n",
    "\n",
    "\n",
    "print(f'synonyms:\\n{synonyms}\\n')\n",
    "print(f'antonyms:\\n{antonyms}\\n')"
   ]
  },
  {
   "cell_type": "code",
   "execution_count": null,
   "metadata": {},
   "outputs": [],
   "source": []
  },
  {
   "cell_type": "markdown",
   "metadata": {},
   "source": [
    "###  Finding the similarity between words"
   ]
  },
  {
   "cell_type": "code",
   "execution_count": 282,
   "metadata": {},
   "outputs": [
    {
     "data": {
      "text/plain": [
       "0.4"
      ]
     },
     "execution_count": 282,
     "metadata": {},
     "output_type": "execute_result"
    }
   ],
   "source": [
    "word1=wordnet.synsets('ship','n')[0]\n",
    "\n",
    "word2=wordnet.synsets('dog','n')[0]\n",
    "\n",
    "word1.wup_similarity(word2)\n"
   ]
  },
  {
   "cell_type": "code",
   "execution_count": null,
   "metadata": {},
   "outputs": [],
   "source": []
  },
  {
   "cell_type": "markdown",
   "metadata": {},
   "source": [
    "# Bag-of-Words"
   ]
  },
  {
   "cell_type": "code",
   "execution_count": 283,
   "metadata": {},
   "outputs": [],
   "source": [
    "# from collections import Counter\n",
    "\n",
    "# text=text.lower()\n",
    "# Counter(word_tokenize(text))\n",
    "\n",
    "# Counter(text).most_common(2)\n",
    "# Counter(word_tokenize(text)).most_common(2)"
   ]
  },
  {
   "cell_type": "code",
   "execution_count": 284,
   "metadata": {},
   "outputs": [
    {
     "name": "stdout",
     "output_type": "stream",
     "text": [
      "{'pressure': 4, 'nitrogen': 3, 'tank': 6, 'max': 2, 'hydrogen': 1, 'pump': 5, 'current': 0}\n",
      "['current', 'hydrogen', 'max', 'nitrogen', 'pressure', 'pump', 'tank']\n",
      "[[0 0 0 1 1 0 1]\n",
      " [0 1 1 0 1 0 1]\n",
      " [0 0 1 0 1 1 0]\n",
      " [1 0 0 1 1 0 1]\n",
      " [1 1 0 0 1 0 1]]\n",
      "BOW shape: (5, 7)\n",
      "[2 2 2 2 5 1 4]\n",
      "[('pressure', 5), ('tank', 4), ('nitrogen', 2), ('max', 2), ('hydrogen', 2), ('current', 2), ('pump', 1)]\n"
     ]
    },
    {
     "name": "stderr",
     "output_type": "stream",
     "text": [
      "c:\\Users\\dowdj\\OneDrive\\Documents\\GitHub\\NLP-Training\\nltk\\venv\\lib\\site-packages\\sklearn\\utils\\deprecation.py:87: FutureWarning: Function get_feature_names is deprecated; get_feature_names is deprecated in 1.0 and will be removed in 1.2. Please use get_feature_names_out instead.\n",
      "  warnings.warn(msg, category=FutureWarning)\n"
     ]
    }
   ],
   "source": [
    "from sklearn.feature_extraction.text import CountVectorizer\n",
    "\n",
    "# sentences=['Jim is a person', 'Jim likes to fly.', 'Jim wants to walk his dog.']\n",
    "\n",
    "ngrams=1\n",
    "cv=CountVectorizer(stop_words='english',ngram_range=(ngrams,ngrams))\n",
    "\n",
    "B_O_W= cv.fit_transform(sentences).toarray()\n",
    "sum_words = B_O_W.sum(axis=0)\n",
    "words_freq = [(word, sum_words[idx]) for word, idx in cv.vocabulary_.items()]\n",
    "words_freq =sorted(words_freq, key = lambda x: x[1],reverse=True)\n",
    "\n",
    "\n",
    "print(cv.vocabulary_)\n",
    "print(cv.get_feature_names())\n",
    "print(B_O_W)\n",
    "print(f'BOW shape: {B_O_W.shape}')\n",
    "print(sum_words)\n",
    "print(words_freq)"
   ]
  },
  {
   "cell_type": "code",
   "execution_count": 285,
   "metadata": {},
   "outputs": [
    {
     "data": {
      "text/html": [
       "<div>\n",
       "<style scoped>\n",
       "    .dataframe tbody tr th:only-of-type {\n",
       "        vertical-align: middle;\n",
       "    }\n",
       "\n",
       "    .dataframe tbody tr th {\n",
       "        vertical-align: top;\n",
       "    }\n",
       "\n",
       "    .dataframe thead th {\n",
       "        text-align: right;\n",
       "    }\n",
       "</style>\n",
       "<table border=\"1\" class=\"dataframe\">\n",
       "  <thead>\n",
       "    <tr style=\"text-align: right;\">\n",
       "      <th></th>\n",
       "      <th>Word</th>\n",
       "      <th>Freq</th>\n",
       "    </tr>\n",
       "  </thead>\n",
       "  <tbody>\n",
       "    <tr>\n",
       "      <th>0</th>\n",
       "      <td>pressure</td>\n",
       "      <td>5</td>\n",
       "    </tr>\n",
       "    <tr>\n",
       "      <th>1</th>\n",
       "      <td>tank</td>\n",
       "      <td>4</td>\n",
       "    </tr>\n",
       "    <tr>\n",
       "      <th>2</th>\n",
       "      <td>nitrogen</td>\n",
       "      <td>2</td>\n",
       "    </tr>\n",
       "    <tr>\n",
       "      <th>3</th>\n",
       "      <td>max</td>\n",
       "      <td>2</td>\n",
       "    </tr>\n",
       "    <tr>\n",
       "      <th>4</th>\n",
       "      <td>hydrogen</td>\n",
       "      <td>2</td>\n",
       "    </tr>\n",
       "  </tbody>\n",
       "</table>\n",
       "</div>"
      ],
      "text/plain": [
       "       Word  Freq\n",
       "0  pressure     5\n",
       "1      tank     4\n",
       "2  nitrogen     2\n",
       "3       max     2\n",
       "4  hydrogen     2"
      ]
     },
     "execution_count": 285,
     "metadata": {},
     "output_type": "execute_result"
    }
   ],
   "source": [
    "n=20\n",
    "top_words = words_freq[0:n]\n",
    "top_df = pd.DataFrame(top_words)\n",
    "top_df.columns=[\"Word\", \"Freq\"]\n",
    "\n",
    "top_df.head()"
   ]
  },
  {
   "cell_type": "code",
   "execution_count": 286,
   "metadata": {},
   "outputs": [
    {
     "data": {
      "text/plain": [
       "[Text(0, 0, 'pressure'),\n",
       " Text(1, 0, 'tank'),\n",
       " Text(2, 0, 'nitrogen'),\n",
       " Text(3, 0, 'max'),\n",
       " Text(4, 0, 'hydrogen'),\n",
       " Text(5, 0, 'current'),\n",
       " Text(6, 0, 'pump')]"
      ]
     },
     "execution_count": 286,
     "metadata": {},
     "output_type": "execute_result"
    },
    {
     "data": {
      "image/png": "[encoded data removed]",
      "text/plain": [
       "<Figure size 1080x576 with 1 Axes>"
      ]
     },
     "metadata": {},
     "output_type": "display_data"
    }
   ],
   "source": [
    "sns.set(rc={'figure.figsize':(15,8)})\n",
    "g = sns.barplot(x=\"Word\", y=\"Freq\", data=top_df)\n",
    "g.set_xticklabels(g.get_xticklabels(), rotation=30)"
   ]
  },
  {
   "cell_type": "code",
   "execution_count": null,
   "metadata": {},
   "outputs": [],
   "source": []
  },
  {
   "cell_type": "code",
   "execution_count": 287,
   "metadata": {},
   "outputs": [
    {
     "data": {
      "text/plain": [
       "[('what', 'WP'),\n",
       " ('is', 'VBZ'),\n",
       " ('pressure', 'NN'),\n",
       " ('of', 'IN'),\n",
       " ('nitrogen', 'NN'),\n",
       " ('tank', 'NN'),\n",
       " ('?', '.'),\n",
       " ('what', 'WP'),\n",
       " ('is', 'VBZ'),\n",
       " ('max', 'JJ'),\n",
       " ('pressure', 'NN'),\n",
       " ('in', 'IN'),\n",
       " ('the', 'DT'),\n",
       " ('hydrogen', 'NN'),\n",
       " ('tank', 'NN'),\n",
       " ('?', '.'),\n",
       " ('what', 'WP'),\n",
       " ('is', 'VBZ'),\n",
       " ('max', 'JJ'),\n",
       " ('pressure', 'NN'),\n",
       " ('of', 'IN'),\n",
       " ('pump', 'NN'),\n",
       " ('H-6', 'NNP'),\n",
       " ('?', '.'),\n",
       " ('current', 'JJ'),\n",
       " ('pressure', 'NN'),\n",
       " ('of', 'IN'),\n",
       " ('nitrogen', 'NN'),\n",
       " ('tank', 'NN'),\n",
       " ('.', '.'),\n",
       " ('current', 'JJ'),\n",
       " ('pressure', 'NN'),\n",
       " ('of', 'IN'),\n",
       " ('hydrogen', 'NN'),\n",
       " ('tank', 'NN'),\n",
       " ('.', '.')]"
      ]
     },
     "execution_count": 287,
     "metadata": {},
     "output_type": "execute_result"
    }
   ],
   "source": [
    "sentence=text\n",
    "\n",
    "tokenized_words=word_tokenize(sentence)\n",
    "\n",
    "tagged_words=nltk.pos_tag(tokenized_words)\n",
    "\n",
    "\n",
    "\n",
    "tagged_words"
   ]
  },
  {
   "cell_type": "code",
   "execution_count": null,
   "metadata": {},
   "outputs": [],
   "source": []
  },
  {
   "cell_type": "markdown",
   "metadata": {},
   "source": [
    "## TF-IDF"
   ]
  },
  {
   "cell_type": "code",
   "execution_count": 288,
   "metadata": {},
   "outputs": [],
   "source": [
    "# num_of_words=sum(sum_words.tolist())\n",
    "# num_of_words\n",
    "\n",
    "\n",
    "# doc_words=cv.get_feature_names_out()\n",
    "\n",
    "# freq=[round((i/4),3) for i in sum_words]\n",
    "\n",
    "# len(doc_words)\n",
    "# print(f'features: {doc_words}\\nword counts: {sum_words}\\nword frequency: {freq}')\n",
    "# N=2\n",
    "# num_docs_contain_word=1\n",
    "# freq[0]*math.log(N/num_docs_contain_word)"
   ]
  },
  {
   "cell_type": "code",
   "execution_count": null,
   "metadata": {},
   "outputs": [],
   "source": []
  },
  {
   "cell_type": "code",
   "execution_count": 289,
   "metadata": {},
   "outputs": [
    {
     "name": "stdout",
     "output_type": "stream",
     "text": [
      "{'pressure': 4, 'nitrogen': 3, 'tank': 6, 'max': 2, 'hydrogen': 1, 'pump': 5, 'current': 0}\n",
      "['current', 'hydrogen', 'max', 'nitrogen', 'pressure', 'pump', 'tank']\n",
      "[[0.         0.         0.         0.73792244 0.43582888 0.\n",
      "  0.51528988]\n",
      " [0.         0.59376229 0.59376229 0.         0.35068557 0.\n",
      "  0.41462311]\n",
      " [0.         0.         0.58873218 0.         0.34771471 0.72971837\n",
      "  0.        ]\n",
      " [0.59376229 0.         0.         0.59376229 0.35068557 0.\n",
      "  0.41462311]\n",
      " [0.59376229 0.59376229 0.         0.         0.35068557 0.\n",
      "  0.41462311]]\n"
     ]
    },
    {
     "name": "stderr",
     "output_type": "stream",
     "text": [
      "c:\\Users\\dowdj\\OneDrive\\Documents\\GitHub\\NLP-Training\\nltk\\venv\\lib\\site-packages\\sklearn\\utils\\deprecation.py:87: FutureWarning: Function get_feature_names is deprecated; get_feature_names is deprecated in 1.0 and will be removed in 1.2. Please use get_feature_names_out instead.\n",
      "  warnings.warn(msg, category=FutureWarning)\n"
     ]
    }
   ],
   "source": [
    "from sklearn.feature_extraction.text import TfidfVectorizer\n",
    "\n",
    "vectorizer=TfidfVectorizer(norm='l2',stop_words='english')\n",
    "\n",
    "X=vectorizer.fit_transform(sentences).toarray()\n",
    "\n",
    "print(vectorizer.vocabulary_)\n",
    "print(vectorizer.get_feature_names())\n",
    "print(X)"
   ]
  },
  {
   "cell_type": "code",
   "execution_count": 290,
   "metadata": {},
   "outputs": [
    {
     "data": {
      "text/plain": [
       "(5, 7)"
      ]
     },
     "execution_count": 290,
     "metadata": {},
     "output_type": "execute_result"
    }
   ],
   "source": [
    "X.shape"
   ]
  },
  {
   "cell_type": "markdown",
   "metadata": {},
   "source": [
    "## Sidebar"
   ]
  },
  {
   "cell_type": "code",
   "execution_count": null,
   "metadata": {},
   "outputs": [],
   "source": []
  },
  {
   "cell_type": "code",
   "execution_count": null,
   "metadata": {},
   "outputs": [],
   "source": []
  }
 ],
 "metadata": {
  "interpreter": {
   "hash": "6a7267efbf6fadf323e6919ae49483da79d63800eb323ed7cd34ea2e36e2688e"
  },
  "kernelspec": {
   "display_name": "Python 3.8.6 64-bit ('venv': venv)",
   "name": "python3"
  },
  "language_info": {
   "codemirror_mode": {
    "name": "ipython",
    "version": 3
   },
   "file_extension": ".py",
   "mimetype": "text/x-python",
   "name": "python",
   "nbconvert_exporter": "python",
   "pygments_lexer": "ipython3",
   "version": "3.8.6"
  },
  "orig_nbformat": 4
 },
 "nbformat": 4,
 "nbformat_minor": 2
}
