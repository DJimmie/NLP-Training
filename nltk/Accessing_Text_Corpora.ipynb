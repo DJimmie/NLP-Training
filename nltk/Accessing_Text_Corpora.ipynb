{
    "cells": [
        {
            "cell_type": "code",
            "execution_count": null,
            "source": [
                "x=5         "
            ],
            "outputs": [],
            "metadata": {}
        },
        {
            "cell_type": "code",
            "execution_count": null,
            "source": [
                "import nltk"
            ],
            "outputs": [],
            "metadata": {}
        },
        {
            "cell_type": "code",
            "execution_count": null,
            "source": [
                "from nltk.corpus import gutenberg\r\n",
                "gutenberg.fileids()"
            ],
            "outputs": [],
            "metadata": {}
        },
        {
            "cell_type": "code",
            "execution_count": null,
            "source": [
                "emma = gutenberg.words('austen-emma.txt')\r\n",
                "len(emma)"
            ],
            "outputs": [],
            "metadata": {}
        },
        {
            "cell_type": "code",
            "execution_count": null,
            "source": [
                "for fileid in gutenberg.fileids():\r\n",
                "    num_chars = len(gutenberg.raw(fileid))\r\n",
                "    num_words = len(gutenberg.words(fileid))\r\n",
                "    num_sents = len(gutenberg.sents(fileid))\r\n",
                "    num_vocab = len(set(w.lower() for w in gutenberg.words(fileid)))\r\n",
                "    print(round(num_chars/num_words), round(num_words/num_sents), round(num_words/num_vocab), fileid)"
            ],
            "outputs": [],
            "metadata": {}
        },
        {
            "cell_type": "code",
            "execution_count": null,
            "source": [
                "macbeth_sentences = gutenberg.sents('shakespeare-macbeth.txt')\r\n",
                "macbeth_sentences"
            ],
            "outputs": [],
            "metadata": {}
        },
        {
            "cell_type": "code",
            "execution_count": null,
            "source": [
                "macbeth_sentences[1116]"
            ],
            "outputs": [],
            "metadata": {}
        },
        {
            "cell_type": "code",
            "execution_count": null,
            "source": [
                "longest_len = max(len(s) for s in macbeth_sentences)\r\n",
                "[s for s in macbeth_sentences if len(s) == longest_len]"
            ],
            "outputs": [],
            "metadata": {}
        },
        {
            "cell_type": "code",
            "execution_count": null,
            "source": [
                "raw = gutenberg.raw(\"burgess-busterbrown.txt\")\r\n",
                "raw[1:20]   "
            ],
            "outputs": [],
            "metadata": {}
        },
        {
            "cell_type": "code",
            "execution_count": null,
            "source": [
                "words = gutenberg.words(\"burgess-busterbrown.txt\")\r\n",
                "print(len(words))\r\n",
                "words[1:20]"
            ],
            "outputs": [],
            "metadata": {}
        },
        {
            "cell_type": "code",
            "execution_count": null,
            "source": [
                "sents = gutenberg.sents(\"burgess-busterbrown.txt\")\r\n",
                "sents[1:20]"
            ],
            "outputs": [],
            "metadata": {}
        },
        {
            "cell_type": "code",
            "execution_count": null,
            "source": [
                "from nltk.corpus import inaugural\r\n",
                "inaugural.fileids()"
            ],
            "outputs": [],
            "metadata": {}
        },
        {
            "cell_type": "code",
            "execution_count": null,
            "source": [
                "[fileid[:4] for fileid in inaugural.fileids()]"
            ],
            "outputs": [],
            "metadata": {}
        },
        {
            "cell_type": "code",
            "execution_count": null,
            "source": [
                "cfd = nltk.ConditionalFreqDist(\r\n",
                "(target, fileid[:4])\r\n",
                "for fileid in inaugural.fileids()\r\n",
                "for w in inaugural.words(fileid)\r\n",
                "for target in ['america', 'citizen']\r\n",
                "if w.lower().startswith(target))\r\n",
                "cfd.plot()"
            ],
            "outputs": [],
            "metadata": {}
        }
    ],
    "metadata": {
        "orig_nbformat": 4,
        "language_info": {
            "name": "python",
            "version": "3.8.6",
            "mimetype": "text/x-python",
            "codemirror_mode": {
                "name": "ipython",
                "version": 3
            },
            "pygments_lexer": "ipython3",
            "nbconvert_exporter": "python",
            "file_extension": ".py"
        },
        "kernelspec": {
            "name": "python3",
            "display_name": "Python 3.8.6 64-bit ('venv': venv)"
        },
        "interpreter": {
            "hash": "6a7267efbf6fadf323e6919ae49483da79d63800eb323ed7cd34ea2e36e2688e"
        }
    },
    "nbformat": 4,
    "nbformat_minor": 2
}