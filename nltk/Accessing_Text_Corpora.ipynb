{
    "cells": [
        {
            "cell_type": "code",
            "execution_count": null,
            "metadata": {},
            "outputs": [],
            "source": [
                "x=5         "
            ]
        },
        {
            "cell_type": "code",
            "execution_count": null,
            "metadata": {},
            "outputs": [],
            "source": [
                "import nltk"
            ]
        },
        {
            "cell_type": "code",
            "execution_count": null,
            "metadata": {},
            "outputs": [],
            "source": [
                "from nltk.corpus import gutenberg\n",
                "gutenberg.fileids()"
            ]
        },
        {
            "cell_type": "code",
            "execution_count": null,
            "metadata": {},
            "outputs": [],
            "source": [
                "emma = gutenberg.words('austen-emma.txt')\n",
                "len(emma)"
            ]
        },
        {
            "cell_type": "code",
            "execution_count": null,
            "metadata": {},
            "outputs": [],
            "source": [
                "for fileid in gutenberg.fileids():\n",
                "    num_chars = len(gutenberg.raw(fileid))\n",
                "    num_words = len(gutenberg.words(fileid))\n",
                "    num_sents = len(gutenberg.sents(fileid))\n",
                "    num_vocab = len(set(w.lower() for w in gutenberg.words(fileid)))\n",
                "    print(round(num_chars/num_words), round(num_words/num_sents), round(num_words/num_vocab), fileid)"
            ]
        },
        {
            "cell_type": "code",
            "execution_count": null,
            "metadata": {},
            "outputs": [],
            "source": [
                "macbeth_sentences = gutenberg.sents('shakespeare-macbeth.txt')\n",
                "macbeth_sentences"
            ]
        },
        {
            "cell_type": "code",
            "execution_count": null,
            "metadata": {},
            "outputs": [],
            "source": [
                "macbeth_sentences[1116]"
            ]
        },
        {
            "cell_type": "code",
            "execution_count": null,
            "metadata": {},
            "outputs": [],
            "source": [
                "longest_len = max(len(s) for s in macbeth_sentences)\n",
                "[s for s in macbeth_sentences if len(s) == longest_len]"
            ]
        },
        {
            "cell_type": "code",
            "execution_count": null,
            "metadata": {},
            "outputs": [],
            "source": [
                "raw = gutenberg.raw(\"burgess-busterbrown.txt\")\n",
                "raw[1:20]   "
            ]
        },
        {
            "cell_type": "code",
            "execution_count": null,
            "metadata": {},
            "outputs": [],
            "source": [
                "words = gutenberg.words(\"burgess-busterbrown.txt\")\n",
                "print(len(words))\n",
                "words[1:20]"
            ]
        },
        {
            "cell_type": "code",
            "execution_count": null,
            "metadata": {},
            "outputs": [],
            "source": [
                "sents = gutenberg.sents(\"burgess-busterbrown.txt\")\n",
                "sents[1:20]"
            ]
        },
        {
            "cell_type": "code",
            "execution_count": null,
            "metadata": {},
            "outputs": [],
            "source": [
                "from nltk.corpus import inaugural\n",
                "inaugural.fileids()"
            ]
        },
        {
            "cell_type": "code",
            "execution_count": null,
            "metadata": {},
            "outputs": [],
            "source": [
                "[fileid[:4] for fileid in inaugural.fileids()]"
            ]
        },
        {
            "cell_type": "code",
            "execution_count": null,
            "metadata": {},
            "outputs": [],
            "source": [
                "cfd = nltk.ConditionalFreqDist(\n",
                "(target, fileid[:4])\n",
                "for fileid in inaugural.fileids()\n",
                "for w in inaugural.words(fileid)\n",
                "for target in ['america', 'citizen']\n",
                "if w.lower().startswith(target))\n",
                "cfd.plot()"
            ]
        }
    ],
    "metadata": {
        "interpreter": {
            "hash": "6a7267efbf6fadf323e6919ae49483da79d63800eb323ed7cd34ea2e36e2688e"
        },
        "kernelspec": {
            "display_name": "Python 3.8.6 64-bit ('venv': venv)",
            "name": "python3"
        },
        "language_info": {
            "codemirror_mode": {
                "name": "ipython",
                "version": 3
            },
            "file_extension": ".py",
            "mimetype": "text/x-python",
            "name": "python",
            "nbconvert_exporter": "python",
            "pygments_lexer": "ipython3",
            "version": "3.8.6"
        },
        "orig_nbformat": 4
    },
    "nbformat": 4,
    "nbformat_minor": 2
}
