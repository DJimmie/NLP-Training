{
 "cells": [
  {
   "cell_type": "markdown",
   "metadata": {},
   "source": [
    "# Chatbox #1"
   ]
  },
  {
   "cell_type": "markdown",
   "metadata": {},
   "source": [
    "## Dependancies"
   ]
  },
  {
   "cell_type": "code",
   "execution_count": 45,
   "metadata": {},
   "outputs": [],
   "source": [
    "import re\n",
    "import os \n",
    "import sys\n",
    "from urllib.request import urlopen\n",
    "import requests\n",
    "import pprint\n",
    "import math\n"
   ]
  },
  {
   "cell_type": "code",
   "execution_count": 46,
   "metadata": {},
   "outputs": [],
   "source": [
    "import nltk\n",
    "from nltk import sent_tokenize\n",
    "from nltk import word_tokenize\n",
    "from nltk.grammar import DependencyGrammar\n",
    "from nltk.parse import CoreNLPParser\n",
    "from nltk.stem import PorterStemmer\n",
    "from nltk.stem import LancasterStemmer\n",
    "\n"
   ]
  },
  {
   "cell_type": "code",
   "execution_count": 47,
   "metadata": {},
   "outputs": [],
   "source": [
    "import numpy as np\n",
    "import pandas as pd\n",
    "from sklearn.feature_extraction.text import CountVectorizer\n",
    "from sklearn.feature_extraction.text import TfidfVectorizer\n",
    "from sklearn.feature_extraction.text import TfidfTransformer\n",
    "from sklearn.metrics.pairwise import cosine_similarity"
   ]
  },
  {
   "cell_type": "markdown",
   "metadata": {},
   "source": [
    "## Functions"
   ]
  },
  {
   "cell_type": "code",
   "execution_count": 48,
   "metadata": {},
   "outputs": [],
   "source": [
    "def conversation(im):\n",
    "    global tfidf, answers, X_tfidf\n",
    "    Y_vec = vectorizer.transform(im)\n",
    "    Y_tfidf = tfidf.fit_transform(Y_vec)\n",
    "    cos_sim = np.rad2deg(np.arccos(max(cosine_similarity(Y_tfidf, X_tfidf)[0])))\n",
    "    if cos_sim > 60 :\n",
    "        return \"sorry, I did not quite understand that\"\n",
    "    else:\n",
    "        return answers[np.argmax(cosine_similarity(Y_tfidf, X_tfidf)[0])]"
   ]
  },
  {
   "cell_type": "code",
   "execution_count": 49,
   "metadata": {},
   "outputs": [],
   "source": [
    "def main():\n",
    "    usr = input(\"Please enter your username: \")\n",
    "    print(\"support: Hi \" + usr + \", welcome to Q&A support. How can I help you?\")\n",
    "    while True:\n",
    "        im = input(\"{}: \".format(usr)) # get the input query\n",
    "        if im.lower() == 'bye':\n",
    "            print(\"Q&A support: bye!\")\n",
    "            break\n",
    "        else:\n",
    "            print(\"Q&A support: \"+conversation([im]))"
   ]
  },
  {
   "cell_type": "code",
   "execution_count": 50,
   "metadata": {},
   "outputs": [],
   "source": [
    "questions = ['is this cover the one that fits the old nook color? which i believe is 8x5.',\n",
    " 'does it fit nook glowlight?',\n",
    " 'would it fit nook 1st edition? 4.9in x 7.7in ?',\n",
    " \"will this fit a nook color that's 5 x 8?\",\n",
    " 'will this fit the samsung galaxy tab 4 nook 10.1']\n"
   ]
  },
  {
   "cell_type": "code",
   "execution_count": 51,
   "metadata": {},
   "outputs": [],
   "source": [
    "answers = ['yes this fits both the nook color and the same-shaped nook tablet',\n",
    " 'no. the nook color or color tablet',\n",
    " \"i don't think so. the nook color is 5 x 8 so not sure anything smaller would stay locked in, but would be close.\",\n",
    " 'yes',\n",
    " \"no, the tab is smaller than the 'color'\"]"
   ]
  },
  {
   "cell_type": "code",
   "execution_count": 52,
   "metadata": {},
   "outputs": [
    {
     "data": {
      "text/plain": [
       "<5x18 sparse matrix of type '<class 'numpy.int64'>'\n",
       "\twith 26 stored elements in Compressed Sparse Row format>"
      ]
     },
     "execution_count": 52,
     "metadata": {},
     "output_type": "execute_result"
    }
   ],
   "source": [
    "vectorizer = CountVectorizer(stop_words='english')\n",
    "X_vec = vectorizer.fit_transform(questions)\n",
    "X_vec"
   ]
  },
  {
   "cell_type": "code",
   "execution_count": 53,
   "metadata": {},
   "outputs": [
    {
     "data": {
      "text/plain": [
       "<5x18 sparse matrix of type '<class 'numpy.float64'>'\n",
       "\twith 26 stored elements in Compressed Sparse Row format>"
      ]
     },
     "execution_count": 53,
     "metadata": {},
     "output_type": "execute_result"
    }
   ],
   "source": [
    "tfidf = TfidfTransformer()\n",
    "X_tfidf = tfidf.fit_transform(X_vec)\n",
    "X_tfidf"
   ]
  },
  {
   "cell_type": "code",
   "execution_count": 54,
   "metadata": {},
   "outputs": [
    {
     "name": "stdout",
     "output_type": "stream",
     "text": [
      "support: Hi jim, welcome to Q&A support. How can I help you?\n",
      "Q&A support: yes\n",
      "Q&A support: sorry, I did not quite understand that\n",
      "Q&A support: bye!\n"
     ]
    }
   ],
   "source": [
    "main()"
   ]
  }
 ],
 "metadata": {
  "interpreter": {
   "hash": "6a7267efbf6fadf323e6919ae49483da79d63800eb323ed7cd34ea2e36e2688e"
  },
  "kernelspec": {
   "display_name": "Python 3.8.6 64-bit ('venv': venv)",
   "language": "python",
   "name": "python3"
  },
  "language_info": {
   "codemirror_mode": {
    "name": "ipython",
    "version": 3
   },
   "file_extension": ".py",
   "mimetype": "text/x-python",
   "name": "python",
   "nbconvert_exporter": "python",
   "pygments_lexer": "ipython3",
   "version": "3.8.6"
  },
  "orig_nbformat": 4
 },
 "nbformat": 4,
 "nbformat_minor": 2
}
