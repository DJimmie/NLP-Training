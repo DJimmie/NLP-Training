{
 "cells": [
  {
   "cell_type": "markdown",
   "metadata": {},
   "source": [
    "# Cosine Similarity"
   ]
  },
  {
   "cell_type": "markdown",
   "metadata": {},
   "source": [
    "## Dependances"
   ]
  },
  {
   "cell_type": "code",
   "execution_count": 283,
   "metadata": {},
   "outputs": [],
   "source": [
    "import re\n",
    "import os \n",
    "import sys\n",
    "from urllib.request import urlopen\n",
    "import requests\n",
    "import pprint\n",
    "import math\n"
   ]
  },
  {
   "cell_type": "code",
   "execution_count": 284,
   "metadata": {},
   "outputs": [],
   "source": [
    "import nltk\n",
    "from nltk import sent_tokenize\n",
    "from nltk import word_tokenize\n",
    "from nltk.grammar import DependencyGrammar\n",
    "from nltk.parse import CoreNLPParser\n",
    "\n"
   ]
  },
  {
   "cell_type": "code",
   "execution_count": 285,
   "metadata": {},
   "outputs": [],
   "source": [
    "from bs4 import BeautifulSoup\n",
    "import pandas as pd\n",
    "import seaborn as sns"
   ]
  },
  {
   "cell_type": "code",
   "execution_count": 286,
   "metadata": {},
   "outputs": [],
   "source": [
    "import numpy as np\n",
    "import pandas as pd\n",
    "from sklearn.feature_extraction.text import CountVectorizer\n",
    "from sklearn.feature_extraction.text import TfidfVectorizer"
   ]
  },
  {
   "cell_type": "code",
   "execution_count": null,
   "metadata": {},
   "outputs": [],
   "source": []
  },
  {
   "cell_type": "markdown",
   "metadata": {},
   "source": [
    "## Functions"
   ]
  },
  {
   "cell_type": "code",
   "execution_count": 287,
   "metadata": {},
   "outputs": [],
   "source": [
    "def get_text():\n",
    "    with open(\"../data/t1.txt\") as f:   \n",
    "        text = f.read()\n",
    "\n",
    "    sentences=sent_tokenize(text)\n",
    "    print(f'Number of sentences:{len(sentences)}')\n",
    "    return sentences"
   ]
  },
  {
   "cell_type": "code",
   "execution_count": 288,
   "metadata": {},
   "outputs": [],
   "source": [
    "def cosine_similarity(vector1, vector2):\n",
    "    vector1 = np.array(vector1)\n",
    "    vector2 = np.array(vector2)\n",
    "    return np.dot(vector1, vector2) / (np.sqrt(np.sum(vector1**2)) * np.sqrt(np.sum(vector2**2)))"
   ]
  },
  {
   "cell_type": "code",
   "execution_count": 289,
   "metadata": {},
   "outputs": [],
   "source": [
    "def get_dataframe(data,headers):\n",
    "\n",
    "    df = pd.DataFrame(data)\n",
    "    df.columns=headers\n",
    "\n",
    "    return df\n",
    "\n"
   ]
  },
  {
   "cell_type": "markdown",
   "metadata": {},
   "source": [
    "## Cosine similarity of 2 vectors"
   ]
  },
  {
   "cell_type": "code",
   "execution_count": 290,
   "metadata": {},
   "outputs": [
    {
     "name": "stdout",
     "output_type": "stream",
     "text": [
      "[5 0 5 6 3 9 8 7 5 6]\n",
      "[3 0 2 4 6 9 8 5 2 1]\n"
     ]
    }
   ],
   "source": [
    "d1 = (5,0,5,6,3,9,8,7,5,6)\n",
    "d2 = (3,0,2,4,6,9,8,5,2,1)\n",
    "d1 = np.array(d1)\n",
    "d2 = np.array(d2)\n",
    "print(d1)\n",
    "print(d2)\n"
   ]
  },
  {
   "cell_type": "code",
   "execution_count": 291,
   "metadata": {},
   "outputs": [
    {
     "data": {
      "text/plain": [
       "0.9074362105351957"
      ]
     },
     "execution_count": 291,
     "metadata": {},
     "output_type": "execute_result"
    }
   ],
   "source": [
    "cosine_similarity(d1, d2)"
   ]
  },
  {
   "cell_type": "markdown",
   "metadata": {},
   "source": [
    "## Finding cosine similarity between documents in a corpus"
   ]
  },
  {
   "cell_type": "code",
   "execution_count": 292,
   "metadata": {},
   "outputs": [
    {
     "name": "stdout",
     "output_type": "stream",
     "text": [
      "Number of sentences:10\n"
     ]
    }
   ],
   "source": [
    "text = get_text()"
   ]
  },
  {
   "cell_type": "code",
   "execution_count": 293,
   "metadata": {},
   "outputs": [
    {
     "data": {
      "text/plain": [
       "0    The oxygen tanks are made of lnconel (a nickel...\n",
       "1    The cryogenic (ultra low temperature) tanks su...\n",
       "2    The fuel sump tank occupies almost all of the ...\n",
       "3    The Eagles are not going to the super bowl thi...\n",
       "4           How do I purge the oxygen fuel cell lines?\n",
       "5    Which breaker do I use to shutoff the fuel cel...\n",
       "6    The Marine Corps has been part of the U.S. Dep...\n",
       "7    From their inception during the American Revol...\n",
       "8    The U.S. Armed Forces are considered the world...\n",
       "9    The hydrogen tanks are made of brass and are a...\n",
       "dtype: object"
      ]
     },
     "execution_count": 293,
     "metadata": {},
     "output_type": "execute_result"
    }
   ],
   "source": [
    "corpus = pd.Series(text)\n",
    "corpus"
   ]
  },
  {
   "cell_type": "code",
   "execution_count": 294,
   "metadata": {},
   "outputs": [],
   "source": [
    "vectorizer = CountVectorizer(stop_words='english')\n",
    "bow_matrix = vectorizer.fit_transform(corpus)"
   ]
  },
  {
   "cell_type": "code",
   "execution_count": 295,
   "metadata": {},
   "outputs": [
    {
     "name": "stdout",
     "output_type": "stream",
     "text": [
      "<class 'scipy.sparse.csr.csr_matrix'>\n"
     ]
    }
   ],
   "source": [
    "bow_matrix\n",
    "print(type(bow_matrix))"
   ]
  },
  {
   "cell_type": "code",
   "execution_count": 296,
   "metadata": {},
   "outputs": [
    {
     "name": "stderr",
     "output_type": "stream",
     "text": [
      "c:\\Users\\dowdj\\OneDrive\\Documents\\GitHub\\NLP-Training\\nltk\\venv\\lib\\site-packages\\sklearn\\utils\\deprecation.py:87: FutureWarning: Function get_feature_names is deprecated; get_feature_names is deprecated in 1.0 and will be removed in 1.2. Please use get_feature_names_out instead.\n",
      "  warnings.warn(msg, category=FutureWarning)\n"
     ]
    },
    {
     "data": {
      "text/plain": [
       "['1834',\n",
       " '26',\n",
       " '30',\n",
       " 'alloy',\n",
       " 'american',\n",
       " 'armed',\n",
       " 'bowl',\n",
       " 'brass',\n",
       " 'breaker',\n",
       " 'cell',\n",
       " 'considered',\n",
       " 'control',\n",
       " 'corps',\n",
       " 'cryogenic',\n",
       " 'decisive',\n",
       " 'department',\n",
       " 'diameter',\n",
       " 'eagles',\n",
       " 'environmental',\n",
       " 'forces',\n",
       " 'fuel',\n",
       " 'going',\n",
       " 'history',\n",
       " 'hydrogen',\n",
       " 'inception',\n",
       " 'inches',\n",
       " 'june',\n",
       " 'lines',\n",
       " 'little',\n",
       " 'lnconel',\n",
       " 'low',\n",
       " 'marine',\n",
       " 'military',\n",
       " 'navy',\n",
       " 'nickelsteel',\n",
       " 'occupies',\n",
       " 'oxygen',\n",
       " 'played',\n",
       " 'powerful',\n",
       " 'powerplant',\n",
       " 'powerplants',\n",
       " 'purge',\n",
       " 'revolutionary',\n",
       " 'role',\n",
       " 'sector',\n",
       " 'service',\n",
       " 'shutoff',\n",
       " 'sister',\n",
       " 'space',\n",
       " 'states',\n",
       " 'subsystem',\n",
       " 'sump',\n",
       " 'super',\n",
       " 'supply',\n",
       " 'tank',\n",
       " 'tanks',\n",
       " 'temperature',\n",
       " 'ultra',\n",
       " 'united',\n",
       " 'use',\n",
       " 'war',\n",
       " 'world',\n",
       " 'year']"
      ]
     },
     "execution_count": 296,
     "metadata": {},
     "output_type": "execute_result"
    }
   ],
   "source": [
    "feature_names_count = vectorizer.get_feature_names()\n",
    "feature_names_count"
   ]
  },
  {
   "cell_type": "code",
   "execution_count": 297,
   "metadata": {},
   "outputs": [
    {
     "data": {
      "text/plain": [
       "array([[0, 1, 0, 1, 0, 0, 0, 0, 0, 0, 0, 0, 0, 0, 0, 0, 1, 0, 0, 0, 0, 0,\n",
       "        0, 0, 0, 1, 0, 0, 1, 1, 0, 0, 0, 0, 1, 0, 1, 0, 0, 0, 0, 0, 0, 0,\n",
       "        0, 0, 0, 0, 0, 0, 0, 0, 0, 0, 0, 1, 0, 0, 0, 0, 0, 0, 0],\n",
       "       [0, 0, 0, 0, 0, 0, 0, 0, 0, 1, 0, 1, 0, 1, 0, 0, 0, 0, 1, 0, 1, 0,\n",
       "        0, 1, 0, 0, 0, 0, 0, 0, 1, 0, 0, 0, 0, 0, 2, 0, 0, 0, 1, 0, 0, 0,\n",
       "        0, 0, 0, 0, 0, 0, 1, 0, 0, 1, 0, 1, 1, 1, 0, 0, 0, 0, 0],\n",
       "       [0, 0, 0, 0, 0, 0, 0, 0, 0, 0, 0, 0, 0, 0, 0, 0, 0, 0, 0, 0, 1, 0,\n",
       "        0, 0, 0, 0, 0, 0, 0, 0, 0, 0, 0, 0, 0, 1, 0, 0, 0, 0, 0, 0, 0, 0,\n",
       "        1, 0, 0, 0, 1, 0, 0, 1, 0, 0, 1, 0, 0, 0, 0, 0, 0, 0, 0],\n",
       "       [0, 0, 0, 0, 0, 0, 1, 0, 0, 0, 0, 0, 0, 0, 0, 0, 0, 1, 0, 0, 0, 1,\n",
       "        0, 0, 0, 0, 0, 0, 0, 0, 0, 0, 0, 0, 0, 0, 0, 0, 0, 0, 0, 0, 0, 0,\n",
       "        0, 0, 0, 0, 0, 0, 0, 0, 1, 0, 0, 0, 0, 0, 0, 0, 0, 0, 1],\n",
       "       [0, 0, 0, 0, 0, 0, 0, 0, 0, 1, 0, 0, 0, 0, 0, 0, 0, 0, 0, 0, 1, 0,\n",
       "        0, 0, 0, 0, 0, 1, 0, 0, 0, 0, 0, 0, 0, 0, 1, 0, 0, 0, 0, 1, 0, 0,\n",
       "        0, 0, 0, 0, 0, 0, 0, 0, 0, 0, 0, 0, 0, 0, 0, 0, 0, 0, 0],\n",
       "       [0, 0, 0, 0, 0, 0, 0, 0, 1, 1, 0, 0, 0, 0, 0, 0, 0, 0, 0, 0, 1, 0,\n",
       "        0, 0, 0, 0, 0, 0, 0, 0, 0, 0, 0, 0, 0, 0, 0, 0, 0, 1, 0, 0, 0, 0,\n",
       "        0, 0, 1, 0, 0, 0, 0, 0, 0, 0, 0, 0, 0, 0, 0, 1, 0, 0, 0],\n",
       "       [1, 0, 1, 0, 0, 0, 0, 0, 0, 0, 0, 0, 1, 0, 0, 1, 0, 0, 0, 0, 0, 0,\n",
       "        0, 0, 0, 0, 1, 0, 0, 0, 0, 1, 0, 2, 0, 0, 0, 0, 0, 0, 0, 0, 0, 0,\n",
       "        0, 1, 0, 1, 0, 1, 0, 0, 0, 0, 0, 0, 0, 0, 1, 0, 0, 0, 0],\n",
       "       [0, 0, 0, 0, 1, 1, 0, 0, 0, 0, 0, 0, 0, 0, 1, 0, 0, 0, 0, 1, 0, 0,\n",
       "        1, 0, 1, 0, 0, 0, 0, 0, 0, 0, 0, 0, 0, 0, 0, 1, 0, 0, 0, 0, 1, 1,\n",
       "        0, 0, 0, 0, 0, 1, 0, 0, 0, 0, 0, 0, 0, 0, 1, 0, 1, 0, 0],\n",
       "       [0, 0, 0, 0, 0, 1, 0, 0, 0, 0, 1, 0, 0, 0, 0, 0, 0, 0, 0, 1, 0, 0,\n",
       "        0, 0, 0, 0, 0, 0, 0, 0, 0, 0, 1, 0, 0, 0, 0, 0, 1, 0, 0, 0, 0, 0,\n",
       "        0, 0, 0, 0, 0, 0, 0, 0, 0, 0, 0, 0, 0, 0, 0, 0, 0, 1, 0],\n",
       "       [0, 1, 0, 0, 0, 0, 0, 1, 0, 0, 0, 0, 0, 0, 0, 0, 1, 0, 0, 0, 0, 0,\n",
       "        0, 1, 0, 1, 0, 0, 1, 0, 0, 0, 0, 0, 0, 0, 0, 0, 0, 0, 0, 0, 0, 0,\n",
       "        0, 0, 0, 0, 0, 0, 0, 0, 0, 0, 0, 1, 0, 0, 0, 0, 0, 0, 0]],\n",
       "      dtype=int64)"
      ]
     },
     "execution_count": 297,
     "metadata": {},
     "output_type": "execute_result"
    }
   ],
   "source": [
    "features_array_count = bow_matrix.toarray()\n",
    "features_array_count"
   ]
  },
  {
   "cell_type": "code",
   "execution_count": 298,
   "metadata": {},
   "outputs": [
    {
     "data": {
      "text/plain": [
       "(10, 63)"
      ]
     },
     "execution_count": 298,
     "metadata": {},
     "output_type": "execute_result"
    }
   ],
   "source": [
    "bow_matrix.shape"
   ]
  },
  {
   "cell_type": "code",
   "execution_count": 299,
   "metadata": {},
   "outputs": [
    {
     "name": "stdout",
     "output_type": "stream",
     "text": [
      "The cosine similarity between the documents 0, and 1 is: 0.242535625036333 (angle: 75.964 degrees)\n",
      "The cosine similarity between the documents 0, and 2 is: 0.0 (angle: 90.0 degrees)\n",
      "The cosine similarity between the documents 0, and 3 is: 0.0 (angle: 90.0 degrees)\n",
      "The cosine similarity between the documents 0, and 4 is: 0.14907119849998599 (angle: 81.427 degrees)\n",
      "The cosine similarity between the documents 0, and 5 is: 0.0 (angle: 90.0 degrees)\n",
      "The cosine similarity between the documents 0, and 6 is: 0.0 (angle: 90.0 degrees)\n",
      "The cosine similarity between the documents 0, and 7 is: 0.0 (angle: 90.0 degrees)\n",
      "The cosine similarity between the documents 0, and 8 is: 0.0 (angle: 90.0 degrees)\n",
      "The cosine similarity between the documents 0, and 9 is: 0.629940788348712 (angle: 50.954 degrees)\n",
      "The cosine similarity between the documents 1, and 2 is: 0.09901475429766744 (angle: 84.318 degrees)\n",
      "The cosine similarity between the documents 1, and 3 is: 0.0 (angle: 90.0 degrees)\n",
      "The cosine similarity between the documents 1, and 4 is: 0.4338609156373123 (angle: 64.287 degrees)\n",
      "The cosine similarity between the documents 1, and 5 is: 0.19802950859533489 (angle: 78.578 degrees)\n",
      "The cosine similarity between the documents 1, and 6 is: 0.0 (angle: 90.0 degrees)\n",
      "The cosine similarity between the documents 1, and 7 is: 0.0 (angle: 90.0 degrees)\n",
      "The cosine similarity between the documents 1, and 8 is: 0.0 (angle: 90.0 degrees)\n",
      "The cosine similarity between the documents 1, and 9 is: 0.18333969940564224 (angle: 79.436 degrees)\n",
      "The cosine similarity between the documents 2, and 3 is: 0.0 (angle: 90.0 degrees)\n",
      "The cosine similarity between the documents 2, and 4 is: 0.18257418583505536 (angle: 79.48 degrees)\n",
      "The cosine similarity between the documents 2, and 5 is: 0.16666666666666669 (angle: 80.406 degrees)\n",
      "The cosine similarity between the documents 2, and 6 is: 0.0 (angle: 90.0 degrees)\n",
      "The cosine similarity between the documents 2, and 7 is: 0.0 (angle: 90.0 degrees)\n",
      "The cosine similarity between the documents 2, and 8 is: 0.0 (angle: 90.0 degrees)\n",
      "The cosine similarity between the documents 2, and 9 is: 0.0 (angle: 90.0 degrees)\n",
      "The cosine similarity between the documents 3, and 4 is: 0.0 (angle: 90.0 degrees)\n",
      "The cosine similarity between the documents 3, and 5 is: 0.0 (angle: 90.0 degrees)\n",
      "The cosine similarity between the documents 3, and 6 is: 0.0 (angle: 90.0 degrees)\n",
      "The cosine similarity between the documents 3, and 7 is: 0.0 (angle: 90.0 degrees)\n",
      "The cosine similarity between the documents 3, and 8 is: 0.0 (angle: 90.0 degrees)\n",
      "The cosine similarity between the documents 3, and 9 is: 0.0 (angle: 90.0 degrees)\n",
      "The cosine similarity between the documents 4, and 5 is: 0.3651483716701107 (angle: 68.583 degrees)\n",
      "The cosine similarity between the documents 4, and 6 is: 0.0 (angle: 90.0 degrees)\n",
      "The cosine similarity between the documents 4, and 7 is: 0.0 (angle: 90.0 degrees)\n",
      "The cosine similarity between the documents 4, and 8 is: 0.0 (angle: 90.0 degrees)\n",
      "The cosine similarity between the documents 4, and 9 is: 0.0 (angle: 90.0 degrees)\n",
      "The cosine similarity between the documents 5, and 6 is: 0.0 (angle: 90.0 degrees)\n",
      "The cosine similarity between the documents 5, and 7 is: 0.0 (angle: 90.0 degrees)\n",
      "The cosine similarity between the documents 5, and 8 is: 0.0 (angle: 90.0 degrees)\n",
      "The cosine similarity between the documents 5, and 9 is: 0.0 (angle: 90.0 degrees)\n",
      "The cosine similarity between the documents 6, and 7 is: 0.15430334996209194 (angle: 81.124 degrees)\n",
      "The cosine similarity between the documents 6, and 8 is: 0.0 (angle: 90.0 degrees)\n",
      "The cosine similarity between the documents 6, and 9 is: 0.0 (angle: 90.0 degrees)\n",
      "The cosine similarity between the documents 7, and 8 is: 0.23570226039551587 (angle: 76.367 degrees)\n",
      "The cosine similarity between the documents 7, and 9 is: 0.0 (angle: 90.0 degrees)\n",
      "The cosine similarity between the documents 8, and 9 is: 0.0 (angle: 90.0 degrees)\n"
     ]
    }
   ],
   "source": [
    "cs_data=[]\n",
    "for i in range(bow_matrix.shape[0]):\n",
    "    for j in range(i + 1, bow_matrix.shape[0]):\n",
    "        cs=cosine_similarity(bow_matrix.toarray()[i], bow_matrix.toarray()[j])\n",
    "        cs_angle=round(math.degrees(math.acos(cs)),3)\n",
    "\n",
    "        cs_data.append((i,j,cs_angle))\n",
    "\n",
    "        print(f\"The cosine similarity between the documents {i}, and {j} is: {cs} (angle: {cs_angle} degrees)\")\n",
    "\n",
    "\n",
    "\n"
   ]
  },
  {
   "cell_type": "code",
   "execution_count": 300,
   "metadata": {},
   "outputs": [
    {
     "data": {
      "text/html": [
       "<div>\n",
       "<style scoped>\n",
       "    .dataframe tbody tr th:only-of-type {\n",
       "        vertical-align: middle;\n",
       "    }\n",
       "\n",
       "    .dataframe tbody tr th {\n",
       "        vertical-align: top;\n",
       "    }\n",
       "\n",
       "    .dataframe thead th {\n",
       "        text-align: right;\n",
       "    }\n",
       "</style>\n",
       "<table border=\"1\" class=\"dataframe\">\n",
       "  <thead>\n",
       "    <tr style=\"text-align: right;\">\n",
       "      <th></th>\n",
       "      <th>sentence</th>\n",
       "      <th>sentence</th>\n",
       "      <th>cs_angle</th>\n",
       "    </tr>\n",
       "  </thead>\n",
       "  <tbody>\n",
       "    <tr>\n",
       "      <th>8</th>\n",
       "      <td>0</td>\n",
       "      <td>9</td>\n",
       "      <td>50.954</td>\n",
       "    </tr>\n",
       "    <tr>\n",
       "      <th>11</th>\n",
       "      <td>1</td>\n",
       "      <td>4</td>\n",
       "      <td>64.287</td>\n",
       "    </tr>\n",
       "    <tr>\n",
       "      <th>30</th>\n",
       "      <td>4</td>\n",
       "      <td>5</td>\n",
       "      <td>68.583</td>\n",
       "    </tr>\n",
       "    <tr>\n",
       "      <th>0</th>\n",
       "      <td>0</td>\n",
       "      <td>1</td>\n",
       "      <td>75.964</td>\n",
       "    </tr>\n",
       "    <tr>\n",
       "      <th>42</th>\n",
       "      <td>7</td>\n",
       "      <td>8</td>\n",
       "      <td>76.367</td>\n",
       "    </tr>\n",
       "    <tr>\n",
       "      <th>12</th>\n",
       "      <td>1</td>\n",
       "      <td>5</td>\n",
       "      <td>78.578</td>\n",
       "    </tr>\n",
       "    <tr>\n",
       "      <th>16</th>\n",
       "      <td>1</td>\n",
       "      <td>9</td>\n",
       "      <td>79.436</td>\n",
       "    </tr>\n",
       "    <tr>\n",
       "      <th>18</th>\n",
       "      <td>2</td>\n",
       "      <td>4</td>\n",
       "      <td>79.480</td>\n",
       "    </tr>\n",
       "    <tr>\n",
       "      <th>19</th>\n",
       "      <td>2</td>\n",
       "      <td>5</td>\n",
       "      <td>80.406</td>\n",
       "    </tr>\n",
       "    <tr>\n",
       "      <th>39</th>\n",
       "      <td>6</td>\n",
       "      <td>7</td>\n",
       "      <td>81.124</td>\n",
       "    </tr>\n",
       "    <tr>\n",
       "      <th>3</th>\n",
       "      <td>0</td>\n",
       "      <td>4</td>\n",
       "      <td>81.427</td>\n",
       "    </tr>\n",
       "    <tr>\n",
       "      <th>9</th>\n",
       "      <td>1</td>\n",
       "      <td>2</td>\n",
       "      <td>84.318</td>\n",
       "    </tr>\n",
       "    <tr>\n",
       "      <th>38</th>\n",
       "      <td>5</td>\n",
       "      <td>9</td>\n",
       "      <td>90.000</td>\n",
       "    </tr>\n",
       "    <tr>\n",
       "      <th>28</th>\n",
       "      <td>3</td>\n",
       "      <td>8</td>\n",
       "      <td>90.000</td>\n",
       "    </tr>\n",
       "    <tr>\n",
       "      <th>29</th>\n",
       "      <td>3</td>\n",
       "      <td>9</td>\n",
       "      <td>90.000</td>\n",
       "    </tr>\n",
       "    <tr>\n",
       "      <th>41</th>\n",
       "      <td>6</td>\n",
       "      <td>9</td>\n",
       "      <td>90.000</td>\n",
       "    </tr>\n",
       "    <tr>\n",
       "      <th>31</th>\n",
       "      <td>4</td>\n",
       "      <td>6</td>\n",
       "      <td>90.000</td>\n",
       "    </tr>\n",
       "    <tr>\n",
       "      <th>33</th>\n",
       "      <td>4</td>\n",
       "      <td>8</td>\n",
       "      <td>90.000</td>\n",
       "    </tr>\n",
       "    <tr>\n",
       "      <th>34</th>\n",
       "      <td>4</td>\n",
       "      <td>9</td>\n",
       "      <td>90.000</td>\n",
       "    </tr>\n",
       "    <tr>\n",
       "      <th>35</th>\n",
       "      <td>5</td>\n",
       "      <td>6</td>\n",
       "      <td>90.000</td>\n",
       "    </tr>\n",
       "    <tr>\n",
       "      <th>27</th>\n",
       "      <td>3</td>\n",
       "      <td>7</td>\n",
       "      <td>90.000</td>\n",
       "    </tr>\n",
       "    <tr>\n",
       "      <th>36</th>\n",
       "      <td>5</td>\n",
       "      <td>7</td>\n",
       "      <td>90.000</td>\n",
       "    </tr>\n",
       "    <tr>\n",
       "      <th>40</th>\n",
       "      <td>6</td>\n",
       "      <td>8</td>\n",
       "      <td>90.000</td>\n",
       "    </tr>\n",
       "    <tr>\n",
       "      <th>37</th>\n",
       "      <td>5</td>\n",
       "      <td>8</td>\n",
       "      <td>90.000</td>\n",
       "    </tr>\n",
       "    <tr>\n",
       "      <th>32</th>\n",
       "      <td>4</td>\n",
       "      <td>7</td>\n",
       "      <td>90.000</td>\n",
       "    </tr>\n",
       "    <tr>\n",
       "      <th>26</th>\n",
       "      <td>3</td>\n",
       "      <td>6</td>\n",
       "      <td>90.000</td>\n",
       "    </tr>\n",
       "    <tr>\n",
       "      <th>22</th>\n",
       "      <td>2</td>\n",
       "      <td>8</td>\n",
       "      <td>90.000</td>\n",
       "    </tr>\n",
       "    <tr>\n",
       "      <th>24</th>\n",
       "      <td>3</td>\n",
       "      <td>4</td>\n",
       "      <td>90.000</td>\n",
       "    </tr>\n",
       "    <tr>\n",
       "      <th>1</th>\n",
       "      <td>0</td>\n",
       "      <td>2</td>\n",
       "      <td>90.000</td>\n",
       "    </tr>\n",
       "    <tr>\n",
       "      <th>2</th>\n",
       "      <td>0</td>\n",
       "      <td>3</td>\n",
       "      <td>90.000</td>\n",
       "    </tr>\n",
       "    <tr>\n",
       "      <th>4</th>\n",
       "      <td>0</td>\n",
       "      <td>5</td>\n",
       "      <td>90.000</td>\n",
       "    </tr>\n",
       "    <tr>\n",
       "      <th>5</th>\n",
       "      <td>0</td>\n",
       "      <td>6</td>\n",
       "      <td>90.000</td>\n",
       "    </tr>\n",
       "    <tr>\n",
       "      <th>6</th>\n",
       "      <td>0</td>\n",
       "      <td>7</td>\n",
       "      <td>90.000</td>\n",
       "    </tr>\n",
       "    <tr>\n",
       "      <th>7</th>\n",
       "      <td>0</td>\n",
       "      <td>8</td>\n",
       "      <td>90.000</td>\n",
       "    </tr>\n",
       "    <tr>\n",
       "      <th>10</th>\n",
       "      <td>1</td>\n",
       "      <td>3</td>\n",
       "      <td>90.000</td>\n",
       "    </tr>\n",
       "    <tr>\n",
       "      <th>13</th>\n",
       "      <td>1</td>\n",
       "      <td>6</td>\n",
       "      <td>90.000</td>\n",
       "    </tr>\n",
       "    <tr>\n",
       "      <th>14</th>\n",
       "      <td>1</td>\n",
       "      <td>7</td>\n",
       "      <td>90.000</td>\n",
       "    </tr>\n",
       "    <tr>\n",
       "      <th>15</th>\n",
       "      <td>1</td>\n",
       "      <td>8</td>\n",
       "      <td>90.000</td>\n",
       "    </tr>\n",
       "    <tr>\n",
       "      <th>17</th>\n",
       "      <td>2</td>\n",
       "      <td>3</td>\n",
       "      <td>90.000</td>\n",
       "    </tr>\n",
       "    <tr>\n",
       "      <th>20</th>\n",
       "      <td>2</td>\n",
       "      <td>6</td>\n",
       "      <td>90.000</td>\n",
       "    </tr>\n",
       "    <tr>\n",
       "      <th>21</th>\n",
       "      <td>2</td>\n",
       "      <td>7</td>\n",
       "      <td>90.000</td>\n",
       "    </tr>\n",
       "    <tr>\n",
       "      <th>43</th>\n",
       "      <td>7</td>\n",
       "      <td>9</td>\n",
       "      <td>90.000</td>\n",
       "    </tr>\n",
       "    <tr>\n",
       "      <th>23</th>\n",
       "      <td>2</td>\n",
       "      <td>9</td>\n",
       "      <td>90.000</td>\n",
       "    </tr>\n",
       "    <tr>\n",
       "      <th>25</th>\n",
       "      <td>3</td>\n",
       "      <td>5</td>\n",
       "      <td>90.000</td>\n",
       "    </tr>\n",
       "    <tr>\n",
       "      <th>44</th>\n",
       "      <td>8</td>\n",
       "      <td>9</td>\n",
       "      <td>90.000</td>\n",
       "    </tr>\n",
       "  </tbody>\n",
       "</table>\n",
       "</div>"
      ],
      "text/plain": [
       "    sentence  sentence  cs_angle\n",
       "8          0         9    50.954\n",
       "11         1         4    64.287\n",
       "30         4         5    68.583\n",
       "0          0         1    75.964\n",
       "42         7         8    76.367\n",
       "12         1         5    78.578\n",
       "16         1         9    79.436\n",
       "18         2         4    79.480\n",
       "19         2         5    80.406\n",
       "39         6         7    81.124\n",
       "3          0         4    81.427\n",
       "9          1         2    84.318\n",
       "38         5         9    90.000\n",
       "28         3         8    90.000\n",
       "29         3         9    90.000\n",
       "41         6         9    90.000\n",
       "31         4         6    90.000\n",
       "33         4         8    90.000\n",
       "34         4         9    90.000\n",
       "35         5         6    90.000\n",
       "27         3         7    90.000\n",
       "36         5         7    90.000\n",
       "40         6         8    90.000\n",
       "37         5         8    90.000\n",
       "32         4         7    90.000\n",
       "26         3         6    90.000\n",
       "22         2         8    90.000\n",
       "24         3         4    90.000\n",
       "1          0         2    90.000\n",
       "2          0         3    90.000\n",
       "4          0         5    90.000\n",
       "5          0         6    90.000\n",
       "6          0         7    90.000\n",
       "7          0         8    90.000\n",
       "10         1         3    90.000\n",
       "13         1         6    90.000\n",
       "14         1         7    90.000\n",
       "15         1         8    90.000\n",
       "17         2         3    90.000\n",
       "20         2         6    90.000\n",
       "21         2         7    90.000\n",
       "43         7         9    90.000\n",
       "23         2         9    90.000\n",
       "25         3         5    90.000\n",
       "44         8         9    90.000"
      ]
     },
     "execution_count": 300,
     "metadata": {},
     "output_type": "execute_result"
    }
   ],
   "source": [
    "cs_df=get_dataframe(cs_data,['sentence','sentence', 'cs_angle'])\n",
    "cs_df.sort_values(by=['cs_angle'], inplace=True)\n",
    "cs_df"
   ]
  },
  {
   "cell_type": "code",
   "execution_count": null,
   "metadata": {},
   "outputs": [],
   "source": []
  }
 ],
 "metadata": {
  "interpreter": {
   "hash": "6a7267efbf6fadf323e6919ae49483da79d63800eb323ed7cd34ea2e36e2688e"
  },
  "kernelspec": {
   "display_name": "Python 3.8.6 64-bit ('venv': venv)",
   "language": "python",
   "name": "python3"
  },
  "language_info": {
   "codemirror_mode": {
    "name": "ipython",
    "version": 3
   },
   "file_extension": ".py",
   "mimetype": "text/x-python",
   "name": "python",
   "nbconvert_exporter": "python",
   "pygments_lexer": "ipython3",
   "version": "3.8.6"
  },
  "orig_nbformat": 4
 },
 "nbformat": 4,
 "nbformat_minor": 2
}
